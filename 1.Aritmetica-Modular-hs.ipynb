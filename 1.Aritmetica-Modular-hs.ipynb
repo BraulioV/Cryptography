{
 "cells": [
  {
   "cell_type": "markdown",
   "metadata": {},
   "source": [
    "# Aritmética modular\n",
    "\n",
    "## Ejercicio 1\n",
    "\n",
    "Implementa el algoritmo extendido de Euclides para el cálculo del máximo común divisor: dados dos enteros $a$ y $b$, encuentra $u, v ∈ \\mathbb{Z}$ tales que $au + bv$ es el máximo común divisor de $a$ y $b$."
   ]
  },
  {
   "cell_type": "code",
   "execution_count": 1,
   "metadata": {
    "collapsed": false
   },
   "outputs": [
    {
     "data": {
      "text/plain": [
       "[38,32,-45]"
      ]
     },
     "metadata": {},
     "output_type": "display_data"
    }
   ],
   "source": [
    "ext_euclides :: Integral a => a -> a -> [a]\n",
    "ext_euclides a b = ext_euclides' a b\n",
    "\n",
    "ext_euclides' :: Integral a => a -> a -> [a]\n",
    "ext_euclides' a 0 = [a, 1, 0]\n",
    "ext_euclides' 0 b = [b, 0, 1]\n",
    "ext_euclides' a b = [d, m, n - (a `div` b) * m]\n",
    "    where\n",
    "        [d,n,m] = ext_euclides' b (a `mod` b)\n",
    "\n",
    "ext_euclides 4864 3458"
   ]
  },
  {
   "cell_type": "markdown",
   "metadata": {},
   "source": [
    "En el código podemos ver como la función `ext_euclides` recibe como parámetros de entrada dos enteros $a$ y $b$ y devuelve el máximo común divisor, seguidos por $u$ y $v$. \n",
    "\n",
    "La función sigue el ejemplo de código del algoritmo _2.107_ de [A. Menezes, P. van Oorschot, and S. Vanstone, Handbook of Applied Cryptography, CRC Press, 1996.](http://cacr.uwaterloo.ca/hac/about/chap2.pdf)\n",
    "\n",
    "## Ejercicio 2\n",
    "\n",
    "Usando el ejercicio anterior, escribe una función que calcule $a^{-1} \\bmod b$ para cualesquiera $a, b$ enteros que sean primos relativos."
   ]
  },
  {
   "cell_type": "code",
   "execution_count": 2,
   "metadata": {
    "collapsed": false
   },
   "outputs": [
    {
     "data": {
      "text/plain": [
       "-2"
      ]
     },
     "metadata": {},
     "output_type": "display_data"
    }
   ],
   "source": [
    "inverse :: Integral a => a -> a -> a\n",
    "inverse a b = ext_euclides a b !! 1 \n",
    "\n",
    "inverse 2 5"
   ]
  },
  {
   "cell_type": "markdown",
   "metadata": {},
   "source": [
    "A partir del código del ejercicio 1, en caso de que exista inversa en $\\mathbb{Z}_n$, obtendremos lo siguiente: $$d = au + bv$$ En caso de que $a$ tenga inversa en $\\mathbb{Z}_n$, tendremos que $\\text{mcd}(a,n) = 1$. Por tanto, por la identidad de Bezout, tenemos que existen $u$ y $v$ (coeficientes de Bezout) tal que: $$1 = ua + vn$$\n",
    "\n",
    "Por tanto, si estamos en el espacio $\\mathbb{Z}_n$, tenemos que $$ \\begin{matrix}1 = ua + vn & =& ua + 0 \\\\ & \\Rightarrow & ua & a \\in \\mathcal{U}(\\mathbb{Z}_n)\\\\  u & = & a^{-1} \\end{matrix}$$\n",
    "\n",
    "Para devolver el inverso correcto, devolveremos $u \\bmod n$.\n",
    "\n",
    "## Ejercicio 3\n",
    "\n",
    "Escribe una función que calcule $a^b \\bmod n$ para cualesquiera $a, b\\text{ y } n$. La implementación debe tener en cuenta la representación binaria de $b$."
   ]
  },
  {
   "cell_type": "code",
   "execution_count": 3,
   "metadata": {
    "collapsed": false
   },
   "outputs": [
    {
     "data": {
      "text/plain": [
       "16"
      ]
     },
     "metadata": {},
     "output_type": "display_data"
    }
   ],
   "source": [
    "big_pow :: Integral a => a -> a -> a -> a\n",
    "big_pow _ 0 _ = 1\n",
    "big_pow a b n = pow a b 1 n\n",
    "\n",
    "pow :: Integral a => a -> a -> a -> a -> a\n",
    "pow _ 0 p _ = p\n",
    "pow a b p n \n",
    "        | b `mod` 2 == 1 = pow (a*a `mod` n) (b `div` 2) ((p * a) `mod` n) n\n",
    "        | otherwise      = pow (a*a `mod` n) (b `div` 2) p n\n",
    "\n",
    "        \n",
    "big_pow 156187561565735418 43498489489156978415674 23"
   ]
  },
  {
   "cell_type": "markdown",
   "metadata": {},
   "source": [
    "Para calcular $a^b \\bmod n$, podemos tomar como base que, el exponente $b$ puede escribirse en binario como $b = b_0b_1\\ldots b_k$ tal que $b_i = 0\\;|\\;1$. A partir de esto, podemos definir $b$ como $b = \\sum_{i=0}^k b_i\\cdot2^i$.\n",
    "\n",
    "Entonces, la expresión $a^b$ se puede expresar como: $$a^b = a^{\\sum_{i=0}^k b_i\\cdot2^i} = \\prod a^{b_i2^i} = \\prod \\left(a ^{2^i}\\right)^{b_i}$$\n",
    "\n",
    "Con esto podemos ver que el valor del producto se incrementará cuando el valor de $b_i = 1$, elevándose el valor del producto al cuadrado.\n",
    "\n",
    "Una forma de realizar este cálculo, es la que aparece en el código, y es ir realizando las operaciones $b_i = b \\bmod 2; \\quad b = \\lfloor b | 2 \\rfloor$, e ir siempre incrementando el valor de $a$ como $a = a^2 \\bmod n$. El valor del producto, denotado como $p$, se incrementará cuando el valor de $b = 1$, tal que $p = (p \\cdot a)\\bmod n$.\n",
    "\n",
    "## Ejercicio 4\n",
    "\n",
    "Dado un entero $p$, escribe una función para determinar si $p$ es probablemente primo usando el método de Miller-Rabin."
   ]
  },
  {
   "cell_type": "code",
   "execution_count": 4,
   "metadata": {
    "collapsed": false
   },
   "outputs": [
    {
     "data": {
      "text/plain": [
       "True"
      ]
     },
     "metadata": {},
     "output_type": "display_data"
    },
    {
     "data": {
      "text/plain": [
       "True"
      ]
     },
     "metadata": {},
     "output_type": "display_data"
    },
    {
     "data": {
      "text/plain": [
       "False"
      ]
     },
     "metadata": {},
     "output_type": "display_data"
    },
    {
     "data": {
      "text/plain": [
       "True"
      ]
     },
     "metadata": {},
     "output_type": "display_data"
    },
    {
     "data": {
      "text/plain": [
       "True"
      ]
     },
     "metadata": {},
     "output_type": "display_data"
    }
   ],
   "source": [
    "import System.Random\n",
    "import System.IO.Unsafe\n",
    "import Data.List\n",
    "\n",
    "-- Descompone un número p tal que p = 2^s * u\n",
    "bifactor :: Integral a => a -> [a]\n",
    "bifactor num = bifactor' num 0\n",
    "\n",
    "bifactor' :: Integral a => a -> a -> [a]\n",
    "bifactor' 0 s = [s, 1]\n",
    "bifactor' a0 s \n",
    "    | a0 `mod` 2 == 0 = bifactor' (a0 `div` 2) (s + 1)  -- si a | b => s+=1 y comprobamos con a / 2\n",
    "    | otherwise       = [s, a0]                         -- en caso contario, devolvemos s y u\n",
    "\n",
    "\n",
    "miller_rabin :: (Integral a, Random a) => a -> Bool\n",
    "miller_rabin p \n",
    "    | p == 2 || p == 3                   = True  -- primos menores que 5\n",
    "    | p == 4 || p < 2 || p `mod` 2 == 0  = False -- es 4 o menor que 4 \n",
    "    | otherwise                          = test_mr p l\n",
    "    where\n",
    "        s_u = bifactor (p - 1)  -- Descomponemos p - 1 = 2^s * u --> [s, u]\n",
    "        a = unsafePerformIO $ randomRIO (2, p - 2) -- obtenemos una semilla aleatoria para el test\n",
    "        l = map (\\x -> big_pow a (2^x * s_u !! 1) p) [0..s_u !! 0] -- y construimos la lista\n",
    "\n",
    "        test_mr :: (Integral a) => a -> [a] -> Bool\n",
    "        test_mr p l\n",
    "            -- Primer elemento de la lista es 1 o -1\n",
    "            | (head l) == 1 || (head l) == (p - 1)                 = True  -- Probablemente primo\n",
    "            -- Si -1 está en la lista y no es el último elemento\n",
    "            | (p - 1) `elem` l && (last l /= p - 1)                = True  -- Probablemente primo\n",
    "            -- Ninguna de las potencias es igual a 1\n",
    "            | not (1 `elem` l)                                     = False -- No es primo\n",
    "            -- Si aparece un 1 en la lista no precedido de un -1\n",
    "            | 1 `elem` l && (last $ takeWhile (/= 1) l) /= (p - 1) = False -- No es primo\n",
    "            -- En otro caso\n",
    "            | otherwise                                            = False -- No es primo\n",
    "\n",
    "miller_rabin_test :: (Integral a, Random a) => a -> Int -> Bool\n",
    "-- Realiza un and con las n salidas del test de Miller-Rabin\n",
    "miller_rabin_test p n = and $ replicate n (miller_rabin p)  \n",
    "\n",
    "miller_rabin_test 123456789101119 10\n",
    "miller_rabin_test 127973 10\n",
    "miller_rabin_test 127972 10\n",
    "miller_rabin_test 123456789101119 10\n",
    "miller_rabin_test 28564333765949 10"
   ]
  },
  {
   "cell_type": "markdown",
   "metadata": {},
   "source": [
    "El test de Miller-Rabin lo realiza la función `miller_rabin`. Esta función se encarga de dado un \"primo\" $p$, se encarga de descomponer $p-1$ en $p-1 = 2^s\\cdot u$. \n",
    "\n",
    "Con esto compone la lista $l = [a^{2^0u}, a^{2^0u}, \\ldots, a^{2^su}]$, siendo $a \\in_R [2, \\ldots, p - 2]$ y pasamos a comprobar las condiciones de ser ___probablemente primo___ o ___no primo___:\n",
    "* Si el primer elemento de $l$ es 1 o -1, $p$ será probablemente primo.\n",
    "* Si no aparece 1 en $l$, es no primo, ya que no supera el test de Fermat.\n",
    "* Si aparece un 1 no precedido de -1, es no primo, ya que existe un raíz cuadrada de 1 que no es ni 1 ni -1.\n",
    "* Si aparece un -1 en $l$, es probablemente primo, ya que el siguiente elemento en la lista será 1.\n",
    "\n",
    "## Ejercicio 5\n",
    "\n",
    "Implementa el algoritmo paso enano-paso gigante para el cálculo de algoritmos discretos en $\\mathbb{Z}_p$."
   ]
  },
  {
   "cell_type": "code",
   "execution_count": 5,
   "metadata": {
    "collapsed": false
   },
   "outputs": [
    {
     "data": {
      "text/plain": [
       "[10]"
      ]
     },
     "metadata": {},
     "output_type": "display_data"
    }
   ],
   "source": [
    "-- Función para devolver el índice como un entero\n",
    "-- en vez de un Maybe Int con elemIndex\n",
    "indexOf :: (Integral a) => a -> [a] -> a\n",
    "indexOf y xs = index y xs 0\n",
    "    \n",
    "index :: (Integral a) => a -> [a] -> a -> a\n",
    "index _ [] n            = -1 \n",
    "index y (x:xs) n\n",
    "            | y /= x    = index y xs n + 1 \n",
    "            | otherwise = n\n",
    "\n",
    "baby_pass_giant_pass :: (Integral a, Random a) => a -> a -> a -> [a]\n",
    "baby_pass_giant_pass _ 1 _ = [0] -- Si b == 1, devolvemos un 0\n",
    "baby_pass_giant_pass a b p \n",
    "    -- Si es primo, devolvemos los ks que cumplen a^k = b en Z_p\n",
    "    | (miller_rabin_test p 5) = ks\n",
    "    | otherwise               = []\n",
    "    where\n",
    "        s = ceiling $ sqrt $ fromIntegral (p-1)\n",
    "        -- Calculamos el paso gigante => L\n",
    "        big_pass = map (\\x -> big_pow a (x * s) p) [1..s] \n",
    "        -- Calculamos el paso pequeño => l\n",
    "        low_pass = map (\\x -> (b * a^x) `mod` p ) [0..s - 1] \n",
    "        -- Realizamos la intersección de L y l y \n",
    "        -- calculamos para la lista resultante\n",
    "        -- para cada k en ks => k = cs - r\n",
    "        ks = map (\\x -> ((indexOf x big_pass) + 1) * s - \n",
    "            (indexOf x low_pass)) (intersect big_pass low_pass)\n",
    "        \n",
    "baby_pass_giant_pass 6 32 41"
   ]
  },
  {
   "cell_type": "markdown",
   "metadata": {},
   "source": [
    "La función realiza el cálculo del algoritmo paso enano-paso gigante, comprobando primero que $p$ es primo. En caso de no serlo, devuelve un valor nulo. En caso de que sea primo, comprueba si $b = 1$ o no. Si lo es, devuelve $k = 0$ ya que $a^0 = 1$. En caso contrario pasamos a realizar el algoritmo paso enano-paso gigante:\n",
    "* __Paso gigante__: calcularemos la lista $L$ como $L = [a^s, a^{2s}, \\ldots, a^{ss}]$, donde en cada paso, se multiplica el valor anterior por $a^s$.\n",
    "* __Paso enano__: calcularemos la lista $l$ como $l = [b, ba, \\ldots, ba^{s-1}]$, donde en cada paso, multiplicamos el valor anterior por $a$.\n",
    "\n",
    "Si $L \\cap l \\neq \\emptyset$, existe al menos un $k$ tal que $a^k = b$ con $a,b \\in \\mathbb{Z}_p$. Además, tenemos que $$a^{cs}\\in L \\quad = \\quad ba^r \\in l$$ por lo tanto $k = cs - r$.\n",
    "\n",
    "La función `map` se encarga de calcular el exponente $k$ para todos los elementos que aparecen de la intersección de $L$ (*big_pass*) y $l$ (*low\\_pass*), y nos devuelve la lista con todos los $k$ calculados. En caso de que la intersección sea vacía, devuelve una lista vacía.\n",
    "\n",
    "## Ejercicio 6\n",
    "\n",
    "Sea $n = pq$, con $p$ y $q$ enteros primos positivos.\n",
    "* Escribe una función que, dado un entero $a$ y un primo $p$ con $\\left(\\frac{a}{p}\\right) = 1$, devuelva $r$ tal que $r^2 \\equiv a \\bmod p$; primero te hará falta implentar el símbolo de Jacobi.\n",
    "* Sea $a$ un entero que es residuo cuadrático módulo $p$ y $q$. Usa el teorema chino de los restos para calcular todas las raíces cuadradas de $a$ módulo $p$ y $q$."
   ]
  },
  {
   "cell_type": "code",
   "execution_count": 6,
   "metadata": {
    "collapsed": false,
    "scrolled": true
   },
   "outputs": [
    {
     "data": {
      "text/plain": [
       "-1"
      ]
     },
     "metadata": {},
     "output_type": "display_data"
    }
   ],
   "source": [
    "jacobi :: Integral a => a -> a -> a\n",
    "jacobi a p \n",
    "    | a > p      = jacobi (a `mod` p) p\n",
    "    | u > 0      = ((-1) ^ (((p^2) - 1) `div` 8)) * jacobi' s p\n",
    "    | otherwise  = jacobi' s p\n",
    "        where\n",
    "            u_s = bifactor a\n",
    "            u   = head u_s\n",
    "            s   = last u_s\n",
    "            jacobi' :: Integral a => a -> a -> a\n",
    "            jacobi' a p \n",
    "                | a == 0      = 0\n",
    "                | a == 1      = 1\n",
    "                | a == -1     = (-1)^((p - 1) `div` 2)\n",
    "                | a `mod` 2 /= 0 && p `mod` 2 /= 0 = jacobi p a\n",
    "                | otherwise                        = jacobi a p\n",
    "                \n",
    "\n",
    "jacobi 1454897 15687"
   ]
  },
  {
   "cell_type": "markdown",
   "metadata": {},
   "source": [
    "En esta función implementamos el símbolo de Jacobi. Esta implementación, aplica las siguientes reglas, prácticamente en el mismo orden de aparición:\n",
    "1. $\\left(\\frac{a}{p}\\right) = \\left(\\frac{a \\bmod p}{p}\\right)$\n",
    "2. $\\left(\\frac{ab}{p}\\right) = \\left(\\frac{a}{p}\\right)\\left(\\frac{b}{p}\\right)$. Esta regla, en particular, lo que hacemos es descomponer el número $n$ en $n = 2^su$, por tanto, esto pasa a ser $$\\left(\\frac{n}{p}\\right) = \\left(\\frac{2^u}{p}\\right)\\left(\\frac{s}{p}\\right)$$\n",
    "3. $\\left(\\frac{2}{p}\\right) = (-1)^\\frac{p^2 - 1}{8}$\n",
    "4. $\\left(\\frac{1}{p}\\right) = 1$\n",
    "5. $\\left(\\frac{1}{p}\\right) = (-1)^\\frac{p-1}{2}$\n",
    "6. $\\left(\\frac{q}{p}\\right)$, si $p$ y $q$ son ambos impares, hacemos lo siguiente: $$ \\left(\\frac{q}{p}\\right) = (-1)^\\frac{(p - 1)(q - 1)}{4}\\left(\\frac{p}{q}\\right) =  \\begin{cases}\n",
    "     - \\left(\\frac{p}{q}\\right) & \\quad \\text{si } p \\equiv q \\equiv 3 \\bmod 4 \\\\\n",
    "    \\left(\\frac{p}{q}\\right) & \\quad \\text{en caso contrario}\\\\\n",
    "  \\end{cases}$$\n",
    "  \n",
    "Esta función calcula el símbolo de Jacobi de forma recursiva, pero no es una recursividad tan fuerte ya que, al descomponer $n$ en $n = 2^su$, aplicamos la regla 3, calculando el símbolo de la primera parte, y ya nos centramos en calcular el símbolo de $\\left(\\frac{u}{p}\\right)$. A continuación, vamos a usar esto para calcular la raíz modular."
   ]
  },
  {
   "cell_type": "code",
   "execution_count": 11,
   "metadata": {
    "collapsed": false
   },
   "outputs": [
    {
     "data": {
      "text/plain": [
       "[482,527]"
      ]
     },
     "metadata": {},
     "output_type": "display_data"
    }
   ],
   "source": [
    "sqrts_mod :: (Integral b) => b -> b -> [b]\n",
    "sqrts_mod a p = sort [sqr, p - sqr]\n",
    "    where\n",
    "        sqr = sqrt_mod a p\n",
    "\n",
    "\n",
    "sqrt_mod :: (Integral b) => b -> b -> b\n",
    "sqrt_mod a p\n",
    "    | jacobi a p /= 1 = error \"No existen raíces para a mod p\" \n",
    "    | u == 1          = big_pow a ((p + 1) `div` 4) p\n",
    "    | otherwise       = search_residual a u s n p\n",
    "        where \n",
    "            u_s = bifactor (p - 1)\n",
    "            u = head u_s\n",
    "            s = last u_s\n",
    "            n =  1 + (last $ takeWhile  (\\x -> (jacobi x p) == 1) [2..p - 1])\n",
    "\n",
    "search_residual :: (Integral b) => b -> b -> b -> b -> b -> b\n",
    "search_residual a u s n p = res r b j inv_a u p\n",
    "    where\n",
    "        r     = big_pow a ((s + 1) `div` 2) p\n",
    "        b     = big_pow n s p\n",
    "        j     = 0\n",
    "        inv_a = inverse a p\n",
    "        res :: (Integral b) => b -> b -> b -> b -> b -> b -> b\n",
    "        res r b j inv_a u p \n",
    "            | j > (u - 2) = r\n",
    "            | (big_pow (inv_a * r^2) (2^(u - 2 -j)) p) == (p - 1) = res ((r * b) `mod` p) (b^2) (j+1) inv_a u p\n",
    "            | otherwise = res r (b^2) (j+1) inv_a u p\n",
    "            \n",
    "sqrts_mod 64 1009"
   ]
  }
 ],
 "metadata": {
  "kernelspec": {
   "display_name": "Haskell",
   "language": "haskell",
   "name": "haskell"
  },
  "language_info": {
   "codemirror_mode": "ihaskell",
   "file_extension": ".hs",
   "name": "haskell",
   "version": "7.10.2"
  }
 },
 "nbformat": 4,
 "nbformat_minor": 0
}
