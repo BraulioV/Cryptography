{
 "cells": [
  {
   "cell_type": "markdown",
   "metadata": {},
   "source": [
    "# Aritmética modular\n",
    "\n",
    "## Ejercicio 1\n",
    "\n",
    "Implementa el algoritmo extendido de Euclides para el cálculo del máximo común divisor: dados dos enteros $a$ y $b$, encuentra $u, v ∈ \\mathbb{Z}$ tales que $au + bv$ es el máximo común divisor de $a$ y $b$."
   ]
  },
  {
   "cell_type": "code",
   "execution_count": 1,
   "metadata": {
    "collapsed": false
   },
   "outputs": [
    {
     "data": {
      "text/plain": [
       "[38,32,-45]"
      ]
     },
     "metadata": {},
     "output_type": "display_data"
    }
   ],
   "source": [
    "ext_euclides :: Int -> Int -> [Int]\n",
    "ext_euclides a b = ext_euclides' a b\n",
    "\n",
    "ext_euclides' :: Int -> Int -> [Int]\n",
    "ext_euclides' a 0 = [a, 1, 0]\n",
    "ext_euclides' 0 b = [b, 0, 1]\n",
    "ext_euclides' a b = [d, m, n - (a `div` b) * m]\n",
    "    where\n",
    "        [d,n,m] = ext_euclides' b (a `mod` b)\n",
    "\n",
    "ext_euclides 4864 3458"
   ]
  }
 ],
 "metadata": {
  "kernelspec": {
   "display_name": "Haskell",
   "language": "haskell",
   "name": "haskell"
  },
  "language_info": {
   "codemirror_mode": "ihaskell",
   "file_extension": ".hs",
   "name": "haskell",
   "version": "7.10.2"
  }
 },
 "nbformat": 4,
 "nbformat_minor": 0
}
