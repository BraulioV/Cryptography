{
 "cells": [
  {
   "cell_type": "markdown",
   "metadata": {
    "deletable": true,
    "editable": true
   },
   "source": [
    "# Aritmética modular\n",
    "\n",
    "## Ejercicio 1\n",
    "\n",
    "Implementa el algoritmo extendido de Euclides para el cálculo del máximo común divisor: dados dos enteros $a$ y $b$, encuentra $u, v ∈ \\mathbb{Z}$ tales que $au + bv$ es el máximo común divisor de $a$ y $b$."
   ]
  },
  {
   "cell_type": "code",
   "execution_count": 1,
   "metadata": {
    "collapsed": false,
    "deletable": true,
    "editable": true
   },
   "outputs": [
    {
     "name": "stdout",
     "output_type": "stream",
     "text": [
      "d =  38  u =  32  v =  -45\n"
     ]
    }
   ],
   "source": [
    "def ext_euclides(a, b):\n",
    "    if b == 0:\n",
    "        return a, 1, 0\n",
    "    else:\n",
    "        u1, u2, v1, v2 = 0, 1, 1, 0\n",
    "        \n",
    "        while b > 0: # Mientras que b sea mayor que 0\n",
    "            q = a // b                                     # a = |_ a / b _|\n",
    "            r, u, v = a - q * b, u2 - q * u1, v2 - q * v1  # r = a - qb, u = u2 - qu1, v = v2 -qv1\n",
    "            a, b, u2, u1, v2, v1 = b, r, u1, u, v1, v      \n",
    "            \n",
    "        return a, u2, v2\n",
    "    \n",
    "\n",
    "d, u, v = ext_euclides(4864, 3458)\n",
    "print(\"d = \", d, \" u = \", u, \" v = \", v)"
   ]
  },
  {
   "cell_type": "markdown",
   "metadata": {
    "deletable": true,
    "editable": true
   },
   "source": [
    "En el código podemos ver como la función `ext_euclides` recibe como parámetros de entrada dos enteros $a$ y $b$ y devuelve el máximo común divisor, seguidos por $u$ y $v$. \n",
    "\n",
    "La función sigue el ejemplo de código del algoritmo _2.107_ de [A. Menezes, P. van Oorschot, and S. Vanstone, Handbook of Applied Cryptography, CRC Press, 1996.](http://cacr.uwaterloo.ca/hac/about/chap2.pdf)\n",
    "\n",
    "## Ejercicio 2\n",
    "\n",
    "Usando el ejercicio anterior, escribe una función que calcule $a^{-1} \\bmod b$ para cualesquiera $a, b$ enteros que sean primos relativos."
   ]
  },
  {
   "cell_type": "code",
   "execution_count": 2,
   "metadata": {
    "collapsed": false,
    "deletable": true,
    "editable": true
   },
   "outputs": [
    {
     "data": {
      "text/plain": [
       "3"
      ]
     },
     "execution_count": 2,
     "metadata": {},
     "output_type": "execute_result"
    }
   ],
   "source": [
    "def inverse(a,b):\n",
    "    return ext_euclides(a,b)[1] % b\n",
    "\n",
    "\n",
    "inverse(2, 5)"
   ]
  },
  {
   "cell_type": "markdown",
   "metadata": {
    "deletable": true,
    "editable": true
   },
   "source": [
    "A partir del código del ejercicio 1, en caso de que exista inversa en $\\mathbb{Z}_n$, obtendremos lo siguiente: $$d = au + bv$$ En caso de que $a$ tenga inversa en $\\mathbb{Z}_n$, tendremos que $\\text{mcd}(a,n) = 1$. Por tanto, por la identidad de Bezout, tenemos que existen $u$ y $v$ (coeficientes de Bezout) tal que: $$1 = ua + vn$$\n",
    "\n",
    "Por tanto, si estamos en el espacio $\\mathbb{Z}_n$, tenemos que $$ \\begin{matrix}1 = ua + vn & =& ua + 0 \\\\ & \\Rightarrow & ua & a \\in \\mathcal{U}(\\mathbb{Z}_n)\\\\  u & = & a^{-1} \\end{matrix}$$\n",
    "\n",
    "Para devolver el inverso correcto, devolveremos $u \\bmod n$\n",
    "\n",
    "## Ejercicio 3\n",
    "\n",
    "Escribe una función que calcule $a^b \\bmod n$ para cualesquiera $a, b\\text{ y } n$. La implementación debe tener en cuenta la representación binaria de $b$."
   ]
  },
  {
   "cell_type": "code",
   "execution_count": 3,
   "metadata": {
    "collapsed": false,
    "deletable": true,
    "editable": true
   },
   "outputs": [
    {
     "data": {
      "text/plain": [
       "3"
      ]
     },
     "execution_count": 3,
     "metadata": {},
     "output_type": "execute_result"
    }
   ],
   "source": [
    "def big_pow(a, b, n):\n",
    "    a0, b0, p = a, b, 1\n",
    "    while b > 0:\n",
    "        # b0 = b mod 2\n",
    "        b0, b, a = b % 2, b // 2, pow(a, 2, n)\n",
    "        \n",
    "        if b0 == 1:\n",
    "            p *= a\n",
    "            p %= n\n",
    "            \n",
    "    return p\n",
    "\n",
    "\n",
    "big_pow(156187561565735418, 43498489489156978415674, 23)"
   ]
  },
  {
   "cell_type": "markdown",
   "metadata": {
    "deletable": true,
    "editable": true
   },
   "source": [
    "Para calcular $a^b \\bmod n$, podemos tomar como base que, el exponente $b$ puede escribirse en binario como $b = b_0b_1\\ldots b_k$ tal que $b_i = 0\\;|\\;1$. A partir de esto, podemos definir $b$ como $b = \\sum_{i=0}^k b_i\\cdot2^i$.\n",
    "\n",
    "Entonces, la expresión $a^b$ se puede expresar como: $$a^b = a^{\\sum_{i=0}^k b_i\\cdot2^i} = \\prod a^{b_i2^i} = \\prod \\left(a ^{2^i}\\right)^{b_i}$$\n",
    "\n",
    "Con esto podemos ver que el valor del producto se incrementará cuando el valor de $b_i = 1$, elevándose el valor del producto al cuadrado.\n",
    "\n",
    "Una forma de realizar este cálculo, es la que aparece en el código, y es ir realizando las operaciones $b_i = b \\bmod 2; \\quad b = \\lfloor b | 2 \\rfloor$, e ir siempre incrementando el valor de $a$ como $a = a^2 \\bmod n$. El valor del producto, denotado como $p$, se incrementará cuando el valor de $b = 1$, tal que $p = (p \\cdot a)\\bmod n$.\n",
    "\n",
    "## Ejercicio 4\n",
    "\n",
    "Dado un entero $p$, escribe una función para determinar si $p$ es probablemente primo usando el método de Miller-Rabin."
   ]
  },
  {
   "cell_type": "code",
   "execution_count": 4,
   "metadata": {
    "collapsed": false,
    "deletable": true,
    "editable": true
   },
   "outputs": [
    {
     "name": "stdout",
     "output_type": "stream",
     "text": [
      "True\n",
      "True\n",
      "False\n",
      "True\n"
     ]
    }
   ],
   "source": [
    "from random import randint\n",
    "from functools import reduce\n",
    "\n",
    "def bifactor(num):\n",
    "    a0, s = num, 0\n",
    "    while a0 > 0 and a0 % 2 == 0:\n",
    "        a0 //= 2\n",
    "        s += 1\n",
    "    return s, a0\n",
    "\n",
    "\n",
    "def miller_rabin(num):\n",
    "    s, u = bifactor(num - 1)   # Calculamos p-1 = 2^s * u\n",
    "    a = randint(2, num - 2)    # a in [2, ..., p - 2]\n",
    "    l = [pow(a, (2**i) * u, num) for i in range(s + 1)] # l = [a^u, a^2u, ..., a^2su] \n",
    "    # Primer elemento de la lista es 1 o -1\n",
    "    if l[0] == 1 or l[0] == num - 1:\n",
    "        return True # Probablemente primo\n",
    "    \n",
    "    # Ninguna de las potencias es igual a 1\n",
    "    elif 1 not in l:\n",
    "        return False # No es primo\n",
    "    \n",
    "    # Si aparece un 1 en la lista no precedido de un -1\n",
    "    elif 1 in l and l[l.index(1)-1] != num - 1:\n",
    "        return False # No primo\n",
    "    \n",
    "    # Si -1 está en la lista\n",
    "    elif num - 1 in l:\n",
    "        return True  # Probablemente primo\n",
    "    \n",
    "    \n",
    "def miller_rabin_test(num, n = 10):\n",
    "    return reduce(lambda x, y: x and y, [miller_rabin(num) for i in range(n)])\n",
    "    \n",
    "print(miller_rabin_test(41)) # Primo conocido\n",
    "print(miller_rabin_test(127973)) # Primo conocido\n",
    "print(miller_rabin_test(127972)) # No primo\n",
    "print(miller_rabin_test(123456789101119)) # Primo conocido"
   ]
  },
  {
   "cell_type": "markdown",
   "metadata": {},
   "source": [
    "El test de Miller-Rabin lo realiza la función `miller_rabin`. Esta función se encarga de dado un \"primo\" $p$, se encarga de descomponer $p-1$ en $p-1 = 2^s\\cdot u$. \n",
    "\n",
    "Con esto compone la lista $l = [a^{2^0u}, a^{2^0u}, \\ldots, a^{2^su}]$, siendo $a \\in_R [2, \\ldots, p - 2]$ y pasamos a comprobar las condiciones de ser ___probablemente primo___ o ___no primo___:\n",
    "* Si el primer elemento de $l$ es 1 o -1, $p$ será probablemente primo.\n",
    "* Si no aparece 1 en $l$, es no primo, ya que no supera el test de Fermat.\n",
    "* Si aparece un 1 no precedido de -1, es no primo, ya que existe un raíz cuadrada de 1 que no es ni 1 ni -1.\n",
    "* Si aparece un -1 en $l$, es probablemente primo, ya que el siguiente elemento en la lista será 1.\n",
    "\n",
    "## Ejercicio 5\n",
    "\n",
    "Implementa el algoritmo paso enano-paso gigante para el cálculo de algoritmos discretos en $\\mathbb{Z}_p$."
   ]
  },
  {
   "cell_type": "code",
   "execution_count": 5,
   "metadata": {
    "collapsed": false
   },
   "outputs": [
    {
     "data": {
      "text/plain": [
       "[10]"
      ]
     },
     "execution_count": 5,
     "metadata": {},
     "output_type": "execute_result"
    }
   ],
   "source": [
    "from math import sqrt, ceil\n",
    "from time import time\n",
    "\n",
    "def baby_pass_giant_pass(a, b, p):\n",
    "    # Si p es primo\n",
    "    if miller_rabin_test(p):\n",
    "        # Buscamos k tal que a^k = b, con a,b in Z_p\n",
    "        if b == 1:\n",
    "            return 0 # k = 0\n",
    "        \n",
    "        else:\n",
    "            # Si k existe -> k = cs -r; 0 <= r < s; 1 <= c <= s\n",
    "            s = ceil(sqrt(p - 1))\n",
    "            # giant pass\n",
    "            L = [pow(a, i*s, p) for i in range(1, s + 1)]\n",
    "            # baby pass\n",
    "            l = [(b * a**i) % p for i in range(s)]\n",
    "            # calculamos la intersección entre L y l\n",
    "            ks = list(filter(lambda x: x in L, l))\n",
    "            # calculamos los k\n",
    "            for k in ks:\n",
    "                yield (L.index(k) + 1) * s - l.index(k)\n",
    "    \n",
    "    else:\n",
    "        print(\"p =\", p, \"no es primo.\")\n",
    "    \n",
    "    return None\n",
    "\n",
    "list(baby_pass_giant_pass(6, 32, 41))"
   ]
  },
  {
   "cell_type": "markdown",
   "metadata": {
    "collapsed": true
   },
   "source": [
    "La función realiza el cálculo del algoritmo paso enano-paso gigante, comprobando primero que $p$ es primo. En caso de no serlo, devuelve un valor nulo. En caso de que sea primo, comprueba si $b = 1$ o no. Si lo es, devuelve $k = 0$ ya que $a^0 = 1$. En caso contrario pasamos a realizar el algoritmo paso enano-paso gigante:\n",
    "* __Paso gigante__: calcularemos la lista $L$ como $L = [a^s, a^{2s}, \\ldots, a^{ss}]$, donde en cada paso, se multiplica el valor anterior por $a^s$.\n",
    "* __Paso enano__: calcularemos la lista $l$ como $l = [b, ba, \\ldots, ba^{s-1}]$, donde en cada paso, multiplicamos el valor anterior por $a$.\n",
    "\n",
    "Si $L \\cap l \\neq \\emptyset$, existe al menos un $k$ tal que $a^k = b$ con $a,b \\in \\mathbb{Z}_p$. Además, tenemos que $$a^{cs}\\in L \\quad = \\quad ba^r \\in l$$ por lo tanto $k = cs - r$.\n",
    "\n",
    "Este $k$ es el que se calcula en el bucle `for` de la función. Esta función devuelve un generador, que en Python 3 podemos pasar a lista con la función `list` o ir generándolos uno por uno.\n",
    "\n",
    "## Ejercicio 6\n",
    "\n",
    "Sea $n = pq$, con $p$ y $q$ enteros primos positivos.\n",
    "* Escribe una función que, dado un entero $a$ y un primo $p$ con $\\left(\\frac{a}{p}\\right) = 1$, devuelva $r$ tal que $r^2 \\equiv a \\bmod p$; primero te hará falta implentar el símbolo de Jacobi.\n",
    "* Sea $a$ un entero que es residuo cuadrático módulo $p$ y $q$. Usa el teorema chino de los restos para calcular todas las raíces cuadradas de $a$ módulo $p$ y $q$."
   ]
  }
 ],
 "metadata": {
  "kernelspec": {
   "display_name": "Python 3",
   "language": "python",
   "name": "python3"
  },
  "language_info": {
   "codemirror_mode": {
    "name": "ipython",
    "version": 3
   },
   "file_extension": ".py",
   "mimetype": "text/x-python",
   "name": "python",
   "nbconvert_exporter": "python",
   "pygments_lexer": "ipython3",
   "version": "3.6.0"
  }
 },
 "nbformat": 4,
 "nbformat_minor": 2
}
