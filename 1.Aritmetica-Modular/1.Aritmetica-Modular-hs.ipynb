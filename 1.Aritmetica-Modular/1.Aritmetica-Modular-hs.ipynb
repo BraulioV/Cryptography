{
 "cells": [
  {
   "cell_type": "markdown",
   "metadata": {},
   "source": [
    "# Aritmética modular\n",
    "\n",
    "## Ejercicio 1\n",
    "\n",
    "Implementa el algoritmo extendido de Euclides para el cálculo del máximo común divisor: dados dos enteros $a$ y $b$, encuentra $u, v ∈ \\mathbb{Z}$ tales que $au + bv$ es el máximo común divisor de $a$ y $b$."
   ]
  },
  {
   "cell_type": "code",
   "execution_count": 1,
   "metadata": {
    "collapsed": false
   },
   "outputs": [
    {
     "data": {
      "text/plain": [
       "[38,32,-45]"
      ]
     },
     "metadata": {},
     "output_type": "display_data"
    }
   ],
   "source": [
    "ext_euclides :: Integral a => a -> a -> [a]\n",
    "ext_euclides a b = ext_euclides' a b\n",
    "\n",
    "ext_euclides' :: Integral a => a -> a -> [a]\n",
    "ext_euclides' a 0 = [a, 1, 0]\n",
    "ext_euclides' 0 b = [b, 0, 1]\n",
    "ext_euclides' a b = [d, m, n - (a `div` b) * m]\n",
    "    where\n",
    "        [d,n,m] = ext_euclides' b (a `mod` b)\n",
    "\n",
    "ext_euclides 4864 3458"
   ]
  },
  {
   "cell_type": "markdown",
   "metadata": {},
   "source": [
    "En el código podemos ver como la función `ext_euclides` recibe como parámetros de entrada dos enteros $a$ y $b$ y devuelve el máximo común divisor, seguidos por $u$ y $v$. \n",
    "\n",
    "La función sigue el ejemplo de código del algoritmo _2.107_ de [A. Menezes, P. van Oorschot, and S. Vanstone, Handbook of Applied Cryptography, CRC Press, 1996.](http://cacr.uwaterloo.ca/hac/about/chap2.pdf)\n",
    "\n",
    "## Ejercicio 2\n",
    "\n",
    "Usando el ejercicio anterior, escribe una función que calcule $a^{-1} \\bmod b$ para cualesquiera $a, b$ enteros que sean primos relativos."
   ]
  },
  {
   "cell_type": "code",
   "execution_count": 2,
   "metadata": {
    "collapsed": false
   },
   "outputs": [
    {
     "data": {
      "text/plain": [
       "-2"
      ]
     },
     "metadata": {},
     "output_type": "display_data"
    }
   ],
   "source": [
    "inverse :: Integral a => a -> a -> a\n",
    "inverse a b = ext_euclides a b !! 1 \n",
    "\n",
    "inverse 2 5"
   ]
  },
  {
   "cell_type": "markdown",
   "metadata": {},
   "source": [
    "A partir del código del ejercicio 1, en caso de que exista inversa en $\\mathbb{Z}_n$, obtendremos lo siguiente: $$d = au + bv$$ En caso de que $a$ tenga inversa en $\\mathbb{Z}_n$, tendremos que $\\text{mcd}(a,n) = 1$. Por tanto, por la identidad de Bezout, tenemos que existen $u$ y $v$ (coeficientes de Bezout) tal que: $$1 = ua + vn$$\n",
    "\n",
    "Por tanto, si estamos en el espacio $\\mathbb{Z}_n$, tenemos que $$ \\begin{matrix}1 = ua + vn & =& ua + 0 \\\\ & \\Rightarrow & ua & a \\in \\mathcal{U}(\\mathbb{Z}_n)\\\\  u & = & a^{-1} \\end{matrix}$$\n",
    "\n",
    "Para devolver el inverso correcto, devolveremos $u \\bmod n$.\n",
    "\n",
    "## Ejercicio 3\n",
    "\n",
    "Escribe una función que calcule $a^b \\bmod n$ para cualesquiera $a, b\\text{ y } n$. La implementación debe tener en cuenta la representación binaria de $b$."
   ]
  },
  {
   "cell_type": "code",
   "execution_count": 3,
   "metadata": {
    "collapsed": false
   },
   "outputs": [
    {
     "data": {
      "text/plain": [
       "16"
      ]
     },
     "metadata": {},
     "output_type": "display_data"
    }
   ],
   "source": [
    "big_pow :: Integral a => a -> a -> a -> a\n",
    "big_pow _ 0 _ = 1\n",
    "big_pow a b n = pow a b 1 n\n",
    "\n",
    "pow :: Integral a => a -> a -> a -> a -> a\n",
    "pow _ 0 p _ = p\n",
    "pow a b p n \n",
    "        | b `mod` 2 == 1 = pow (a*a `mod` n) (b `div` 2) ((p * a) `mod` n) n\n",
    "        | otherwise      = pow (a*a `mod` n) (b `div` 2) p n\n",
    "\n",
    "        \n",
    "big_pow 156187561565735418 43498489489156978415674 23"
   ]
  },
  {
   "cell_type": "markdown",
   "metadata": {},
   "source": [
    "Para calcular $a^b \\bmod n$, podemos tomar como base que, el exponente $b$ puede escribirse en binario como $b = b_0b_1\\ldots b_k$ tal que $b_i = 0\\;|\\;1$. A partir de esto, podemos definir $b$ como $b = \\sum_{i=0}^k b_i\\cdot2^i$.\n",
    "\n",
    "Entonces, la expresión $a^b$ se puede expresar como: $$a^b = a^{\\sum_{i=0}^k b_i\\cdot2^i} = \\prod a^{b_i2^i} = \\prod \\left(a ^{2^i}\\right)^{b_i}$$\n",
    "\n",
    "Con esto podemos ver que el valor del producto se incrementará cuando el valor de $b_i = 1$, elevándose el valor del producto al cuadrado.\n",
    "\n",
    "Una forma de realizar este cálculo, es la que aparece en el código, y es ir realizando las operaciones $b_i = b \\bmod 2; \\quad b = \\lfloor b | 2 \\rfloor$, e ir siempre incrementando el valor de $a$ como $a = a^2 \\bmod n$. El valor del producto, denotado como $p$, se incrementará cuando el valor de $b = 1$, tal que $p = (p \\cdot a)\\bmod n$.\n",
    "\n",
    "## Ejercicio 4\n",
    "\n",
    "Dado un entero $p$, escribe una función para determinar si $p$ es probablemente primo usando el método de Miller-Rabin."
   ]
  },
  {
   "cell_type": "code",
   "execution_count": 4,
   "metadata": {
    "collapsed": false
   },
   "outputs": [
    {
     "data": {
      "text/plain": [
       "True"
      ]
     },
     "metadata": {},
     "output_type": "display_data"
    },
    {
     "data": {
      "text/plain": [
       "True"
      ]
     },
     "metadata": {},
     "output_type": "display_data"
    },
    {
     "data": {
      "text/plain": [
       "False"
      ]
     },
     "metadata": {},
     "output_type": "display_data"
    },
    {
     "data": {
      "text/plain": [
       "True"
      ]
     },
     "metadata": {},
     "output_type": "display_data"
    },
    {
     "data": {
      "text/plain": [
       "True"
      ]
     },
     "metadata": {},
     "output_type": "display_data"
    }
   ],
   "source": [
    "import System.Random\n",
    "import System.IO.Unsafe\n",
    "import Data.List\n",
    "\n",
    "-- Descompone un número p tal que p = 2^s * u\n",
    "bifactor :: Integral a => a -> [a]\n",
    "bifactor num = bifactor' num 0\n",
    "\n",
    "bifactor' :: Integral a => a -> a -> [a]\n",
    "bifactor' 0 s = [s, 1]\n",
    "bifactor' a0 s \n",
    "    | a0 `mod` 2 == 0 = bifactor' (a0 `div` 2) (s + 1)  -- si a | b => s+=1 y comprobamos con a / 2\n",
    "    | otherwise       = [s, a0]                         -- en caso contario, devolvemos s y u\n",
    "\n",
    "\n",
    "miller_rabin :: (Integral a, Random a) => a -> Bool\n",
    "miller_rabin p \n",
    "    | p == 2 || p == 3                   = True  -- primos menores que 5\n",
    "    | p == 4 || p < 2 || p `mod` 2 == 0  = False -- es 4 o menor que 4 \n",
    "    | otherwise                          = test_mr p l\n",
    "    where\n",
    "        s_u = bifactor (p - 1)  -- Descomponemos p - 1 = 2^s * u --> [s, u]\n",
    "        a = unsafePerformIO $ randomRIO (2, p - 2) -- obtenemos una semilla aleatoria para el test\n",
    "        l = map (\\x -> big_pow a (2^x * s_u !! 1) p) [0..s_u !! 0] -- y construimos la lista\n",
    "\n",
    "        test_mr :: Integral a => a -> [a] -> Bool\n",
    "        test_mr p l\n",
    "            -- Primer elemento de la lista es 1 o -1\n",
    "            | (head l) == 1 || (head l) == (p - 1)                 = True  -- Probablemente primo\n",
    "            -- Si -1 está en la lista y no es el último elemento\n",
    "            | (p - 1) `elem` l && (last l /= p - 1)                = True  -- Probablemente primo\n",
    "            -- Ninguna de las potencias es igual a 1\n",
    "            | not (1 `elem` l)                                     = False -- No es primo\n",
    "            -- Si aparece un 1 en la lista no precedido de un -1\n",
    "            | 1 `elem` l && (last $ takeWhile (/= 1) l) /= (p - 1) = False -- No es primo\n",
    "            -- En otro caso\n",
    "            | otherwise                                            = False -- No es primo\n",
    "\n",
    "miller_rabin_test :: (Integral a, Random a) => a -> Int -> Bool\n",
    "-- Realiza un and con las n salidas del test de Miller-Rabin\n",
    "miller_rabin_test p n = and $ replicate n (miller_rabin p)  \n",
    "\n",
    "miller_rabin_test 123456789101119 10\n",
    "miller_rabin_test 127973 10\n",
    "miller_rabin_test 127972 10\n",
    "miller_rabin_test 123456789101119 10\n",
    "miller_rabin_test 28564333765949 10"
   ]
  },
  {
   "cell_type": "markdown",
   "metadata": {},
   "source": [
    "El test de Miller-Rabin lo realiza la función `miller_rabin`. Esta función se encarga de dado un \"primo\" $p$, se encarga de descomponer $p-1$ en $p-1 = 2^s\\cdot u$. \n",
    "\n",
    "Con esto compone la lista $l = [a^{2^0u}, a^{2^0u}, \\ldots, a^{2^su}]$, siendo $a \\in_R [2, \\ldots, p - 2]$ y pasamos a comprobar las condiciones de ser ___probablemente primo___ o ___no primo___:\n",
    "* Si el primer elemento de $l$ es 1 o -1, $p$ será probablemente primo.\n",
    "* Si no aparece 1 en $l$, es no primo, ya que no supera el test de Fermat.\n",
    "* Si aparece un 1 no precedido de -1, es no primo, ya que existe un raíz cuadrada de 1 que no es ni 1 ni -1.\n",
    "* Si aparece un -1 en $l$, es probablemente primo, ya que el siguiente elemento en la lista será 1.\n",
    "\n",
    "## Ejercicio 5\n",
    "\n",
    "Implementa el algoritmo paso enano-paso gigante para el cálculo de algoritmos discretos en $\\mathbb{Z}_p$."
   ]
  },
  {
   "cell_type": "code",
   "execution_count": 5,
   "metadata": {
    "collapsed": false
   },
   "outputs": [
    {
     "data": {
      "text/plain": [
       "[10]"
      ]
     },
     "metadata": {},
     "output_type": "display_data"
    }
   ],
   "source": [
    "-- Función para devolver el índice como un entero\n",
    "-- en vez de un Maybe Int con elemIndex\n",
    "indexOf :: Integral a => a -> [a] -> a\n",
    "indexOf y xs = index y xs 0\n",
    "    \n",
    "index :: Integral a => a -> [a] -> a -> a\n",
    "index _ [] n            = -1 \n",
    "index y (x:xs) n\n",
    "            | y /= x    = index y xs n + 1 \n",
    "            | otherwise = n\n",
    "\n",
    "baby_pass_giant_pass :: (Integral a, Random a) => a -> a -> a -> [a]\n",
    "baby_pass_giant_pass _ 1 _ = [0] -- Si b == 1, devolvemos un 0\n",
    "baby_pass_giant_pass a b p \n",
    "    -- Si es primo, devolvemos los ks que cumplen a^k = b en Z_p\n",
    "    | (miller_rabin_test p 5) = ks\n",
    "    | otherwise               = []\n",
    "    where\n",
    "        s = ceiling $ sqrt $ fromIntegral (p-1)\n",
    "        -- Calculamos el paso gigante => L\n",
    "        big_pass = map (\\x -> big_pow a (x * s) p) [1..s] \n",
    "        -- Calculamos el paso pequeño => l\n",
    "        low_pass = map (\\x -> (b * a^x) `mod` p ) [0..s - 1] \n",
    "        -- Realizamos la intersección de L y l y \n",
    "        -- calculamos para la lista resultante\n",
    "        -- para cada k en ks => k = cs - r\n",
    "        ks = map (\\x -> ((indexOf x big_pass) + 1) * s - \n",
    "            (indexOf x low_pass)) (intersect big_pass low_pass)\n",
    "        \n",
    "baby_pass_giant_pass 6 32 41"
   ]
  },
  {
   "cell_type": "markdown",
   "metadata": {},
   "source": [
    "La función realiza el cálculo del algoritmo paso enano-paso gigante, comprobando primero que $p$ es primo. En caso de no serlo, devuelve un valor nulo. En caso de que sea primo, comprueba si $b = 1$ o no. Si lo es, devuelve $k = 0$ ya que $a^0 = 1$. En caso contrario pasamos a realizar el algoritmo paso enano-paso gigante:\n",
    "* __Paso gigante__: calcularemos la lista $L$ como $L = [a^s, a^{2s}, \\ldots, a^{ss}]$, donde en cada paso, se multiplica el valor anterior por $a^s$.\n",
    "* __Paso enano__: calcularemos la lista $l$ como $l = [b, ba, \\ldots, ba^{s-1}]$, donde en cada paso, multiplicamos el valor anterior por $a$.\n",
    "\n",
    "Si $L \\cap l \\neq \\emptyset$, existe al menos un $k$ tal que $a^k = b$ con $a,b \\in \\mathbb{Z}_p$. Además, tenemos que $$a^{cs}\\in L \\quad = \\quad ba^r \\in l$$ por lo tanto $k = cs - r$.\n",
    "\n",
    "La función `map` se encarga de calcular el exponente $k$ para todos los elementos que aparecen de la intersección de $L$ (*big_pass*) y $l$ (*low\\_pass*), y nos devuelve la lista con todos los $k$ calculados. En caso de que la intersección sea vacía, devuelve una lista vacía.\n",
    "\n",
    "## Ejercicio 6\n",
    "\n",
    "Sea $n = pq$, con $p$ y $q$ enteros primos positivos.\n",
    "* Escribe una función que, dado un entero $a$ y un primo $p$ con $\\left(\\frac{a}{p}\\right) = 1$, devuelva $r$ tal que $r^2 \\equiv a \\bmod p$; primero te hará falta implentar el símbolo de Jacobi.\n",
    "* Sea $a$ un entero que es residuo cuadrático módulo $p$ y $q$. Usa el teorema chino de los restos para calcular todas las raíces cuadradas de $a$ módulo $p$ y $q$."
   ]
  },
  {
   "cell_type": "code",
   "execution_count": 6,
   "metadata": {
    "collapsed": false,
    "scrolled": true
   },
   "outputs": [
    {
     "data": {
      "text/plain": [
       "1"
      ]
     },
     "metadata": {},
     "output_type": "display_data"
    }
   ],
   "source": [
    "jacobi :: Integral a => a -> a -> a\n",
    "jacobi a p \n",
    "    -- 1. (a / p) = (a mod p / p)\n",
    "    | a > p      = jacobi (a `mod` p) p \n",
    "    -- 2. (ab / p) = (a / p) * (b / p)\n",
    "    -- Esta descomposición se hace descomponiendo n en (2^u)*s\n",
    "    -- y usamos la regla de (2 / p) = (-1)^((p^2 - 1) / 8)\n",
    "    | u > 0      = ((-1) ^ (((p^2) - 1) `div` 8))^u * jacobi' s p\n",
    "    | otherwise  = jacobi' s p\n",
    "        where\n",
    "            u_s = bifactor a\n",
    "            u   = head u_s\n",
    "            s   = last u_s\n",
    "            jacobi' :: Integral a => a -> a -> a\n",
    "            jacobi' a p \n",
    "                | a == 0      = 0  -- Si a = 0, devolvemos 0\n",
    "                | a == 1      = 1  -- Si a = 1, devolvemos 1\n",
    "                | a == -1     = (-1)^((p - 1) `div` 2)   -- Si a = -1, devolvemos (-1)^((p-1)/2)\n",
    "                | a `mod` 2 /= 0 && p `mod` 2 /= 0 = jacobi p a -- Si ambos son impares (p / q) => (q / p)\n",
    "                | otherwise                        = jacobi a p -- En caso contrario, seguimos con (p / q)\n",
    "                \n",
    "\n",
    "jacobi 5 1009"
   ]
  },
  {
   "cell_type": "markdown",
   "metadata": {},
   "source": [
    "En esta función implementamos el símbolo de Jacobi. Esta implementación, aplica las siguientes reglas, prácticamente en el mismo orden de aparición:\n",
    "1. $\\left(\\frac{a}{p}\\right) = \\left(\\frac{a \\bmod p}{p}\\right)$\n",
    "2. $\\left(\\frac{ab}{p}\\right) = \\left(\\frac{a}{p}\\right)\\left(\\frac{b}{p}\\right)$. Esta regla, en particular, lo que hacemos es descomponer el número $n$ en $n = 2^su$, por tanto, esto pasa a ser $$\\left(\\frac{n}{p}\\right) = \\left(\\frac{2^u}{p}\\right)\\left(\\frac{s}{p}\\right)$$\n",
    "3. $\\left(\\frac{2}{p}\\right) = (-1)^\\frac{p^2 - 1}{8}$\n",
    "4. $\\left(\\frac{1}{p}\\right) = 1$\n",
    "5. $\\left(\\frac{1}{p}\\right) = (-1)^\\frac{p-1}{2}$\n",
    "6. $\\left(\\frac{q}{p}\\right)$, si $p$ y $q$ son ambos impares, hacemos lo siguiente: $$ \\left(\\frac{q}{p}\\right) = (-1)^\\frac{(p - 1)(q - 1)}{4}\\left(\\frac{p}{q}\\right) =  \\begin{cases}\n",
    "     - \\left(\\frac{p}{q}\\right) & \\quad \\text{si } p \\equiv q \\equiv 3 \\bmod 4 \\\\\n",
    "    \\left(\\frac{p}{q}\\right) & \\quad \\text{en caso contrario}\\\\\n",
    "  \\end{cases}$$\n",
    "  \n",
    "Esta función calcula el símbolo de Jacobi de forma recursiva, pero no es una recursividad tan fuerte ya que, al descomponer $n$ en $n = 2^su$, aplicamos la regla 3, calculando el símbolo de la primera parte, y ya nos centramos en calcular el símbolo de $\\left(\\frac{u}{p}\\right)$. A continuación, vamos a usar esto para calcular la raíz modular."
   ]
  },
  {
   "cell_type": "code",
   "execution_count": 7,
   "metadata": {
    "collapsed": false
   },
   "outputs": [
    {
     "data": {
      "text/plain": [
       "[8,1001]"
      ]
     },
     "metadata": {},
     "output_type": "display_data"
    }
   ],
   "source": [
    "-- Devuelve las dos raíces de un número a en Z_p\n",
    "sqrts_mod :: Integral b => b -> b -> [b]\n",
    "sqrts_mod a p = sort [sqr, p - sqr] -- Devolvemos la lista ordenada\n",
    "    where\n",
    "        sqr = sqrt_mod a p\n",
    "\n",
    "-- Calcula una de las raíces modulares\n",
    "sqrt_mod :: (Integral b) => b -> b -> b\n",
    "sqrt_mod a p\n",
    "    | jacobi a p /= 1 = error \"No existen raíces para a mod p\" \n",
    "    | u == 1          = big_pow a ((p + 1) `div` 4) p -- Si U = 1, sqrt(b)_p = a^((p + 1) / 4) en Z_p\n",
    "    | otherwise       = search_residual a u s n p -- Buscamos el residuo de forma \"iterativa\"\n",
    "        where \n",
    "            u_s = bifactor (p - 1)  -- Descomponemos p-1 en 2^u s\n",
    "            u = head u_s\n",
    "            s = last u_s\n",
    "            -- Y obtenemos (n / p) == -1\n",
    "            n =  1 + (last $ takeWhile (\\x -> (jacobi x p) == 1) [2..p - 1])\n",
    "\n",
    "-- Busca el residuo de a mod p \n",
    "search_residual :: (Integral b) => b -> b -> b -> b -> b -> b\n",
    "search_residual a u s n p = res r b j inv_a u p\n",
    "    where\n",
    "        -- Inicializamos el algoritmo\n",
    "        r     = big_pow a ((s + 1) `div` 2) p\n",
    "        b     = big_pow n s p\n",
    "        j     = 0\n",
    "        inv_a = inverse a p\n",
    "        -- Buscamos los residuos\n",
    "        res :: (Integral b) => b -> b -> b -> b -> b -> b -> b\n",
    "        res r b j inv_a u p \n",
    "            -- Caso base\n",
    "            | j > (u - 2) = r \n",
    "            -- Si (a^-1 * r^2)^(2 ^ (u - 2 - j)) == -1 => actualizamos el valor de r \n",
    "            -- y seguimos \"iterando\"\n",
    "            | (big_pow (inv_a * r^2) (2^(u - 2 -j)) p) == (p - 1) = res ((r * b) `mod` p) (b^2) (j+1) inv_a u p\n",
    "            -- Si no se da el caso, seguimos iterando\n",
    "            | otherwise = res r (b^2) (j+1) inv_a u p\n",
    "            \n",
    "sqrts_mod 64 1009"
   ]
  },
  {
   "cell_type": "markdown",
   "metadata": {},
   "source": [
    "Una vez que tenemos las raíces en un número $a$ en un cuerpo $\\mathbb{Z}_p$, podemos usar el ___Teorema Chino de los Restos___ para hallar las raíces de un número $a$ en $\\mathbb{Z}_n$, donde $n = p\\cdot q$. Para ello, usaremos las siguientes funciones:"
   ]
  },
  {
   "cell_type": "code",
   "execution_count": 8,
   "metadata": {
    "collapsed": false
   },
   "outputs": [
    {
     "data": {
      "text/plain": [
       "[294,335,362,403]"
      ]
     },
     "metadata": {},
     "output_type": "display_data"
    }
   ],
   "source": [
    "-- Normaliza la congruencia para que sea de la forma\n",
    "-- (x r m) => (1 e f)\n",
    "norm :: (Integral a) => (a, a, a) -> (a, a, a)\n",
    "norm (x, y, m)\n",
    "    | y `mod` d /= 0 = error \"Error: congruencia sin solución\"\n",
    "    | otherwise      = (1, e, f)\n",
    "    where\n",
    "        euc = ext_euclides x m\n",
    "        d = head euc\n",
    "        s = euc !! 1\n",
    "        h = y `div` d\n",
    "        f = m `div` d\n",
    "        e = (h * s) `mod` f\n",
    "        \n",
    "-- Implementa el teorema chino de los restos \n",
    "chinese_remainder :: (Integral a) => (a, a, a) -> (a, a, a) -> a -> a\n",
    "chinese_remainder (x, a, p) (x', b, q) n = sol\n",
    "    where\n",
    "        (x1, a', p') = norm (x, a, p)  -- Normalizamos las congruencias\n",
    "        (x2, b', q') = norm (x', b, q) -- por si fuera necesario\n",
    "        inv_p = inverse p q            -- Calculamos el inverso de p mod q\n",
    "        aux = (b' - a') * inv_p        \n",
    "        sol = (a' + p * aux) `mod` n   -- y obtenemos la solución de la congruencia\n",
    "\n",
    "\n",
    "sqrts_mod_n :: (Integral b) => b -> b -> b -> [b]\n",
    "sqrts_mod_n a p q = sort [root1, root1', root2, root2']\n",
    "    where\n",
    "        sqrts_p = sqrts_mod a p\n",
    "        sqrts_q = sqrts_mod a q\n",
    "        n       = p * q\n",
    "        root1   = chinese_remainder (1, (head sqrts_p), p) (1, (head sqrts_q), q) n\n",
    "        root2   = chinese_remainder (1, (last sqrts_p), p) (1, (head sqrts_q), q) n\n",
    "        root1'  = n - root1\n",
    "        root2'  = n - root2\n",
    "        \n",
    "sqrts_mod_n 8 17 41"
   ]
  },
  {
   "cell_type": "markdown",
   "metadata": {},
   "source": [
    "El cálculo de la raíz cuadrada usando el Teorema Chino de los Restos se realiza calculando las raíces del número $a$ módulo $p$ y $q$ siendo ambos primos. Una vez calculados tendremos: $$ \\sqrt{a}_{\\mathbb{Z}_p} = \\{r_1, r_2\\} \\qquad \\sqrt{a}_{\\mathbb{Z}_q} = \\{r_3, r_4\\} $$\n",
    "\n",
    "Con esto, podemos construir un sistema de congruencias para hallar la raíz de $a$ en $\\mathbb{Z}_n$:$$\\begin{matrix}\n",
    "x&\\equiv r_1 \\bmod p\\\\\n",
    "x&\\equiv r_3 \\bmod q\\\\\n",
    "\\end{matrix}$$\n",
    "\n",
    "Para solucionarlo seguimos los siguientes pasos:$$ x = r_1 + p\\cdot t$$ Sustituimos $x$ por la expresión obtenida en la segunda congruencia: $$\n",
    "\\begin{matrix}\n",
    "r_1 + p\\cdot t & \\equiv & r_3 \\bmod q\\\\\n",
    "p\\cdot t & \\equiv &(r_3 - r_1) \\bmod q\\\\\n",
    "t & \\equiv & (r_3 - r_1)\\cdot p^{-1} \\bmod q\\\\\n",
    "\\end{matrix}$$\n",
    "Por tanto, $t$ queda como $$t = (r_3 - r_1)\\cdot p^{-1} + q\\cdot s$$ Si sustituimos $t$ en la primera expresión, obtenemos $$\\begin{matrix}\n",
    "x &=& r_1 + p\\cdot ((r_3 - r_1)\\cdot p^{-1} + q\\cdot s)\\\\\n",
    "& = & r_1 + p\\cdot ((r_3 - r_1)\\cdot p^{-1}) + ({p\\cdot q\\cdot s)}\\\\\n",
    "& = & r_1 + p\\cdot ((r_3 - r_1)\\cdot p^{-1})\n",
    "\\end{matrix}$$\n",
    "\n",
    "Con esto sólo obtenemos una de las raíces. La otra puede calcularse haciendo el sistema de congruencias con $r_2$ y $r_4$, pero no es necesario ya que esta raíz es la complementaria de la anterior en $\\mathbb{Z}_n$. Las otras dos se calculan planteando un sistema de congruencias con $r_1$ y $r_4$ y calculando el complementario.\n",
    "\n",
    "## Ejercicio 7\n",
    "\n",
    "* Implementa el Método de Fermat para factorización de enteros.\n",
    "* Implementa el algoritmo de factorización $\\rho$ de Pollard"
   ]
  },
  {
   "cell_type": "code",
   "execution_count": 9,
   "metadata": {
    "collapsed": false
   },
   "outputs": [
    {
     "data": {
      "text/plain": [
       "[2389,2659]"
      ]
     },
     "metadata": {},
     "output_type": "display_data"
    },
    {
     "data": {
      "text/plain": [
       "[59,101]"
      ]
     },
     "metadata": {},
     "output_type": "display_data"
    }
   ],
   "source": [
    "fermat :: Integral a => a -> [a]\n",
    "fermat n = fermat' x n\n",
    "    where\n",
    "        --                       _         _\n",
    "        -- valor inicial de x = |  sqrt(n)  |\n",
    "        x       = ceiling $ sqrt (fromIntegral n)\n",
    "\n",
    "fermat' :: Integral a => a -> a -> [a]\n",
    "fermat' x n\n",
    "    -- Si no encontramos solución, devolvemos la lista vacía\n",
    "    | x >= n    = []\n",
    "    -- SI la raíz es entera, devolvemos la factorización\n",
    "    | cond      = [x - high_sqrt, x + high_sqrt]\n",
    "    -- En caso contrario, seguimos buscando\n",
    "    | otherwise = fermat' x' n \n",
    "        where\n",
    "            sqrt_val  = sqrt (fromIntegral (x^2 - n))\n",
    "            low_sqrt  = floor $ sqrt_val\n",
    "            high_sqrt = ceiling $ sqrt_val\n",
    "            cond      = high_sqrt == low_sqrt\n",
    "            x' = x + 1\n",
    "            \n",
    "fermat 6352351\n",
    "fermat 5959"
   ]
  },
  {
   "cell_type": "markdown",
   "metadata": {},
   "source": [
    "El método de Fermat recibe un número $n$ e intenta factorizarlo de manera que, tomando un $x$ y un $y$ que cumplan $$x^2 - y^2 = n$$ Esto se debe a que si se cumple la igualdad anterior, tenemos que $$x^2 - y^2 = \\underbrace{(x-y)(x+y)}_{factores} = n$$ De ser así, $x^2 - n = y^2$ es un cuadrado.\n",
    "\n",
    "Por tanto, para calcular los factores, inicializa el valor de $x = \\lceil \\sqrt{n} \\rceil$ y va comprobando si $x^2 - n$ es un cuadrado, usando el símbolo de Jacobi. En caso de que no lo sea, comprobará con $x + 1$, así hasta que encuentre los factores de $n$."
   ]
  },
  {
   "cell_type": "code",
   "execution_count": 10,
   "metadata": {
    "collapsed": false
   },
   "outputs": [
    {
     "data": {
      "text/plain": [
       "[2389,2659]"
      ]
     },
     "metadata": {},
     "output_type": "display_data"
    },
    {
     "data": {
      "text/plain": [
       "[59,101]"
      ]
     },
     "metadata": {},
     "output_type": "display_data"
    }
   ],
   "source": [
    "pollard :: Integral a => a -> a -> a -> a -> (a -> a) -> a\n",
    "pollard n x y d f\n",
    "    | d == 1    = pollard n x' y' d' f\n",
    "    | d == n    = error \"Error: no se encuentra descomposición para n\"\n",
    "    | otherwise = d\n",
    "    where\n",
    "        x' = f x\n",
    "        y' = f (f y)\n",
    "        d' = head $ ext_euclides (abs (x' - y')) n\n",
    "\n",
    "\n",
    "rho_pollard :: Integral a => a -> a -> [a]\n",
    "rho_pollard n c \n",
    "    | c == 0 || c == -2 = error \"Error: c tiene que ser distinto de 0 y -2\"\n",
    "    | otherwise         = [factor, n `div` factor]\n",
    "    where\n",
    "        f = \\x -> (x^2 + c) `mod` n\n",
    "        --       pollard n x y d f\n",
    "        factor = pollard n 2 2 1 f\n",
    "        \n",
    "rho_pollard 6352351 1\n",
    "rho_pollard 5959 1"
   ]
  },
  {
   "cell_type": "markdown",
   "metadata": {},
   "source": [
    "El algoritmo $\\rho$ de Pollard para la factorización de enteros, va generando dos cadenas de números de forma pseudo-aleatoria, con el fin de descomponer el número $n$ en factores. Estas cadenas de números se generan en base a una función $f$ definida como $$f(x) = x^2 + c \\bmod n$$ donde $n$ es el número a descomponer, $c \\in \\mathbb{Z}\\backslash\\{0, -2\\}$ y $x$ será un número \"aleatorio\" que al inicio del algoritmo tendrá el valor 2, al igual que $y$.\n",
    "\n",
    "La función tendrá un bucle que ciclará hasta que $d \\neq 1$, siendo $d = mcd(|x - y|, n)$. En el bucle, se actualizarán los valores de $x$ e $y$ como $x = f(x)$ e $y = f(f(y))$.\n",
    "\n",
    "En el momento en el que se cumpla la condición de parada, si $d = n$, se devolverá un error, y será necesario probar con otro valor de $c$. En caso contrario, se devolverá el factor encontrado y se calculará el otro como la división de $n$ entre el factor encontrado."
   ]
  }
 ],
 "metadata": {
  "kernelspec": {
   "display_name": "Haskell",
   "language": "haskell",
   "name": "haskell"
  },
  "language_info": {
   "codemirror_mode": "ihaskell",
   "file_extension": ".hs",
   "name": "haskell",
   "version": "7.10.2"
  }
 },
 "nbformat": 4,
 "nbformat_minor": 0
}
