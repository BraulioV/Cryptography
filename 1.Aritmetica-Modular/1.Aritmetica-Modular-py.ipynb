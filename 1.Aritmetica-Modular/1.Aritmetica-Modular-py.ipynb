{
 "cells": [
  {
   "cell_type": "markdown",
   "metadata": {
    "deletable": true,
    "editable": true
   },
   "source": [
    "# Aritmética modular\n",
    "\n",
    "## Ejercicio 1\n",
    "\n",
    "Implementa el algoritmo extendido de Euclides para el cálculo del máximo común divisor: dados dos enteros $a$ y $b$, encuentra $u, v \\in \\mathbb{Z}$ tales que $au + bv$ es el máximo común divisor de $a$ y $b$."
   ]
  },
  {
   "cell_type": "code",
   "execution_count": 1,
   "metadata": {
    "collapsed": false,
    "deletable": true,
    "editable": true
   },
   "outputs": [
    {
     "name": "stdout",
     "output_type": "stream",
     "text": [
      "d =  38  u =  32  v =  -45\n"
     ]
    }
   ],
   "source": [
    "def ext_euclides(a, b):\n",
    "    if b == 0:\n",
    "        return a, 1, 0\n",
    "    else:\n",
    "        u1, u2, v1, v2 = 0, 1, 1, 0\n",
    "        \n",
    "        while b > 0: # Mientras que b sea mayor que 0\n",
    "            q = a // b                                     # a = |_ a / b _|\n",
    "            r, u, v = a - q * b, u2 - q * u1, v2 - q * v1  # r = a - qb, u = u2 - qu1, v = v2 -qv1\n",
    "            a, b, u2, u1, v2, v1 = b, r, u1, u, v1, v      \n",
    "            \n",
    "        return a, u2, v2\n",
    "    \n",
    "\n",
    "d, u, v = ext_euclides(4864, 3458)\n",
    "print(\"d = \", d, \" u = \", u, \" v = \", v)"
   ]
  },
  {
   "cell_type": "markdown",
   "metadata": {
    "deletable": true,
    "editable": true
   },
   "source": [
    "En el código podemos ver como la función `ext_euclides` recibe como parámetros de entrada dos enteros $a$ y $b$ y devuelve el máximo común divisor, seguidos por $u$ y $v$. \n",
    "\n",
    "La función sigue el ejemplo de código del algoritmo _2.107_ de [A. Menezes, P. van Oorschot, and S. Vanstone, Handbook of Applied Cryptography, CRC Press, 1996.](http://cacr.uwaterloo.ca/hac/about/chap2.pdf)\n",
    "\n",
    "## Ejercicio 2\n",
    "\n",
    "Usando el ejercicio anterior, escribe una función que calcule $a^{-1} \\bmod b$ para cualesquiera $a, b$ enteros que sean primos relativos."
   ]
  },
  {
   "cell_type": "code",
   "execution_count": 2,
   "metadata": {
    "collapsed": false,
    "deletable": true,
    "editable": true
   },
   "outputs": [
    {
     "data": {
      "text/plain": [
       "-2"
      ]
     },
     "execution_count": 2,
     "metadata": {},
     "output_type": "execute_result"
    }
   ],
   "source": [
    "def inverse(a,b):\n",
    "    return ext_euclides(a,b)[1]\n",
    "\n",
    "\n",
    "inverse(2, 5)"
   ]
  },
  {
   "cell_type": "markdown",
   "metadata": {
    "deletable": true,
    "editable": true
   },
   "source": [
    "A partir del código del ejercicio 1, en caso de que exista inversa en $\\mathbb{Z}_n$, obtendremos lo siguiente: $$d = au + bv$$ En caso de que $a$ tenga inversa en $\\mathbb{Z}_n$, tendremos que $\\text{mcd}(a,n) = 1$. Por tanto, por la identidad de Bezout, tenemos que existen $u$ y $v$ (coeficientes de Bezout) tal que: $$1 = ua + vn$$\n",
    "\n",
    "Por tanto, si estamos en el espacio $\\mathbb{Z}_n$, tenemos que $$ \\begin{matrix}1 = ua + vn & =& ua + 0 \\\\ & \\Rightarrow & ua & a \\in \\mathcal{U}(\\mathbb{Z}_n)\\\\  u & = & a^{-1} \\end{matrix}$$\n",
    "\n",
    "Para devolver el inverso correcto, devolveremos $u \\bmod n$\n",
    "\n",
    "## Ejercicio 3\n",
    "\n",
    "Escribe una función que calcule $a^b \\bmod n$ para cualesquiera $a, b\\text{ y } n$. La implementación debe tener en cuenta la representación binaria de $b$."
   ]
  },
  {
   "cell_type": "code",
   "execution_count": 3,
   "metadata": {
    "collapsed": false,
    "deletable": true,
    "editable": true
   },
   "outputs": [
    {
     "data": {
      "text/plain": [
       "16"
      ]
     },
     "execution_count": 3,
     "metadata": {},
     "output_type": "execute_result"
    }
   ],
   "source": [
    "def big_pow(a, b, n):\n",
    "    if b == 1:\n",
    "        return a % n\n",
    "    \n",
    "    if a == 1:\n",
    "        return 1\n",
    "    \n",
    "    a0, b0, p = a, b, 1\n",
    "    \n",
    "    while b0 > 0:\n",
    "        # Si el bit está a 1, se incrementa el valor del producto\n",
    "        if b0 % 2 == 1:\n",
    "            p = p * a0\n",
    "            \n",
    "        b0, a0 = b0 // 2, a0*a0%n\n",
    "            \n",
    "    return p % n\n",
    "\n",
    "\n",
    "big_pow(156187561565735418, 43498489489156978415674, 23)"
   ]
  },
  {
   "cell_type": "markdown",
   "metadata": {
    "deletable": true,
    "editable": true
   },
   "source": [
    "Para calcular $a^b \\bmod n$, podemos tomar como base que, el exponente $b$ puede escribirse en binario como $b = b_0b_1\\ldots b_k$ tal que $b_i = 0\\;|\\;1$. A partir de esto, podemos definir $b$ como $b = \\sum_{i=0}^k b_i\\cdot2^i$.\n",
    "\n",
    "Entonces, la expresión $a^b$ se puede expresar como: $$a^b = a^{\\sum_{i=0}^k b_i\\cdot2^i} = \\prod a^{b_i2^i} = \\prod \\left(a ^{2^i}\\right)^{b_i}$$\n",
    "\n",
    "Con esto podemos ver que el valor del producto se incrementará cuando el valor de $b_i = 1$, elevándose el valor del producto al cuadrado.\n",
    "\n",
    "Una forma de realizar este cálculo, es la que aparece en el código, y es ir realizando las operaciones $b_i = b \\bmod 2; \\quad b = \\lfloor b | 2 \\rfloor$, e ir siempre incrementando el valor de $a$ como $a = a^2 \\bmod n$. El valor del producto, denotado como $p$, se incrementará cuando el valor de $b = 1$, tal que $p = (p \\cdot a)\\bmod n$.\n",
    "\n",
    "## Ejercicio 4\n",
    "\n",
    "Dado un entero $p$, escribe una función para determinar si $p$ es probablemente primo usando el método de Miller-Rabin."
   ]
  },
  {
   "cell_type": "code",
   "execution_count": 4,
   "metadata": {
    "collapsed": false,
    "deletable": true,
    "editable": true
   },
   "outputs": [
    {
     "name": "stdout",
     "output_type": "stream",
     "text": [
      "True\n",
      "True\n",
      "False\n",
      "True\n",
      "True\n"
     ]
    }
   ],
   "source": [
    "from random import randint\n",
    "from functools import reduce\n",
    "\n",
    "def bifactor(num):\n",
    "    a0, s = num, 0\n",
    "    while a0 > 0 and a0 % 2 == 0:\n",
    "        a0 //= 2\n",
    "        s += 1\n",
    "    return s, a0\n",
    "\n",
    "\n",
    "def miller_rabin(num):\n",
    "    # primos menores que 5\n",
    "    if num == 2 or num == 3:\n",
    "        return True\n",
    "    # es 4 o menor que 4 o es par mayor que 2\n",
    "    elif num == 4 or num < 2 or num % 2 == 0:\n",
    "        return False\n",
    "    else:\n",
    "        s, u = bifactor(num - 1)   # Calculamos p-1 = 2^s * u\n",
    "        a = randint(2, num - 2)    # a in [2, ..., p - 2]\n",
    "        l = [big_pow(a, (2**i) * u, num) for i in range(s + 1)] # l = [a^u, a^2u, ..., a^2su] \n",
    "        # Primer elemento de la lista es 1 o -1\n",
    "        if l[0] == 1 or l[0] == num - 1:\n",
    "            return True # Probablemente primo\n",
    "\n",
    "        # Ninguna de las potencias es igual a 1\n",
    "        elif 1 not in l:\n",
    "            return False # No es primo\n",
    "\n",
    "        # Si aparece un 1 en la lista no precedido de un -1\n",
    "        elif 1 in l and l[l.index(1)-1] != num - 1:\n",
    "            return False # No primo\n",
    "\n",
    "        # Si -1 está en la lista y no es el último elemento\n",
    "        elif num - 1 in l and l[-1] != num - 1:\n",
    "            return True  # Probablemente primo\n",
    "    \n",
    "    \n",
    "def miller_rabin_test(num, n = 10):\n",
    "    return reduce(lambda x, y: x and y, [miller_rabin(num) for i in range(n)])\n",
    "    \n",
    "print(miller_rabin(41)) # Primo conocido\n",
    "print(miller_rabin_test(127973)) # Primo conocido\n",
    "print(miller_rabin_test(127972)) # No primo\n",
    "print(miller_rabin_test(123456789101119)) # Primo conocido\n",
    "print(miller_rabin_test(28564333765949)) # Primo conocido\n"
   ]
  },
  {
   "cell_type": "markdown",
   "metadata": {
    "deletable": true,
    "editable": true
   },
   "source": [
    "El test de Miller-Rabin lo realiza la función `miller_rabin`. Esta función se encarga de dado un \"primo\" $p$, se encarga de descomponer $p-1$ en $p-1 = 2^s\\cdot u$. \n",
    "\n",
    "Con esto compone la lista $l = [a^{2^0u}, a^{2^0u}, \\ldots, a^{2^su}]$, siendo $a \\in_R [2, \\ldots, p - 2]$ y pasamos a comprobar las condiciones de ser ___probablemente primo___ o ___no primo___:\n",
    "* Si el primer elemento de $l$ es 1 o -1, $p$ será probablemente primo.\n",
    "* Si no aparece 1 en $l$, es no primo, ya que no supera el test de Fermat.\n",
    "* Si aparece un 1 no precedido de -1, es no primo, ya que existe un raíz cuadrada de 1 que no es ni 1 ni -1.\n",
    "* Si aparece un -1 en $l$, es probablemente primo, ya que el siguiente elemento en la lista será 1.\n",
    "\n",
    "## Ejercicio 5\n",
    "\n",
    "Implementa el algoritmo paso enano-paso gigante para el cálculo de logaritmos discretos en $\\mathbb{Z}_p$."
   ]
  },
  {
   "cell_type": "code",
   "execution_count": 5,
   "metadata": {
    "collapsed": false,
    "deletable": true,
    "editable": true
   },
   "outputs": [
    {
     "name": "stdout",
     "output_type": "stream",
     "text": [
      "10\n"
     ]
    }
   ],
   "source": [
    "def isqrt(n):\n",
    "    x = n\n",
    "    y = (x + 1) // 2\n",
    "    while y < x:\n",
    "        x = y\n",
    "        y = (x + n // x) // 2\n",
    "    return x\n",
    "\n",
    "def baby_step_giant_step_original(a, b, p):\n",
    "    # Si p es primo\n",
    "    if miller_rabin_test(p):\n",
    "        # Buscamos k tal que a^k = b, con a,b in Z_p\n",
    "        if b == 1:\n",
    "            return 0 # k = 0\n",
    "        \n",
    "        else:\n",
    "            # Si k existe -> k = cs -r; 0 <= r < s; 1 <= c <= s\n",
    "            s = isqrt(p - 1)\n",
    "            # giant pass\n",
    "            L = [pow(a, i*s, p) for i in range(1, s + 1)]\n",
    "            # baby pass\n",
    "            l = [(b * big_pow(a, i, p)) % p for i in range(s)]\n",
    "            # calculamos la intersección entre L y l\n",
    "            ks = list(filter(lambda x: x in L, l))\n",
    "            # calculamos los k, que en caso de que p\n",
    "            # no sea primitivo, habrá varios k\n",
    "            for k in ks:\n",
    "                yield (L.index(k) + 1) * s - l.index(k)\n",
    "    \n",
    "    else:\n",
    "        print(\"p =\", p, \"no es primo.\")\n",
    "    \n",
    "    return None\n",
    "\n",
    "\n",
    "def baby_step_giant_step(a, b, p):\n",
    "    # Si p es primo\n",
    "    if miller_rabin_test(p):\n",
    "        # Buscamos k tal que a^k = b, con a,b in Z_p\n",
    "        if b == 1:\n",
    "            return 0 # k = 0\n",
    "        \n",
    "        else:\n",
    "            # Si k existe -> k = cs -r; 0 <= r < s; 1 <= c <= s\n",
    "            # s = isqrt(p - 1)\n",
    "            s = isqrt(p)\n",
    "            # baby step\n",
    "            l = {}\n",
    "            for i in range(s):\n",
    "                li = (b * big_pow(a, i, p)) % p\n",
    "                l[li] = i\n",
    "            # giants step\n",
    "            for i in range(1, s + 1):\n",
    "                # giant step\n",
    "                Li = big_pow(a, i*s, p)\n",
    "                # check if Li is on l\n",
    "                li = l.get(Li)\n",
    "                if li:\n",
    "                    return i*s - li\n",
    "            else:\n",
    "                raise ValueError(\"No existe logaritmo para este número\")\n",
    "    else:\n",
    "        raise AttributeError(\"p =\", p, \"no es primo.\")\n",
    "\n",
    "print(baby_step_giant_step(6, 32, 41))\n",
    "# print(baby_step_giant_step(14905, 18471, 46381))"
   ]
  },
  {
   "cell_type": "markdown",
   "metadata": {
    "collapsed": true,
    "deletable": true,
    "editable": true
   },
   "source": [
    "La función realiza el cálculo del algoritmo paso enano-paso gigante, comprobando primero que $p$ es primo. En caso de no serlo, devuelve un valor nulo. En caso de que sea primo, comprueba si $b = 1$ o no. Si lo es, devuelve $k = 0$ ya que $a^0 = 1$. En caso contrario pasamos a realizar el algoritmo paso enano-paso gigante:\n",
    "* __Paso gigante__: calcularemos la lista $L$ como $L = [a^s, a^{2s}, \\ldots, a^{ss}]$, donde en cada paso, se multiplica el valor anterior por $a^s$.\n",
    "* __Paso enano__: calcularemos la lista $l$ como $l = [b, ba, \\ldots, ba^{s-1}]$, donde en cada paso, multiplicamos el valor anterior por $a$. El cálculo del paso enano tal y como viene en el algoritmo original, supone un cuello de botella muy serio en tiempo de ejecución, ya que, en el caso de Python, tiene que calcular primero la potencia $a^i$ donde $a$ puede ser un número tan grande como la entrada e $i$ puede tener a lo más un tamaño de $\\sqrt{len(n)}$, por lo que esta operación, puede ser $\\mathit{O}(n^n)$, lo que lo hace muy lento. La solución es hacer la exponenciación modular implementada anteriormente, y después multiplicar el resultado por $b$ y aplicar el módulo. Esto reduce considerablemente los tiempos de ejecución para números grandes. \n",
    "    Otra optimización que se puede aplicar es cambiar las listas por tablas hash. Esto se debe a que el acceso a un elemento se hace en tiempo $\\mathcal{O}(1)$. Esto nos permite saber de forma muy eficiente si un elemento se encuentra en la lista o no, lo que provoca que, esta versión, sea como mínimo, el doble de rápida que la original.\n",
    "\n",
    "Si $L \\cap l \\neq \\emptyset$, existe al menos un $k$ tal que $a^k = b$ con $a,b \\in \\mathbb{Z}_p$. Además, tenemos que $$a^{cs}\\in L \\quad = \\quad ba^r \\in l$$ por lo tanto $k = cs - r$.\n",
    "\n",
    "Este $k$ es el que se calcula en el bucle `for` de la función. La función original devuelve un generador capaz de devolver todas las posibles soluciones, mientras que la versión optimizada devuelve un único elemento.\n",
    "\n",
    "## Ejercicio 6\n",
    "\n",
    "Sea $n = pq$, con $p$ y $q$ enteros primos positivos.\n",
    "* Escribe una función que, dado un entero $a$ y un primo $p$ con $\\left(\\frac{a}{p}\\right) = 1$, devuelva $r$ tal que $r^2 \\equiv a \\bmod p$; primero te hará falta implentar el símbolo de Jacobi.\n",
    "* Sea $a$ un entero que es residuo cuadrático módulo $p$ y $q$. Usa el teorema chino de los restos para calcular todas las raíces cuadradas de $a$ módulo $p$ y $q$."
   ]
  },
  {
   "cell_type": "code",
   "execution_count": 6,
   "metadata": {
    "collapsed": false,
    "deletable": true,
    "editable": true
   },
   "outputs": [
    {
     "data": {
      "text/plain": [
       "1"
      ]
     },
     "execution_count": 6,
     "metadata": {},
     "output_type": "execute_result"
    }
   ],
   "source": [
    "def Jacobi(a, p):\n",
    "    if p % 2 != 0:\n",
    "        symbol = 1  # inicializamos el símbolo de jacobi\n",
    "        a0 = a % p  # 1: aplicamos (a / p) = (a % p / p)\n",
    "\n",
    "        if a0 == 0:\n",
    "            return 0\n",
    "        elif a0 == 1:\n",
    "            return 1\n",
    "        elif a0 == -1:  # 5: -1 / p) = -1\n",
    "            return ((-1) ** ((p - 1) // 2))\n",
    "\n",
    "        u, s = bifactor(a0)  # 2: (ab / p) = (a / p)*(b / p)\n",
    "\n",
    "        if u > 0:  # 3: (2 / p)  = (-1)**((p^2 - 1)/8)\n",
    "            symbol = ((-1) ** ((p ** 2 - 1) // 8))\n",
    "            if u % 2 == 0:\n",
    "                symbol*=symbol\n",
    "\n",
    "\n",
    "        # se puede descomponer n en a * b\n",
    "        # y son distintos de 1 y -1\n",
    "        # y p es impar\n",
    "        if s == 1:  # 4: (1 / p)  = 1\n",
    "            return symbol\n",
    "\n",
    "        elif s == -1:  # 5: -1 / p) = -1\n",
    "            return symbol * ((-1) ** ((p - 1) // 2))\n",
    "\n",
    "        if p % 2 != 0:  # 6: (q / p)  = (-1)**((p - 1)(q - 1)/4) * (p / q)\n",
    "            return symbol * Jacobi(p, s) * (-1) ** ((p - 1) * (s - 1) // 4)\n",
    "        \n",
    "    else:\n",
    "        raise AttributeError('p tiene que ser impar')\n",
    "\n",
    "# Jacobi(4, 1009)\n",
    "Jacobi(5, 1009)"
   ]
  },
  {
   "cell_type": "markdown",
   "metadata": {
    "deletable": true,
    "editable": true
   },
   "source": [
    "En esta función implementamos el símbolo de Jacobi. Esta implementación, aplica las siguientes reglas, prácticamente en el mismo orden de aparición:\n",
    "1. $\\left(\\frac{a}{p}\\right) = \\left(\\frac{a \\bmod p}{p}\\right)$\n",
    "2. $\\left(\\frac{ab}{p}\\right) = \\left(\\frac{a}{p}\\right)\\left(\\frac{b}{p}\\right)$. Esta regla, en particular, lo que hacemos es descomponer el número $n$ en $n = 2^su$, por tanto, esto pasa a ser $$\\left(\\frac{n}{p}\\right) = \\left(\\frac{2^u}{p}\\right)\\left(\\frac{s}{p}\\right)$$\n",
    "3. $\\left(\\frac{2}{p}\\right) = (-1)^\\frac{p^2 - 1}{8}$\n",
    "4. $\\left(\\frac{1}{p}\\right) = 1$\n",
    "5. $\\left(\\frac{1}{p}\\right) = (-1)^\\frac{p-1}{2}$\n",
    "6. $\\left(\\frac{q}{p}\\right)$, si $p$ y $q$ son ambos impares, hacemos lo siguiente: $$ \\left(\\frac{q}{p}\\right) = (-1)^\\frac{(p - 1)(q - 1)}{4}\\left(\\frac{p}{q}\\right) =  \\begin{cases}\n",
    "     - \\left(\\frac{p}{q}\\right) & \\quad \\text{si } p \\equiv q \\equiv 3 \\bmod 4 \\\\\n",
    "    \\left(\\frac{p}{q}\\right) & \\quad \\text{en caso contrario}\\\\\n",
    "  \\end{cases}$$\n",
    "  \n",
    "Esta función calcula el símbolo de Jacobi de forma recursiva, pero no es una recursividad tan fuerte ya que, al descomponer $n$ en $n = 2^su$, aplicamos la regla 3, calculando el símbolo de la primera parte, y ya nos centramos en calcular el símbolo de $\\left(\\frac{u}{p}\\right)$. A continuación, vamos a usar esto para calcular la raíz modular."
   ]
  },
  {
   "cell_type": "code",
   "execution_count": 7,
   "metadata": {
    "collapsed": false,
    "deletable": true,
    "editable": true
   },
   "outputs": [
    {
     "data": {
      "text/plain": [
       "[8, 1001]"
      ]
     },
     "execution_count": 7,
     "metadata": {},
     "output_type": "execute_result"
    }
   ],
   "source": [
    "def sqrt_mod(a, p):\n",
    "    # si el número tiene raíz en Z_p\n",
    "    if Jacobi(a, p) == 1:\n",
    "        # buscamos un n tal que (n / p) = -1, es decir\n",
    "        # n no es un residuo cuadrático\n",
    "        for n in range(2, p):\n",
    "            if Jacobi(n, p) == -1:\n",
    "                break\n",
    "        else:\n",
    "            raise ValueError(\"Error: no tiene inverso\")\n",
    "            return None\n",
    "        \n",
    "        # Descomponemos p - 1 en 2^su\n",
    "        u, s = bifactor(p - 1)\n",
    "        # si u = 1, hacemos lo siguiente\n",
    "        if u == 1:\n",
    "            return big_pow(a, ((p+1) // 4), p)\n",
    "        # en si u >= 2\n",
    "        elif u >= 2:\n",
    "            r, b, j, inv_a = big_pow(a, ((s+1) // 2), p), big_pow(n, s, p), 0, inverse(a, p)\n",
    "            while j <= u - 2:\n",
    "                if big_pow(inv_a*r**2, 2**(u - 2 - j), p) == p-1:\n",
    "                    r *=b \n",
    "                    r %= p\n",
    "                    \n",
    "                b = b**2 \n",
    "                j+=1\n",
    "            \n",
    "            return r\n",
    "    else:\n",
    "        raise ValueError(\"No tiene raíz cuadrada módulo\", p)\n",
    "        return None\n",
    "\n",
    "# Devuelve las 2 raíces del número a en Z_p\n",
    "def sqrts_mod(a, p):\n",
    "    sqrt = sqrt_mod(a, p)\n",
    "    sol = [sqrt, p - sqrt]\n",
    "    sol.sort()\n",
    "    return sol\n",
    "\n",
    "sqrts_mod(64, 1009)"
   ]
  },
  {
   "cell_type": "markdown",
   "metadata": {
    "deletable": true,
    "editable": true
   },
   "source": [
    "Una vez que tenemos las raíces en un número $a$ en un cuerpo $\\mathbb{Z}_p$, podemos usar el ___Teorema Chino de los Restos___ para hallar las raíces de un número $a$ en $\\mathbb{Z}_n$, donde $n = p\\cdot q$. Para ello, usaremos las siguientes funciones:"
   ]
  },
  {
   "cell_type": "code",
   "execution_count": 8,
   "metadata": {
    "collapsed": false,
    "deletable": true,
    "editable": true
   },
   "outputs": [
    {
     "data": {
      "text/plain": [
       "[294, 335, 362, 403]"
      ]
     },
     "execution_count": 8,
     "metadata": {},
     "output_type": "execute_result"
    }
   ],
   "source": [
    "def norm(cong):\n",
    "    x, y, m = cong # separamos los coeficientes de la congruencia\n",
    "    d, s = ext_euclides(x, m)[0:2] # obtenemos el mcd(x, m)\n",
    "    # Si y mod d es distinto de 0, la congruencia no tiene solución\n",
    "    if y % d != 0: \n",
    "        raise \"Error: congruencia sin solución\"\n",
    "    # en caso contrario, normalizamos la congruencia\n",
    "    else:\n",
    "        # h = |_ y / d _|, f = |_ m / d _|\n",
    "        h, f = y // d, m // d\n",
    "        e = (h * s) % f\n",
    "        return [1, e, f,]\n",
    "    \n",
    "\n",
    "def chinese_remainder(cong1, cong2, n):\n",
    "    # cong1 => ax  = b  mod p => norm(cong1) => x = a mod p\n",
    "    # cong2 => a'x = b' mod q => norm(cong2) => x = b mod q\n",
    "    x1, a, p = norm(cong1)  # x1 = a + p*l\n",
    "    x2, b, q = norm(cong2)  # a + p*l = b mod q\n",
    "                            # p*l = (b - a) mod q\n",
    "    inv_p = inverse(p, q)   # l = (b - a)*p^(-1) mod q\n",
    "    aux = (b-a)*inv_p       # l = (b - a)*p^(-1) + q * s\n",
    "    \n",
    "    return (a + p*aux)%n    # x = a + p * ((b - a)*p^(-1))   ==> mod n\n",
    "\n",
    "\n",
    "def sqrts_mod_n(a, p, q):\n",
    "    sqrts_p, sqrts_q = sqrts_mod(a, p), sqrts_mod(a, q)\n",
    "    n = p*q\n",
    "    # Calculamos solo dos raíces, ya que las otras \n",
    "    # son las complementarias\n",
    "    root1 = chinese_remainder([1, sqrts_p[0], p], [1, sqrts_q[0], q], n)\n",
    "    root2 = chinese_remainder([1, sqrts_p[-1], p], [1, sqrts_q[0], q], n)\n",
    "    return sorted([root1, n - root1, root2, n - root2])\n",
    "    \n",
    "\n",
    "sqrts_mod_n(8, 17, 41)"
   ]
  },
  {
   "cell_type": "markdown",
   "metadata": {
    "deletable": true,
    "editable": true
   },
   "source": [
    "El cálculo de la raíz cuadrada usando el Teorema Chino de los Restos se realiza calculando las raíces del número $a$ módulo $p$ y $q$ siendo ambos primos. Una vez calculados tendremos: $$ \\sqrt{a}_{\\mathbb{Z}_p} = \\{r_1, r_2\\} \\qquad \\sqrt{a}_{\\mathbb{Z}_q} = \\{r_3, r_4\\} $$\n",
    "\n",
    "Con esto, podemos construir un sistema de congruencias para hallar la raíz de $a$ en $\\mathbb{Z}_n$:$$\\begin{matrix}\n",
    "x&\\equiv r_1 \\bmod p\\\\\n",
    "x&\\equiv r_3 \\bmod q\\\\\n",
    "\\end{matrix}$$\n",
    "\n",
    "Para solucionarlo seguimos los siguientes pasos:$$ x = r_1 + p\\cdot t$$ Sustituimos $x$ por la expresión obtenida en la segunda congruencia: $$\n",
    "\\begin{matrix}\n",
    "r_1 + p\\cdot t & \\equiv & r_3 \\bmod q\\\\\n",
    "p\\cdot t & \\equiv &(r_3 - r_1) \\bmod q\\\\\n",
    "t & \\equiv & (r_3 - r_1)\\cdot p^{-1} \\bmod q\\\\\n",
    "\\end{matrix}$$\n",
    "Por tanto, $t$ queda como $$t = (r_3 - r_1)\\cdot p^{-1} + q\\cdot s$$ Si sustituimos $t$ en la primera expresión, obtenemos $$\\begin{matrix}\n",
    "x &=& r_1 + p\\cdot ((r_3 - r_1)\\cdot p^{-1} + q\\cdot s)\\\\\n",
    "& = & r_1 + p\\cdot ((r_3 - r_1)\\cdot p^{-1}) + ({p\\cdot q\\cdot s)}\\\\\n",
    "& = & r_1 + p\\cdot ((r_3 - r_1)\\cdot p^{-1})\n",
    "\\end{matrix}$$\n",
    "\n",
    "Con esto sólo obtenemos una de las raíces. La otra puede calcularse haciendo el sistema de congruencias con $r_2$ y $r_4$, pero no es necesario ya que esta raíz es la complementaria de la anterior en $\\mathbb{Z}_n$. Las otras dos se calculan planteando un sistema de congruencias con $r_1$ y $r_4$ y calculando el complementario.\n",
    "\n",
    "## Ejercicio 7\n",
    "\n",
    "* Implementa el Método de Fermat para factorización de enteros.\n",
    "* Implementa el algoritmo de factorización $\\rho$ de Pollard"
   ]
  },
  {
   "cell_type": "code",
   "execution_count": 9,
   "metadata": {
    "collapsed": false,
    "deletable": true,
    "editable": true
   },
   "outputs": [
    {
     "name": "stdout",
     "output_type": "stream",
     "text": [
      "[2389, 2659]\n",
      "[59, 101]\n"
     ]
    }
   ],
   "source": [
    "def Fermat(n):\n",
    "    #                       _       _\n",
    "    # valor inicial de x = | sqrt(m) |\n",
    "    #\n",
    "    x = isqrt(n) + 1\n",
    "    # mientras que val no sea un cuadrado perfecto\n",
    "    while x < n:\n",
    "        val = x**2 - n\n",
    "        sqrt_val = isqrt(val)\n",
    "        if val == sqrt_val**2:\n",
    "            sqrt_val = int(sqrt_val)\n",
    "            break\n",
    "        x+=1\n",
    "    else:\n",
    "        # Si no lo encuentra, devuelve una lista vacía\n",
    "        return []\n",
    "    return [x - sqrt_val, x + sqrt_val]\n",
    "\n",
    "print(Fermat(6352351))\n",
    "print(Fermat(5959))"
   ]
  },
  {
   "cell_type": "markdown",
   "metadata": {
    "deletable": true,
    "editable": true
   },
   "source": [
    "El método de Fermat recibe un número $n$ e intenta factorizarlo de manera que, tomando un $x$ y un $y$ que cumplan $$x^2 - y^2 = n$$ Esto se debe a que si se cumple la igualdad anterior, tenemos que $$x^2 - y^2 = \\underbrace{(x-y)(x+y)}_{factores} = n$$ De ser así, $x^2 - n = y^2$ es un cuadrado.\n",
    "\n",
    "Por tanto, para calcular los factores, inicializa el valor de $x = \\lceil \\sqrt{n} \\rceil$ y va comprobando si $x^2 - n$ es un cuadrado, usando el símbolo de Jacobi. En caso de que no lo sea, comprobará con $x + 1$, así hasta que encuentre los factores de $n$."
   ]
  },
  {
   "cell_type": "code",
   "execution_count": 10,
   "metadata": {
    "collapsed": false,
    "deletable": true,
    "editable": true
   },
   "outputs": [
    {
     "data": {
      "text/plain": [
       "[2389, 2659]"
      ]
     },
     "execution_count": 10,
     "metadata": {},
     "output_type": "execute_result"
    }
   ],
   "source": [
    "def Pollard(n, c, f):\n",
    "    # Inicializamos los elementos del algoritmo\n",
    "    x, y, d = 2, 2, 1\n",
    "    while d == 1:\n",
    "        x, y = f(x), f(f(y))\n",
    "        d = ext_euclides(abs(x - y), n)[0]\n",
    "    \n",
    "    if d == n:\n",
    "        raise ValueError('No se encuentra descomposición para n con c =' + str(c))\n",
    "    else:\n",
    "        return d\n",
    "    \n",
    "    \n",
    "def ρ_Pollard(n, c = 1):\n",
    "    if c == 0 or c == -2:\n",
    "        raise AttributeError('c tiene que ser distinto de 0 y -2')\n",
    "    f = lambda x: (x**2 + c) % n\n",
    "    factor = Pollard(n, c, f)\n",
    "    return [factor, n // factor]\n",
    "\n",
    "    \n",
    "ρ_Pollard(6352351)"
   ]
  },
  {
   "cell_type": "markdown",
   "metadata": {
    "deletable": true,
    "editable": true
   },
   "source": [
    "El algoritmo $\\rho$ de Pollard para la factorización de enteros, va generando dos cadenas de números de forma pseudo-aleatoria, con el fin de descomponer el número $n$ en factores. Estas cadenas de números se generan en base a una función $f$ definida como $$f(x) = x^2 + c \\bmod n$$ donde $n$ es el número a descomponer, $c \\in \\mathbb{Z}\\backslash\\{0, -2\\}$ y $x$ será un número \"aleatorio\" que al inicio del algoritmo tendrá el valor 2, al igual que $y$.\n",
    "\n",
    "La función tendrá un bucle que ciclará hasta que $d \\neq 1$, siendo $d = mcd(|x - y|, n)$. En el bucle, se actualizarán los valores de $x$ e $y$ como $x = f(x)$ e $y = f(f(y))$.\n",
    "\n",
    "En el momento en el que se cumpla la condición de parada, si $d = n$, se devolverá un error, y será necesario probar con otro valor de $c$. En caso contrario, se devolverá el factor encontrado y se calculará el otro como la división de $n$ entre el factor encontrado.\n",
    "\n",
    "\n",
    "## Ejercicio 8\n",
    "Compara los tiempos de ejecución de tus implementaciones con las de tus compañeros y con las primitivas de algunos paquetes de cálculo simbólico como (GAP, MATHEMATICA, maxima, $\\ldots$)."
   ]
  },
  {
   "cell_type": "code",
   "execution_count": 11,
   "metadata": {
    "collapsed": false,
    "deletable": true,
    "editable": true
   },
   "outputs": [
    {
     "data": {
      "text/html": [
       "<div>\n",
       "<table border=\"1\" class=\"dataframe\">\n",
       "  <thead>\n",
       "    <tr style=\"text-align: right;\">\n",
       "      <th></th>\n",
       "      <th>Case</th>\n",
       "      <th>Python</th>\n",
       "      <th>Haskell</th>\n",
       "    </tr>\n",
       "  </thead>\n",
       "  <tbody>\n",
       "    <tr>\n",
       "      <th>0</th>\n",
       "      <td>46381</td>\n",
       "      <td>0.000090</td>\n",
       "      <td>2.164096e-10</td>\n",
       "    </tr>\n",
       "    <tr>\n",
       "      <th>1</th>\n",
       "      <td>768479</td>\n",
       "      <td>0.000083</td>\n",
       "      <td>2.204562e-10</td>\n",
       "    </tr>\n",
       "    <tr>\n",
       "      <th>2</th>\n",
       "      <td>9476407</td>\n",
       "      <td>0.000089</td>\n",
       "      <td>2.216437e-10</td>\n",
       "    </tr>\n",
       "    <tr>\n",
       "      <th>3</th>\n",
       "      <td>36780481</td>\n",
       "      <td>0.000279</td>\n",
       "      <td>2.219177e-10</td>\n",
       "    </tr>\n",
       "    <tr>\n",
       "      <th>4</th>\n",
       "      <td>562390847</td>\n",
       "      <td>0.000112</td>\n",
       "      <td>2.199577e-10</td>\n",
       "    </tr>\n",
       "    <tr>\n",
       "      <th>5</th>\n",
       "      <td>1894083629</td>\n",
       "      <td>0.000203</td>\n",
       "      <td>2.212488e-10</td>\n",
       "    </tr>\n",
       "    <tr>\n",
       "      <th>6</th>\n",
       "      <td>65398261921</td>\n",
       "      <td>0.000449</td>\n",
       "      <td>2.146913e-10</td>\n",
       "    </tr>\n",
       "    <tr>\n",
       "      <th>7</th>\n",
       "      <td>364879542899</td>\n",
       "      <td>0.000193</td>\n",
       "      <td>2.144064e-10</td>\n",
       "    </tr>\n",
       "    <tr>\n",
       "      <th>8</th>\n",
       "      <td>8590365927553</td>\n",
       "      <td>0.000728</td>\n",
       "      <td>2.146796e-10</td>\n",
       "    </tr>\n",
       "    <tr>\n",
       "      <th>9</th>\n",
       "      <td>28564333765949</td>\n",
       "      <td>0.000353</td>\n",
       "      <td>2.250590e-10</td>\n",
       "    </tr>\n",
       "    <tr>\n",
       "      <th>10</th>\n",
       "      <td>12345678910111</td>\n",
       "      <td>0.000242</td>\n",
       "      <td>2.144686e-10</td>\n",
       "    </tr>\n",
       "  </tbody>\n",
       "</table>\n",
       "</div>"
      ],
      "text/plain": [
       "              Case    Python       Haskell\n",
       "0            46381  0.000090  2.164096e-10\n",
       "1           768479  0.000083  2.204562e-10\n",
       "2          9476407  0.000089  2.216437e-10\n",
       "3         36780481  0.000279  2.219177e-10\n",
       "4        562390847  0.000112  2.199577e-10\n",
       "5       1894083629  0.000203  2.212488e-10\n",
       "6      65398261921  0.000449  2.146913e-10\n",
       "7     364879542899  0.000193  2.144064e-10\n",
       "8    8590365927553  0.000728  2.146796e-10\n",
       "9   28564333765949  0.000353  2.250590e-10\n",
       "10  12345678910111  0.000242  2.144686e-10"
      ]
     },
     "execution_count": 11,
     "metadata": {},
     "output_type": "execute_result"
    },
    {
     "data": {
      "image/png": "[encoded data removed]",
      "text/plain": [
       "<matplotlib.figure.Figure at 0x7f887b823080>"
      ]
     },
     "metadata": {},
     "output_type": "display_data"
    }
   ],
   "source": [
    "import pandas as pd\n",
    "import matplotlib\n",
    "import matplotlib.pyplot as plt\n",
    "%matplotlib inline\n",
    "plt.style.use('ggplot')\n",
    "\n",
    "def plot(name1, name2):\n",
    "    df1, df2 = pd.read_csv(name1), pd.read_csv(name2)\n",
    "    df1.rename(columns={'Case':'Case', 'Time':'Python'}, inplace=True)\n",
    "    df2.rename(columns={'Case':'Case', 'Time':'Haskell'}, inplace=True)\n",
    "    df = pd.concat([df1, df2['Haskell']], axis=1, ignore_index=False)\n",
    "    df.plot(x='Case',kind='bar').set_ylabel('Time')\n",
    "    return df\n",
    "    \n",
    "plot('MR.csv', 'MR_hs.csv')"
   ]
  },
  {
   "cell_type": "code",
   "execution_count": 12,
   "metadata": {
    "collapsed": false,
    "deletable": true,
    "editable": true
   },
   "outputs": [
    {
     "data": {
      "text/html": [
       "<div>\n",
       "<table border=\"1\" class=\"dataframe\">\n",
       "  <thead>\n",
       "    <tr style=\"text-align: right;\">\n",
       "      <th></th>\n",
       "      <th>Case</th>\n",
       "      <th>Python</th>\n",
       "      <th>Haskell</th>\n",
       "    </tr>\n",
       "  </thead>\n",
       "  <tbody>\n",
       "    <tr>\n",
       "      <th>0</th>\n",
       "      <td>46381</td>\n",
       "      <td>0.412800</td>\n",
       "      <td>0.000427</td>\n",
       "    </tr>\n",
       "    <tr>\n",
       "      <th>1</th>\n",
       "      <td>768479</td>\n",
       "      <td>2.811925</td>\n",
       "      <td>0.003398</td>\n",
       "    </tr>\n",
       "    <tr>\n",
       "      <th>2</th>\n",
       "      <td>9476407</td>\n",
       "      <td>9.626479</td>\n",
       "      <td>0.011756</td>\n",
       "    </tr>\n",
       "    <tr>\n",
       "      <th>3</th>\n",
       "      <td>36780481</td>\n",
       "      <td>23.124061</td>\n",
       "      <td>0.028166</td>\n",
       "    </tr>\n",
       "    <tr>\n",
       "      <th>4</th>\n",
       "      <td>562390847</td>\n",
       "      <td>87.518443</td>\n",
       "      <td>0.117012</td>\n",
       "    </tr>\n",
       "    <tr>\n",
       "      <th>5</th>\n",
       "      <td>1894083629</td>\n",
       "      <td>182.357443</td>\n",
       "      <td>0.213026</td>\n",
       "    </tr>\n",
       "    <tr>\n",
       "      <th>6</th>\n",
       "      <td>65398261921</td>\n",
       "      <td>1976.388882</td>\n",
       "      <td>2.174446</td>\n",
       "    </tr>\n",
       "    <tr>\n",
       "      <th>7</th>\n",
       "      <td>364879542899</td>\n",
       "      <td>5910.446786</td>\n",
       "      <td>6.566013</td>\n",
       "    </tr>\n",
       "  </tbody>\n",
       "</table>\n",
       "</div>"
      ],
      "text/plain": [
       "           Case       Python   Haskell\n",
       "0         46381     0.412800  0.000427\n",
       "1        768479     2.811925  0.003398\n",
       "2       9476407     9.626479  0.011756\n",
       "3      36780481    23.124061  0.028166\n",
       "4     562390847    87.518443  0.117012\n",
       "5    1894083629   182.357443  0.213026\n",
       "6   65398261921  1976.388882  2.174446\n",
       "7  364879542899  5910.446786  6.566013"
      ]
     },
     "execution_count": 12,
     "metadata": {},
     "output_type": "execute_result"
    },
    {
     "data": {
      "image/png": "[encoded data removed]",
      "text/plain": [
       "<matplotlib.figure.Figure at 0x7f88877e8518>"
      ]
     },
     "metadata": {},
     "output_type": "display_data"
    }
   ],
   "source": [
    "plot('BSGS.csv', 'BSGS_hs.csv')"
   ]
  },
  {
   "cell_type": "code",
   "execution_count": 13,
   "metadata": {
    "collapsed": false,
    "deletable": true,
    "editable": true
   },
   "outputs": [
    {
     "data": {
      "text/html": [
       "<div>\n",
       "<table border=\"1\" class=\"dataframe\">\n",
       "  <thead>\n",
       "    <tr style=\"text-align: right;\">\n",
       "      <th></th>\n",
       "      <th>Case</th>\n",
       "      <th>Python</th>\n",
       "      <th>Haskell</th>\n",
       "    </tr>\n",
       "  </thead>\n",
       "  <tbody>\n",
       "    <tr>\n",
       "      <th>0</th>\n",
       "      <td>46381</td>\n",
       "      <td>0.031056</td>\n",
       "      <td>0.000040</td>\n",
       "    </tr>\n",
       "    <tr>\n",
       "      <th>1</th>\n",
       "      <td>768479</td>\n",
       "      <td>0.020684</td>\n",
       "      <td>0.000035</td>\n",
       "    </tr>\n",
       "    <tr>\n",
       "      <th>2</th>\n",
       "      <td>9476407</td>\n",
       "      <td>0.064042</td>\n",
       "      <td>0.000044</td>\n",
       "    </tr>\n",
       "    <tr>\n",
       "      <th>3</th>\n",
       "      <td>36780481</td>\n",
       "      <td>0.044293</td>\n",
       "      <td>0.000039</td>\n",
       "    </tr>\n",
       "    <tr>\n",
       "      <th>4</th>\n",
       "      <td>562390847</td>\n",
       "      <td>0.031681</td>\n",
       "      <td>0.000048</td>\n",
       "    </tr>\n",
       "    <tr>\n",
       "      <th>5</th>\n",
       "      <td>1894083629</td>\n",
       "      <td>0.049024</td>\n",
       "      <td>0.000050</td>\n",
       "    </tr>\n",
       "    <tr>\n",
       "      <th>6</th>\n",
       "      <td>65398261921</td>\n",
       "      <td>0.031994</td>\n",
       "      <td>0.000029</td>\n",
       "    </tr>\n",
       "    <tr>\n",
       "      <th>7</th>\n",
       "      <td>364879542899</td>\n",
       "      <td>0.044317</td>\n",
       "      <td>0.000046</td>\n",
       "    </tr>\n",
       "    <tr>\n",
       "      <th>8</th>\n",
       "      <td>8590365927553</td>\n",
       "      <td>0.064605</td>\n",
       "      <td>0.000103</td>\n",
       "    </tr>\n",
       "    <tr>\n",
       "      <th>9</th>\n",
       "      <td>28564333765949</td>\n",
       "      <td>0.020588</td>\n",
       "      <td>0.000080</td>\n",
       "    </tr>\n",
       "    <tr>\n",
       "      <th>10</th>\n",
       "      <td>12345678910111</td>\n",
       "      <td>0.027840</td>\n",
       "      <td>0.000064</td>\n",
       "    </tr>\n",
       "  </tbody>\n",
       "</table>\n",
       "</div>"
      ],
      "text/plain": [
       "              Case    Python   Haskell\n",
       "0            46381  0.031056  0.000040\n",
       "1           768479  0.020684  0.000035\n",
       "2          9476407  0.064042  0.000044\n",
       "3         36780481  0.044293  0.000039\n",
       "4        562390847  0.031681  0.000048\n",
       "5       1894083629  0.049024  0.000050\n",
       "6      65398261921  0.031994  0.000029\n",
       "7     364879542899  0.044317  0.000046\n",
       "8    8590365927553  0.064605  0.000103\n",
       "9   28564333765949  0.020588  0.000080\n",
       "10  12345678910111  0.027840  0.000064"
      ]
     },
     "execution_count": 13,
     "metadata": {},
     "output_type": "execute_result"
    },
    {
     "data": {
      "image/png": "[encoded data removed]",
      "text/plain": [
       "<matplotlib.figure.Figure at 0x7f887b64ac18>"
      ]
     },
     "metadata": {},
     "output_type": "display_data"
    }
   ],
   "source": [
    "plot('SQRT.csv', 'SQRT_hs.csv')"
   ]
  },
  {
   "cell_type": "markdown",
   "metadata": {
    "deletable": true,
    "editable": true
   },
   "source": [
    "En este caso, la implementación en Python, a partir del caso _1894083630_ produce tiempos muy grandes, por lo que decidí no continuar el test en Python, y realizarlo en Haskell."
   ]
  },
  {
   "cell_type": "code",
   "execution_count": 14,
   "metadata": {
    "collapsed": false,
    "deletable": true,
    "editable": true
   },
   "outputs": [
    {
     "data": {
      "text/html": [
       "<div>\n",
       "<table border=\"1\" class=\"dataframe\">\n",
       "  <thead>\n",
       "    <tr style=\"text-align: right;\">\n",
       "      <th></th>\n",
       "      <th>Case</th>\n",
       "      <th>Python</th>\n",
       "      <th>Haskell</th>\n",
       "    </tr>\n",
       "  </thead>\n",
       "  <tbody>\n",
       "    <tr>\n",
       "      <th>0</th>\n",
       "      <td>46382</td>\n",
       "      <td>0.357970</td>\n",
       "      <td>0.019592</td>\n",
       "    </tr>\n",
       "    <tr>\n",
       "      <th>1</th>\n",
       "      <td>768480</td>\n",
       "      <td>0.004652</td>\n",
       "      <td>0.000361</td>\n",
       "    </tr>\n",
       "    <tr>\n",
       "      <th>2</th>\n",
       "      <td>9476408</td>\n",
       "      <td>15.998654</td>\n",
       "      <td>0.480304</td>\n",
       "    </tr>\n",
       "    <tr>\n",
       "      <th>3</th>\n",
       "      <td>36780482</td>\n",
       "      <td>677.439177</td>\n",
       "      <td>14.757176</td>\n",
       "    </tr>\n",
       "    <tr>\n",
       "      <th>4</th>\n",
       "      <td>562390848</td>\n",
       "      <td>0.170592</td>\n",
       "      <td>0.009333</td>\n",
       "    </tr>\n",
       "    <tr>\n",
       "      <th>5</th>\n",
       "      <td>1894083630</td>\n",
       "      <td>0.000000</td>\n",
       "      <td>34.481109</td>\n",
       "    </tr>\n",
       "    <tr>\n",
       "      <th>6</th>\n",
       "      <td>65398261922</td>\n",
       "      <td>0.000000</td>\n",
       "      <td>27.757905</td>\n",
       "    </tr>\n",
       "    <tr>\n",
       "      <th>7</th>\n",
       "      <td>364879542900</td>\n",
       "      <td>0.000000</td>\n",
       "      <td>0.483476</td>\n",
       "    </tr>\n",
       "    <tr>\n",
       "      <th>8</th>\n",
       "      <td>8590365927554</td>\n",
       "      <td>0.000000</td>\n",
       "      <td>52.302546</td>\n",
       "    </tr>\n",
       "    <tr>\n",
       "      <th>9</th>\n",
       "      <td>28564333765950</td>\n",
       "      <td>0.000000</td>\n",
       "      <td>58.286707</td>\n",
       "    </tr>\n",
       "    <tr>\n",
       "      <th>10</th>\n",
       "      <td>12345678910112</td>\n",
       "      <td>0.000000</td>\n",
       "      <td>53.585834</td>\n",
       "    </tr>\n",
       "  </tbody>\n",
       "</table>\n",
       "</div>"
      ],
      "text/plain": [
       "              Case      Python    Haskell\n",
       "0            46382    0.357970   0.019592\n",
       "1           768480    0.004652   0.000361\n",
       "2          9476408   15.998654   0.480304\n",
       "3         36780482  677.439177  14.757176\n",
       "4        562390848    0.170592   0.009333\n",
       "5       1894083630    0.000000  34.481109\n",
       "6      65398261922    0.000000  27.757905\n",
       "7     364879542900    0.000000   0.483476\n",
       "8    8590365927554    0.000000  52.302546\n",
       "9   28564333765950    0.000000  58.286707\n",
       "10  12345678910112    0.000000  53.585834"
      ]
     },
     "execution_count": 14,
     "metadata": {},
     "output_type": "execute_result"
    },
    {
     "data": {
      "image/png": "[encoded data removed]",
      "text/plain": [
       "<matplotlib.figure.Figure at 0x7f887b49d6d8>"
      ]
     },
     "metadata": {},
     "output_type": "display_data"
    }
   ],
   "source": [
    "plot('Fermat.csv', 'Fermat_hs.csv')"
   ]
  },
  {
   "cell_type": "code",
   "execution_count": 15,
   "metadata": {
    "collapsed": false,
    "deletable": true,
    "editable": true
   },
   "outputs": [
    {
     "data": {
      "text/html": [
       "<div>\n",
       "<table border=\"1\" class=\"dataframe\">\n",
       "  <thead>\n",
       "    <tr style=\"text-align: right;\">\n",
       "      <th></th>\n",
       "      <th>Case</th>\n",
       "      <th>Python</th>\n",
       "      <th>Haskell</th>\n",
       "    </tr>\n",
       "  </thead>\n",
       "  <tbody>\n",
       "    <tr>\n",
       "      <th>0</th>\n",
       "      <td>46382</td>\n",
       "      <td>0.000015</td>\n",
       "      <td>5.199681e-08</td>\n",
       "    </tr>\n",
       "    <tr>\n",
       "      <th>1</th>\n",
       "      <td>768480</td>\n",
       "      <td>0.000013</td>\n",
       "      <td>5.346774e-08</td>\n",
       "    </tr>\n",
       "    <tr>\n",
       "      <th>2</th>\n",
       "      <td>9476408</td>\n",
       "      <td>0.000032</td>\n",
       "      <td>5.432563e-08</td>\n",
       "    </tr>\n",
       "    <tr>\n",
       "      <th>3</th>\n",
       "      <td>36780482</td>\n",
       "      <td>0.000032</td>\n",
       "      <td>5.396462e-08</td>\n",
       "    </tr>\n",
       "    <tr>\n",
       "      <th>4</th>\n",
       "      <td>562390848</td>\n",
       "      <td>0.000014</td>\n",
       "      <td>5.255667e-08</td>\n",
       "    </tr>\n",
       "    <tr>\n",
       "      <th>5</th>\n",
       "      <td>1894083630</td>\n",
       "      <td>0.000015</td>\n",
       "      <td>5.242047e-08</td>\n",
       "    </tr>\n",
       "    <tr>\n",
       "      <th>6</th>\n",
       "      <td>65398261922</td>\n",
       "      <td>0.000026</td>\n",
       "      <td>5.432629e-08</td>\n",
       "    </tr>\n",
       "    <tr>\n",
       "      <th>7</th>\n",
       "      <td>364879542900</td>\n",
       "      <td>0.000017</td>\n",
       "      <td>5.455622e-08</td>\n",
       "    </tr>\n",
       "    <tr>\n",
       "      <th>8</th>\n",
       "      <td>8590365927554</td>\n",
       "      <td>0.000035</td>\n",
       "      <td>5.360446e-08</td>\n",
       "    </tr>\n",
       "    <tr>\n",
       "      <th>9</th>\n",
       "      <td>28564333765950</td>\n",
       "      <td>0.000017</td>\n",
       "      <td>5.317840e-08</td>\n",
       "    </tr>\n",
       "    <tr>\n",
       "      <th>10</th>\n",
       "      <td>12345678910112</td>\n",
       "      <td>0.000046</td>\n",
       "      <td>5.128240e-08</td>\n",
       "    </tr>\n",
       "  </tbody>\n",
       "</table>\n",
       "</div>"
      ],
      "text/plain": [
       "              Case    Python       Haskell\n",
       "0            46382  0.000015  5.199681e-08\n",
       "1           768480  0.000013  5.346774e-08\n",
       "2          9476408  0.000032  5.432563e-08\n",
       "3         36780482  0.000032  5.396462e-08\n",
       "4        562390848  0.000014  5.255667e-08\n",
       "5       1894083630  0.000015  5.242047e-08\n",
       "6      65398261922  0.000026  5.432629e-08\n",
       "7     364879542900  0.000017  5.455622e-08\n",
       "8    8590365927554  0.000035  5.360446e-08\n",
       "9   28564333765950  0.000017  5.317840e-08\n",
       "10  12345678910112  0.000046  5.128240e-08"
      ]
     },
     "execution_count": 15,
     "metadata": {},
     "output_type": "execute_result"
    },
    {
     "data": {
      "image/png": "[encoded data removed]",
      "text/plain": [
       "<matplotlib.figure.Figure at 0x7f887b6054a8>"
      ]
     },
     "metadata": {},
     "output_type": "display_data"
    }
   ],
   "source": [
    "plot('Pollard.csv', 'Pollard_hs.csv')"
   ]
  }
 ],
 "metadata": {
  "kernelspec": {
   "display_name": "Python 3",
   "language": "python",
   "name": "python3"
  },
  "language_info": {
   "codemirror_mode": {
    "name": "ipython",
    "version": 3
   },
   "file_extension": ".py",
   "mimetype": "text/x-python",
   "name": "python",
   "nbconvert_exporter": "python",
   "pygments_lexer": "ipython3",
   "version": "3.6.0"
  }
 },
 "nbformat": 4,
 "nbformat_minor": 2
}
