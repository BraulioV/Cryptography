{
 "cells": [
  {
   "cell_type": "markdown",
   "metadata": {},
   "source": [
    "# Aritmética modular\n",
    "\n",
    "## Ejercicio 1\n",
    "\n",
    "Implementa el algoritmo extendido de Euclides para el cálculo del máximo común divisor: dados dos enteros $a$ y $b$, encuentra $u, v ∈ \\mathbb{Z}$ tales que $au + bv$ es el máximo común divisor de $a$ y $b$."
   ]
  },
  {
   "cell_type": "code",
   "execution_count": 1,
   "metadata": {
    "collapsed": false
   },
   "outputs": [
    {
     "name": "stdout",
     "output_type": "stream",
     "text": [
      "d =  38  u =  32  v =  -45\n"
     ]
    }
   ],
   "source": [
    "def ext_euclides(a, b):\n",
    "    if b == 0:\n",
    "        return a, 1, 0\n",
    "    else:\n",
    "        u1, u2, v1, v2 = 0, 1, 1, 0\n",
    "        \n",
    "        while b > 0:\n",
    "            q = a // b\n",
    "            r, u, v = a - q * b, u2 - q * u1, v2 - q * v1\n",
    "            a, b, u2, u1, v2, v1 = b, r, u1, u, v1, v\n",
    "            \n",
    "        return a, u2, v2\n",
    "    \n",
    "\n",
    "d, u, v = ext_euclides(4864, 3458)\n",
    "print(\"d = \", d, \" u = \", u, \" v = \", v)"
   ]
  },
  {
   "cell_type": "markdown",
   "metadata": {},
   "source": [
    "## Ejercicio 2\n",
    "\n",
    "Usando el ejercicio anterior, escribe una función que calcule $a^{-1} \\bmod b$ para cualesquiera $a, b$ enteros que sean primos relativos."
   ]
  },
  {
   "cell_type": "code",
   "execution_count": 7,
   "metadata": {
    "collapsed": false
   },
   "outputs": [
    {
     "data": {
      "text/plain": [
       "3"
      ]
     },
     "execution_count": 7,
     "metadata": {},
     "output_type": "execute_result"
    }
   ],
   "source": [
    "def inverse(a,b):\n",
    "    return ext_euclides(a,b)[1] % b\n",
    "\n",
    "inverse(2, 5)"
   ]
  },
  {
   "cell_type": "markdown",
   "metadata": {},
   "source": [
    "## Ejercicio 3\n",
    "\n",
    "Escribe una función que calcule $a^b \\bmod n$ para cualesquiera $a, b\\text{ y } n$. La implementación debe tener en cuenta la representación binaria de $b$."
   ]
  },
  {
   "cell_type": "code",
   "execution_count": 16,
   "metadata": {
    "collapsed": false
   },
   "outputs": [
    {
     "data": {
      "text/plain": [
       "2768826661212065366016"
      ]
     },
     "execution_count": 16,
     "metadata": {},
     "output_type": "execute_result"
    }
   ],
   "source": [
    "def big_pow(a, b, n):\n",
    "    a0, b0, p = a, b, 1\n",
    "    while b > 0:\n",
    "        # b0 = b mod 2\n",
    "        b0, b, a = b % 2, b // 2, a**2 % n\n",
    "        \n",
    "        if b0 == 1:\n",
    "            p *= a\n",
    "            \n",
    "    return p % n\n",
    "\n",
    "big_pow(10, 45345645612389, 23)"
   ]
  }
 ],
 "metadata": {
  "kernelspec": {
   "display_name": "Python 3",
   "language": "python",
   "name": "python3"
  },
  "language_info": {
   "codemirror_mode": {
    "name": "ipython",
    "version": 3
   },
   "file_extension": ".py",
   "mimetype": "text/x-python",
   "name": "python",
   "nbconvert_exporter": "python",
   "pygments_lexer": "ipython3",
   "version": "3.6.0"
  }
 },
 "nbformat": 4,
 "nbformat_minor": 2
}
