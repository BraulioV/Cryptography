{
 "cells": [
  {
   "cell_type": "markdown",
   "metadata": {},
   "source": [
    "# Cifrado Flujo\n",
    "\n",
    "## Ejercicio 1\n",
    "\n",
    "Escribe una función que determine si una secuencia de bits cumple los postulados de Golomb."
   ]
  },
  {
   "cell_type": "code",
   "execution_count": 1,
   "metadata": {},
   "outputs": [
    {
     "data": {
      "text/plain": [
       "True"
      ]
     },
     "execution_count": 1,
     "metadata": {},
     "output_type": "execute_result"
    }
   ],
   "source": [
    "bits = [0, 0, 0, 1, 1, 1, 1, 0, 1, 0, 1, 1, 0, 0, 1]\n",
    "\n",
    "def first_rule(seq):\n",
    "    # Contamos el número de unos\n",
    "    n_ones = sum(seq)\n",
    "    n_bits = len(seq)\n",
    "    # Si la longitud de la secuencia es 0\n",
    "    if n_bits % 2 == 0:\n",
    "        # a la fuerza tienen que ser iguales\n",
    "        # num_ceros y num_unos\n",
    "        return n_bits / 2 == n_ones\n",
    "    else:\n",
    "        n2_bits = n_bits // 2\n",
    "        return n2_bits == n_ones or (n2_bits + 1) == n_ones\n",
    "\n",
    "    \n",
    "first_rule(bits)"
   ]
  },
  {
   "cell_type": "markdown",
   "metadata": {},
   "source": [
    "En esta primera regla, podemos hacer una rápida comprobación si sumamos la secuencia de bits y obtenemos su longitud. Si la longitud es par, tenemos que el número de unos tiene que ser $\\frac{|| bits ||}{2}$, y en caso de qeu sea impar, el número de unos tiene que ser igual a $\\left\\lfloor\\frac{|| bits ||}{2}\\right\\rfloor$ o $\\left\\lceil\\frac{|| bits ||}{2}\\right\\rceil$. En caso contrario, devolveremos un `False`."
   ]
  },
  {
   "cell_type": "code",
   "execution_count": 2,
   "metadata": {},
   "outputs": [
    {
     "data": {
      "text/plain": [
       "True"
      ]
     },
     "execution_count": 2,
     "metadata": {},
     "output_type": "execute_result"
    }
   ],
   "source": [
    "from itertools import groupby\n",
    "from collections import Counter\n",
    "\n",
    "# Esta función calcula el número de rachas\n",
    "# de longitud k en la secuencia seq      \n",
    "def second_rule(seq):\n",
    "    # obtenemos todas las rachas posibles que existen en la secuencia\n",
    "    runs = [list(g) for k, g in groupby(seq)]\n",
    "    # y contamos el número de rachas que hay para cada longitud\n",
    "    count = Counter(map(lambda x: len(x), runs))\n",
    "    last_key = -1\n",
    "    # comprobamos si se cumple que #runs(k+1) == runs(k)\n",
    "    for key, elem in count.items():\n",
    "        if last_key != -1:      \n",
    "            if count[last_key] < elem:  # en el caso de que el siguiente elemento\n",
    "                return False            # no sea 1/2 veces más pequeño\n",
    "            last_key = key\n",
    "        else:\n",
    "            last_key = key\n",
    "            \n",
    "    else:\n",
    "        # si todo va bien, devolvemos True\n",
    "        return True\n",
    "\n",
    "second_rule(bits)"
   ]
  },
  {
   "cell_type": "markdown",
   "metadata": {
    "collapsed": true
   },
   "source": [
    "Para la segunda regla, comprobamos el número de rachas de longitud $k$ debe ser el doble que el número de rachas de longitud $k+1$ en la secuencia de bits, aunque esta condición se relaja un poco. En caso de que en algún momento esto no se cumpla, se devuelve `False`."
   ]
  },
  {
   "cell_type": "code",
   "execution_count": 3,
   "metadata": {},
   "outputs": [
    {
     "data": {
      "text/plain": [
       "True"
      ]
     },
     "execution_count": 3,
     "metadata": {},
     "output_type": "execute_result"
    }
   ],
   "source": [
    "from numpy import bitwise_xor, nonzero\n",
    "\n",
    "def rotate(seq, length):\n",
    "    seq = [seq[-1]] + seq[:length-1]\n",
    "\n",
    "def third_rule(seq):\n",
    "    length, rotated_seq = len(seq), seq\n",
    "    rotate(rotated_seq, length)\n",
    "    # Calculamos la distancia hamming como un xor entre\n",
    "    # ambas cadenas, y contamos los bits no nulos\n",
    "    norm = len(bitwise_xor(seq, rotated_seq).nonzero()[0])\n",
    "    for i in range(1, length):\n",
    "        rotate(rotated_seq, length)\n",
    "        if norm != len(bitwise_xor(seq, rotated_seq).nonzero()[0]):\n",
    "            return False\n",
    "    else:\n",
    "        return True\n",
    "\n",
    "third_rule(bits)"
   ]
  },
  {
   "cell_type": "markdown",
   "metadata": {},
   "source": [
    "En esta regla, comprobamos si, rotando la cadena de bits, se mantiene constante la distancia Hamming. Esta distancia Hamming se calcula como la suma de los bits no nulos resultantes de hacer un $xor$ entre la cadena original y la cadena rotada.\n",
    "\n",
    "## Ejercicio 2\n",
    "\n",
    "Implementa registros lineales de desplazamiento con retroalimentación. La entrada son los coeficientes del polinomio de conexión, la semilla, y la longitud de la secuencia de salida.\n",
    "\n",
    "Ilustra con ejemplos la dependencia del periodo de la semilla en el caso de polinomios reducibles, la independencia en el caso de polinomios irreducibles, y la maximalidad del periodo en el caso de polinomios primitivos.\n",
    "\n",
    "Comprueba que los ejemplos con polinomios primitivos satisfacen los postulados de Golomb"
   ]
  }
 ],
 "metadata": {
  "kernelspec": {
   "display_name": "Python 3",
   "language": "python",
   "name": "python3"
  },
  "language_info": {
   "codemirror_mode": {
    "name": "ipython",
    "version": 3
   },
   "file_extension": ".py",
   "mimetype": "text/x-python",
   "name": "python",
   "nbconvert_exporter": "python",
   "pygments_lexer": "ipython3",
   "version": "3.5.3"
  }
 },
 "nbformat": 4,
 "nbformat_minor": 2
}
