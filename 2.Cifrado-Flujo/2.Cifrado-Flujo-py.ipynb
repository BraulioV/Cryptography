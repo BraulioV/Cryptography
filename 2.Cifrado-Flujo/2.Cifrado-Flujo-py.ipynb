{
 "cells": [
  {
   "cell_type": "markdown",
   "metadata": {},
   "source": [
    "# Cifrado Flujo\n",
    "\n",
    "## Ejercicio 1\n",
    "\n",
    "Escribe una función que determine si una secuencia de bits cumple los postulados de Golomb."
   ]
  },
  {
   "cell_type": "code",
   "execution_count": 1,
   "metadata": {
    "collapsed": true
   },
   "outputs": [],
   "source": [
    "def first_rule(seq):\n",
    "    # Contamos el número de unos\n",
    "    n_ones = sum(seq)\n",
    "    n_bits = len(seq)\n",
    "    # Si la longitud de la secuencia es 0\n",
    "    if n_bits % 2 == 0:\n",
    "        # a la fuerza tienen que ser iguales\n",
    "        # num_ceros y num_unos\n",
    "        return n_bits / 2 == n_ones\n",
    "    else:\n",
    "        n2_bits = n_bits // 2\n",
    "        return n2_bits == n_ones or (n2_bits + 1) == n_ones\n"
   ]
  }
 ],
 "metadata": {
  "kernelspec": {
   "display_name": "Python 3",
   "language": "python",
   "name": "python3"
  },
  "language_info": {
   "codemirror_mode": {
    "name": "ipython",
    "version": 3
   },
   "file_extension": ".py",
   "mimetype": "text/x-python",
   "name": "python",
   "nbconvert_exporter": "python",
   "pygments_lexer": "ipython3",
   "version": "3.6.0"
  }
 },
 "nbformat": 4,
 "nbformat_minor": 2
}
