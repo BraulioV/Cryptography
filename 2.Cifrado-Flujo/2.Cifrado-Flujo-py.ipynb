{
 "cells": [
  {
   "cell_type": "markdown",
   "metadata": {},
   "source": [
    "# Cifrado Flujo\n",
    "\n",
    "## Ejercicio 1\n",
    "\n",
    "Escribe una función que determine si una secuencia de bits cumple los postulados de Golomb."
   ]
  },
  {
   "cell_type": "code",
   "execution_count": 1,
   "metadata": {},
   "outputs": [
    {
     "data": {
      "text/plain": [
       "True"
      ]
     },
     "execution_count": 1,
     "metadata": {},
     "output_type": "execute_result"
    }
   ],
   "source": [
    "from math import ceil, floor\n",
    "bits = [0, 0, 0, 1, 1, 1, 1, 0, 1, 0, 1, 1, 0, 0, 1]\n",
    "\n",
    "def first_rule(seq):\n",
    "    # Contamos el número de unos\n",
    "    n_ones, n_bits = sum(seq), len(seq)\n",
    "    # Si la longitud de la secuencia es 0\n",
    "    if n_bits % 2 == 0:\n",
    "        # a la fuerza tienen que ser iguales\n",
    "        # num_ceros y num_unos\n",
    "        return n_bits // 2 == n_ones\n",
    "    else:\n",
    "        n2_bits = n_bits / 2\n",
    "        return ceil(n2_bits) == n_ones or floor(n2_bits) == n_ones\n",
    "\n",
    "    \n",
    "first_rule(bits)"
   ]
  },
  {
   "cell_type": "markdown",
   "metadata": {},
   "source": [
    "En esta primera regla, podemos hacer una rápida comprobación si sumamos la secuencia de bits y obtenemos su longitud. Si la longitud es par, tenemos que el número de unos tiene que ser $\\frac{|| bits ||}{2}$, y en caso de qeu sea impar, el número de unos tiene que ser igual a $\\left\\lfloor\\frac{|| bits ||}{2}\\right\\rfloor$ o $\\left\\lceil\\frac{|| bits ||}{2}\\right\\rceil$. En caso contrario, devolveremos un `False`."
   ]
  },
  {
   "cell_type": "code",
   "execution_count": 2,
   "metadata": {},
   "outputs": [
    {
     "data": {
      "text/plain": [
       "True"
      ]
     },
     "execution_count": 2,
     "metadata": {},
     "output_type": "execute_result"
    }
   ],
   "source": [
    "from itertools import groupby\n",
    "from collections import Counter\n",
    "\n",
    "# Esta función calcula el número de rachas\n",
    "# de longitud k en la secuencia seq      \n",
    "def second_rule(seq):\n",
    "    while seq[0] == seq[-1]:\n",
    "        seq.append(seq.pop(0))\n",
    "        \n",
    "    # obtenemos todas las rachas posibles que existen en la secuencia\n",
    "    runs = [list(g) for k, g in groupby(seq)]\n",
    "    # y contamos el número de rachas que hay para cada longitud\n",
    "    count = Counter(map(lambda x: len(x), runs))\n",
    "    # comprobamos si se cumple que #runs(k+1) == runs(k)\n",
    "    for i in range(1, len(count)):\n",
    "        if count[i] != count[i+1]:\n",
    "            if not count[i] >= 2*count[i+1]: # en el caso de que el siguiente elemento\n",
    "                return False                 # no sea 1/2 veces más pequeño\n",
    "    else:\n",
    "        # si todo va bien, devolvemos True\n",
    "        return True\n",
    "\n",
    "second_rule(bits)"
   ]
  },
  {
   "cell_type": "markdown",
   "metadata": {
    "collapsed": true
   },
   "source": [
    "Para la segunda regla, comprobamos el número de rachas de longitud $k$ debe ser el doble que el número de rachas de longitud $k+1$ en la secuencia de bits, aunque esta condición se relaja un poco. En caso de que en algún momento esto no se cumpla, se devuelve `False`."
   ]
  },
  {
   "cell_type": "code",
   "execution_count": 3,
   "metadata": {},
   "outputs": [
    {
     "data": {
      "text/plain": [
       "True"
      ]
     },
     "execution_count": 3,
     "metadata": {},
     "output_type": "execute_result"
    }
   ],
   "source": [
    "from numpy import bitwise_xor, nonzero\n",
    "\n",
    "def rotate(seq, length):\n",
    "    seq = [seq[-1]] + seq[:length-1]\n",
    "\n",
    "def third_rule(seq):\n",
    "    length, rotated_seq = len(seq), seq\n",
    "    rotate(rotated_seq, length)\n",
    "    # Calculamos la distancia hamming como un xor entre\n",
    "    # ambas cadenas, y contamos los bits no nulos\n",
    "    norm = len(bitwise_xor(seq, rotated_seq).nonzero()[0])\n",
    "    for i in range(1, length):\n",
    "        rotate(rotated_seq, length)\n",
    "        if norm != len(bitwise_xor(seq, rotated_seq).nonzero()[0]):\n",
    "            return False\n",
    "    else:\n",
    "        return True\n",
    "\n",
    "third_rule(bits)"
   ]
  },
  {
   "cell_type": "markdown",
   "metadata": {},
   "source": [
    "En esta regla, comprobamos si, rotando la cadena de bits, se mantiene constante la distancia Hamming. Esta distancia Hamming se calcula como la suma de los bits no nulos resultantes de hacer un $xor$ entre la cadena original y la cadena rotada."
   ]
  },
  {
   "cell_type": "code",
   "execution_count": 4,
   "metadata": {},
   "outputs": [
    {
     "data": {
      "text/plain": [
       "True"
      ]
     },
     "execution_count": 4,
     "metadata": {},
     "output_type": "execute_result"
    }
   ],
   "source": [
    "def Golomb(seq):\n",
    "    if all(seq):\n",
    "        return False\n",
    "    else:\n",
    "        rules = [first_rule, second_rule, third_rule]\n",
    "        return all(map(lambda x: rules[x](seq), range(3)))\n",
    "    \n",
    "Golomb(bits)"
   ]
  },
  {
   "cell_type": "markdown",
   "metadata": {},
   "source": [
    "Esta función comprueba aplica los postulados de Golomb para determinar si una secuencia de bits es lo suficientemente aleatoria. Primeramente, comprueba que todos los elementos sean distintos y si lo son, pasa a aplicar cada uno de los postulados para comprobar si es correcto o no.\n",
    "\n",
    "## Ejercicio 2\n",
    "\n",
    "Implementa registros lineales de desplazamiento con retroalimentación. La entrada son los coeficientes del polinomio de conexión, la semilla, y la longitud de la secuencia de salida.\n",
    "\n",
    "Ilustra con ejemplos la dependencia del periodo de la semilla en el caso de polinomios reducibles, la independencia en el caso de polinomios irreducibles, y la maximalidad del periodo en el caso de polinomios primitivos.\n",
    "\n",
    "Comprueba que los ejemplos con polinomios primitivos satisfacen los postulados de Golomb."
   ]
  },
  {
   "cell_type": "code",
   "execution_count": 5,
   "metadata": {
    "collapsed": true
   },
   "outputs": [],
   "source": [
    "from numpy import bitwise_and\n",
    "# Linear Feedback Shift Register\n",
    "def LFSR(conex_poly, seed, length):\n",
    "    register = list(seed)\n",
    "    out = [0]*length\n",
    "    # obtenemos el grado del polinomio de conexión\n",
    "    for i in range(length):\n",
    "        register.append((len(bitwise_and(conex_poly, register).nonzero()[0])) % 2)\n",
    "        out[i] = register.pop(0)\n",
    "    \n",
    "    return out"
   ]
  },
  {
   "cell_type": "markdown",
   "metadata": {},
   "source": [
    "Para demostrar la dependencia del periodo de la semilla según el tipo de polinomio, vamos a verlos uno por uno. \n",
    "* __Polinomios reducibles__: para demostrar la dependencia en el periodo, definimos el siguiente polinomio $c(D) = D^4 + D^2 + 1$, y como semilla, mandaremos las siguientes cadenas: $c_1 = [1,0,0,1]$ y $c_2 = [1,1,0,1]$."
   ]
  },
  {
   "cell_type": "code",
   "execution_count": 6,
   "metadata": {},
   "outputs": [
    {
     "name": "stdout",
     "output_type": "stream",
     "text": [
      "Cadena 1: [1, 0, 0, 1, 1, 1, 1, 0, 0, 1, 1, 1, 1, 0, 0, 1, 1, 1, 1, 0, 0, 1, 1, 1]\n",
      "Cadena 2: [1, 1, 0, 1, 1, 0, 1, 1, 0, 1, 1, 0, 1, 1, 0, 1, 1, 0, 1, 1, 0, 1, 1, 0]\n"
     ]
    }
   ],
   "source": [
    "n = 24\n",
    "print(\"Cadena 1:\", LFSR([1,0,1,0], [1,0,0,1], n))\n",
    "print(\"Cadena 2:\", LFSR([1,0,1,0], [1,1,0,1], n))"
   ]
  },
  {
   "cell_type": "markdown",
   "metadata": {},
   "source": [
    "Como podemos ver, en el caso de la cadena $c_1$, el periodo tiene una longitud de 6 elementos: [1,0,0,1,1,1]. A partir de aquí, esta lista se va repitiendo constantemente, por lo que tenemos un periodo muy pequeño. \n",
    "\n",
    "Esto es aún peor en el caso de la cadena $c_2$, donde tenemos un período de longitud tres, siendo [1,1,0]. \n",
    "\n",
    "Con esto podemos ver cómo el periodo es altamente dependiente del poliniomio que establezcamos. Además, nunca podremos alcanzar el periodo máximo con un polinomio reducible.\n",
    "\n",
    "* __Polinomios irreducibles__: en este caso, vamos a introducir el siguiente polinomio irreducible para grado 3: $c(D) = D^3 + D + 1$, que es irreducible. Como semilla, introduciremos la cadena $c = [1,1,0,0]$."
   ]
  },
  {
   "cell_type": "code",
   "execution_count": 7,
   "metadata": {},
   "outputs": [
    {
     "name": "stdout",
     "output_type": "stream",
     "text": [
      "Cadena 3: [1, 1, 0, 0, 1, 1, 1, 0, 1, 0, 0, 1, 1, 1, 0, 1, 0, 0, 1, 1, 1, 0, 1, 0]\n"
     ]
    }
   ],
   "source": [
    "print(\"Cadena 3:\", LFSR([0,1,0,1], [1,1,0,0], n))"
   ]
  },
  {
   "cell_type": "markdown",
   "metadata": {},
   "source": [
    "Como podemos ver, en este caso, el período es de longitud 6, siendo este periodo [0, 1, 1, 1, 0, 1]. Como se puede ver, el período aún sigue siendo pequeño y no llega al máximo posible. Esto se debe a que el polinimio, es degenerado para el grado 4. \n",
    "\n",
    "* __Poliniomios primitivos__: en este caso, probaremos con el poliniomio primitivo $c(D) = D^4 + D + 1$ y la semilla, introduciremos la cadena $c = [0,0,0,1]$."
   ]
  },
  {
   "cell_type": "code",
   "execution_count": 8,
   "metadata": {},
   "outputs": [
    {
     "data": {
      "text/plain": [
       "[0, 0, 0, 1, 1, 1, 1, 0, 1, 0, 1, 1, 0, 0, 1, 0, 0, 0, 1, 1, 1, 1, 0, 1]"
      ]
     },
     "execution_count": 8,
     "metadata": {},
     "output_type": "execute_result"
    }
   ],
   "source": [
    "LFSR([1,0,0,1], [0,0,0,1], n)"
   ]
  },
  {
   "cell_type": "markdown",
   "metadata": {},
   "source": [
    "En el caso de los polinomios primitivos, alcanzamos el período máximo, que es $2^4 = 16$, siendo este período la cadena [0, 0, 0, 1, 1, 1, 1, 0, 1, 0, 1, 1, 0, 0, 1].En este caso vemos que cuanto mayor sea el grado del polinomio y la longitud de la cadena, mayor será la longitud del periodo.\n",
    "\n",
    "Para comprobar si las cadenas obtenidas con el LFSR y un polinomio irreducible cumplen los postulados de Golomb, podemos hacer lo siguiente:"
   ]
  },
  {
   "cell_type": "code",
   "execution_count": 9,
   "metadata": {
    "collapsed": true
   },
   "outputs": [],
   "source": [
    "polyms = [[1,0,1], [1,0,0,1], [1,0,0,1,0], [1,0,0,0,0,1],\n",
    "          [1,0,0,0,0,0,1], [1,0,0,0,0,1,0,0,0]]\n",
    "\n",
    "seeds = [[0,1,1], [0,0,0,1], [0,1,1,1,0], [0,1,1,1,0,0], \n",
    "        [0,0,0,1,1,0,1], [0,1,0,1,0,1,0,0,1]]\n",
    "\n",
    "for polym, seed in zip(polyms, seeds):\n",
    "    result = LFSR(polym, seed, 2**len(polym)-1)\n",
    "    if not Golomb(result):\n",
    "        print(\"La lista que forma la semilla\", seed, \n",
    "              \" con el polinomio\", polym, \"\\n no cumple los postulados.\")"
   ]
  },
  {
   "cell_type": "markdown",
   "metadata": {},
   "source": [
    "Como podemos observar, las cadenas obtenidas con polinomios irreducibles, cumplen los postulados de Golomb, ya que al ejecutar el código anterior, la salida ha sido vacía.\n",
    "\n",
    "## Ejercicio 3\n",
    "\n",
    "Un polinomio en varias variables con coeficientes en $\\mathbb{Z}_2$ se puede expresar como suma de monomios, simplemente usando la propiedad distributiva. Cualquier monomio $x_1^{e_1}\\cdots x_n^{e_n}, e_i \\in \\mathbb{N}$, es, como función, equivalente a un monomio de la forma $x_{i_1}\\cdots x_{i_r} (x^2 = x$ $\\forall x \\in \\mathbb{Z}_2$, los $i_j$ son precisamente los índices tales que $e_{i_j} \\neq 0)$. Por ejemplo, $1 + x^2(y + x) = 1 + x^3 + x^2y$, esta expresión es equivalente a $1 + x +xy$, por lo que la repreentamos mediante [[0,0], [1,0], [1,1]], que se corresponde con la lista de exponentes en las dos variables: $x^0y^0 + x^1y^0 + x^1y^1$. Así un polinomio en $\\mathbb{Z}_2$ se puede representar por una lista de monomios. Y cada monomio como una lista de 0 y 1, que corresponden con los exponentes de cada una de las variables que intervienen en el polinomio.\n",
    "\n",
    "Escribe una función que toma como argumentos una función polinómica $f$, una semilla $s$ y un entero positivo $k$, y devuelve una secuencia de longitud $k$ generada al aplicar a $s$ el registro no lineal de desplazamiento con retroalimentación asociado a $f$.\n",
    "\n",
    "Encuentra el periodo de la $NLFSR((x \\wedge y) \\vee \\bar{z} \\oplus t)$ con semilla 1011."
   ]
  },
  {
   "cell_type": "code",
   "execution_count": 10,
   "metadata": {},
   "outputs": [
    {
     "data": {
      "text/plain": [
       "[1, 0, 1, 1, 1, 1, 0, 1, 0, 0, 1, 0, 0, 1, 0, 0, 1, 0, 0, 1]"
      ]
     },
     "execution_count": 10,
     "metadata": {},
     "output_type": "execute_result"
    }
   ],
   "source": [
    "f = lambda seed: ((seed[0] & seed[1]) | (not seed[2])) ^ seed[3]\n",
    "\n",
    "def NLFSR(function, seed, length):\n",
    "    out = [0]*length\n",
    "    # obtenemos el grado del polinomio de conexión\n",
    "    for i in range(length):\n",
    "        seed.append(function(seed)) # añadimos el resultado al final\n",
    "        out[i] = seed.pop(0) # y devolvemos el primer bit\n",
    "    \n",
    "    return out\n",
    "\n",
    "\n",
    "NLFSR(f, [1,0,1,1], 20)"
   ]
  },
  {
   "cell_type": "markdown",
   "metadata": {},
   "source": [
    "En este caso, podemos ver que la salida de la función anterior con la semilla [1,0,1,1] tiene un periodo de longitud 3 en el que se repite la subcadena [1,0,0]. Además de esto, la función original $(x \\wedge y) \\vee \\bar{z} \\oplus t$, podemos calcular la forma canónica para obtener un polinimo con los coeficientes:\n",
    "\n",
    "## Ejercicio 4\n",
    "\n",
    "Implementa el generador de Geffe. Encuentra ejemplos donde el periodo de la salida es $p_1p_2p_3$, con $p_1,p_2$ y $p_3$ los periodos de los tres LFSRs usados en el generador de Geffe.\n",
    "\n",
    "Usa este ejercicio para construir un cifrado en flujo. Con entrada un mensaje $m$, construye una llave $k$ con la misma longitud que $m$ y devuelve $m \\oplus k$ (donde $\\oplus$ significa suma componente a componente en $\\mathbb{Z}_2$).\n",
    "\n",
    "El descifrado se hace de la misma forma: $c \\oplus k$ (nótese que $c\\oplus k = (m\\oplus k) \\oplus k = m (k \\oplus k) = m$ ya que $x \\oplus x = 0$ en $\\mathbb{Z}_2$)."
   ]
  },
  {
   "cell_type": "code",
   "execution_count": 11,
   "metadata": {},
   "outputs": [
    {
     "name": "stdout",
     "output_type": "stream",
     "text": [
      "Cypher text: oe\u0019!&\tsӿ_X**\u0013s-\u000e}\n",
      "Decypher text: El poder desgasta a quien no lo tiene\n"
     ]
    }
   ],
   "source": [
    "from numpy import bitwise_not\n",
    "\n",
    "# Conver a str to a bin list like [0,1,0,0,1...]\n",
    "def str_to_binlist(message):\n",
    "    # get a binary list\n",
    "    binary = list(bin(int.from_bytes(message.encode('utf-8'), byteorder='big'))) \n",
    "    # return the stream of 0 and 1\n",
    "    binary.remove('b')\n",
    "    return list(map(lambda x: int(x), binary))\n",
    "\n",
    "\n",
    "def bin_to_str(bin_message):\n",
    "    # pass elements from int to str \n",
    "    message = list(map(lambda x: str(x), bin_message))\n",
    "    # create a full str\n",
    "    complete_msg = ''.join(message)\n",
    "    # converte to str using a integer in Z_2\n",
    "    int_msg = int(complete_msg,2)\n",
    "    return int_msg.to_bytes((int_msg.bit_length() + 7) // 8, \n",
    "                            byteorder='big').decode('utf-8', 'ignore')\n",
    "    \n",
    "    \n",
    "def Geffe(arg1, arg2, arg3, length):\n",
    "    # Calculate the LFSRs with their polynoms\n",
    "    # and seeds with a fixed length\n",
    "    LFSR1 = LFSR(arg1[0], arg1[1], length)\n",
    "    LFSR2 = LFSR(arg2[0], arg2[1], length)\n",
    "    LFSR3 = LFSR(arg3[0], arg3[1], length)\n",
    "    # Return the complete sequence\n",
    "    return Geffe_func(LFSR1, LFSR2, LFSR3)\n",
    "\n",
    "    \n",
    "def Geffe_func(LFSR1, LFSR2, LFSR3):\n",
    "    # LFSR1 and LFSR2\n",
    "    result1 = bitwise_and(LFSR1, LFSR2)\n",
    "    # not LFSR2 and LFSR3\n",
    "    result2 = bitwise_and(bitwise_not(LFSR2), LFSR3)\n",
    "    # result1 and result2\n",
    "    return bitwise_xor(result1, result2)\n",
    "\n",
    "\n",
    "# encrypt message using Geffe\n",
    "def Geffe_encrypt(key, message):\n",
    "    # get the binary list\n",
    "    bin_message = str_to_binlist(message)\n",
    "    # compute the Geffe sequence\n",
    "    element = Geffe(key[0], key[1], key[2], len(bin_message))\n",
    "    # encrypt the message\n",
    "    cypher = bitwise_xor(element, bin_message)\n",
    "    # return the cypher text\n",
    "    return cypher\n",
    "\n",
    "\n",
    "# decrypt message using Geffe \n",
    "def Geffe_decrypt(key, cypher):\n",
    "    # compute the Geffe sequence\n",
    "    element = Geffe(key[0], key[1], key[2], len(cypher))\n",
    "    # Decrypt the message\n",
    "    return bin_to_str(bitwise_xor(element,cypher))\n",
    "\n",
    "\n",
    "# Key to cypher text\n",
    "key = [([1,1,0,0,1,0], [1,1,1,1,0,1]), ([1,0,1,0,1,1], [1,0,1,1,1,1]), ([1,1,0,1,0,0], [1,1,0,1,0,0])]\n",
    "\n",
    "encrypt = Geffe_encrypt(key, 'El poder desgasta a quien no lo tiene')\n",
    "decrypt = Geffe_decrypt(key, encrypt)\n",
    "print(\"Cypher text:\", bin_to_str(encrypt))\n",
    "print(\"Decypher text:\", decrypt)"
   ]
  },
  {
   "cell_type": "markdown",
   "metadata": {},
   "source": [
    "Para realizar el cifrado basado en Geffe, se toma el generador de este para calcular la llave simétrica a partir de tres polinomios y tres semillas distintas. La longitud de esta clave será igual a la longitud del mensaje en binario, siendo calculada esta cadena por *str_to_binlist*. \n",
    "\n",
    "Una vez calculada esta cadena y la clave, realizamos la operación $m \\oplus k$, donde $m$ es el mensaje en plano y $k$ es la clave generada gracias al generador de Geffe. De esta operación, obtenemos el mensaje cifrado en binario $c$ que será lo que devuelve la función *Geffe_encrypt*.\n",
    "\n",
    "Este mensaje cifrado en binario, será la cadena que recibe el destinatario del mensaje, que pasará a descifrar con la función _Geffe_decrypt_. El destinatario computa la llave con el generador de Geffe y descifra el mensaje haciendo la misma operación que para encriptar, pero con el mensaje cifrado $c \\oplus k = m$. A diferencia de la función anterior, la función de descifrado nos devuelve el mensaje en formato _human readable_, gracias a la función *bin_to_str*.\n",
    "\n",
    "## Ejercicio 5\n",
    "\n",
    "Dada una sucesión de bits periódica, determina la complejidad lineal de dicha sucesión, y el polinomio de conexión que la genera.  Para esto, usa el algoritmo de Berlekamp-Massey.\n",
    "\n",
    "Haz ejemplos con sumas y productos de secuencias para ver qué ocurre con la complejidad lineal."
   ]
  },
  {
   "cell_type": "code",
   "execution_count": 12,
   "metadata": {},
   "outputs": [
    {
     "name": "stdout",
     "output_type": "stream",
     "text": [
      "Polinomio: [1, 0, 1, 0, 0, 1] \tComplejidad lineal: 5\n",
      "[1, 0, 1, 0, 0]\n"
     ]
    }
   ],
   "source": [
    "def Berlekam_Massey(sequence):\n",
    "    # initialize the parameters \n",
    "    n_bits = len(sequence)\n",
    "    C, B, L, m = [0]*n_bits, [0]*n_bits, 0, -1\n",
    "    C[0], B[0] = 1,1\n",
    "    \n",
    "    for N in range(n_bits):\n",
    "        # Compute the next discrepancy\n",
    "        di = (sequence[N] + sum([sequence[N - i]*C[ i] for i in range(1, L + 1)])) % 2\n",
    "        if di == 1: # Update register\n",
    "            T, D = C, list(B)\n",
    "            # D = B * X^(N-m) (add zeros to left side)\n",
    "            for i in range(N-m):\n",
    "                D.insert(0,0); D.pop(-1) # remove the trash bits\n",
    "            # C = C + B * X^(N-m)\n",
    "            C = bitwise_xor(C, D)\n",
    "            # Update the parameters\n",
    "            if L <= N // 2:\n",
    "                L, m, B = N +1 - L, N, T\n",
    "                \n",
    "    # return linear complexity and the polynom ready to use\n",
    "    finalC = list(C[::-1])\n",
    "    while finalC[0] == 0:\n",
    "        finalC.pop(0)\n",
    "    \n",
    "    return L, finalC\n",
    "\n",
    "\n",
    "sequence = [0,0,1,1,0,1,1,1,0]\n",
    "linear_complexity, polyn = Berlekam_Massey(sequence)\n",
    "print(\"Polinomio:\", polyn, \"\\tComplejidad lineal:\", linear_complexity)\n",
    "print(polyn[:5])"
   ]
  },
  {
   "cell_type": "markdown",
   "metadata": {},
   "source": [
    "Para resolver este ejercicio, he seguido el algoritmo que viene descrito en el libro \"_Handbook of Applied Criptography_\", donde en $n$ iteraciones calcula la complejidad lineal de la secuencia y el polinomio característico que genera esta secuencia.\n",
    "\n",
    "En este caso, como durante el desarrollo del guión los polinomios se han tomado de la siguiente forma $C(x) = X^na_n + x^{n-1}a_{n-1} + \\cdots + 1$ la función, una vez que ha obtenido el polinomio, lo invierte y elimina los ceros que se encuentra al principio para devolver el resultado. Para probar que está bien, podemos comprobar que el LFSR generado con este polinomio genera la secuencia anterior."
   ]
  },
  {
   "cell_type": "code",
   "execution_count": 13,
   "metadata": {},
   "outputs": [
    {
     "name": "stdout",
     "output_type": "stream",
     "text": [
      "Son iguales: True\n"
     ]
    }
   ],
   "source": [
    "test_seq = LFSR(polyn[:5], sequence[:5], len(sequence))\n",
    "print(\"Son iguales:\", test_seq == sequence)"
   ]
  }
 ],
 "metadata": {
  "kernelspec": {
   "display_name": "Python 3",
   "language": "python",
   "name": "python3"
  },
  "language_info": {
   "codemirror_mode": {
    "name": "ipython",
    "version": 3
   },
   "file_extension": ".py",
   "mimetype": "text/x-python",
   "name": "python",
   "nbconvert_exporter": "python",
   "pygments_lexer": "ipython3",
   "version": "3.6.1"
  }
 },
 "nbformat": 4,
 "nbformat_minor": 2
}
