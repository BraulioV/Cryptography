{
 "cells": [
  {
   "cell_type": "markdown",
   "metadata": {},
   "source": [
    "# Cifrado Flujo\n",
    "\n",
    "## Ejercicio 1\n",
    "\n",
    "Escribe una función que determine si una secuencia de bits cumple los postulados de Golomb."
   ]
  },
  {
   "cell_type": "code",
   "execution_count": 37,
   "metadata": {},
   "outputs": [
    {
     "name": "stdout",
     "output_type": "stream",
     "text": [
      "True\n"
     ]
    }
   ],
   "source": [
    "from itertools import groupby\n",
    "from collections import Counter\n",
    "from scipy.spatial.distance import cdist\n",
    "\n",
    "bits = [0, 0, 0, 1, 1, 1, 1, 0, 1, 0, 1, 1, 0, 0, 1]\n",
    "\n",
    "def first_rule(seq):\n",
    "    # Contamos el número de unos\n",
    "    n_ones = sum(seq)\n",
    "    n_bits = len(seq)\n",
    "    # Si la longitud de la secuencia es 0\n",
    "    if n_bits % 2 == 0:\n",
    "        # a la fuerza tienen que ser iguales\n",
    "        # num_ceros y num_unos\n",
    "        return n_bits / 2 == n_ones\n",
    "    else:\n",
    "        n2_bits = n_bits // 2\n",
    "        return n2_bits == n_ones or (n2_bits + 1) == n_ones\n",
    "\n",
    "    \n",
    "first_rule(bits)\n",
    "\n",
    "# Esta función calcula el número de rachas\n",
    "# de longitud k en la secuencia seq      \n",
    "def second_rule(seq):\n",
    "    # obtenemos todas las rachas posibles\n",
    "    # que existen en la secuencia\n",
    "    runs = [list(g) for k, g in groupby(seq)]\n",
    "    # y contamos el número de rachas que\n",
    "    # hay para cada longitud\n",
    "    count = Counter(map(lambda x: len(x), runs))\n",
    "    last_key = -1\n",
    "    # comprobamos si se cumple que #runs(k+1) == runs(k)\n",
    "    for key, elem in count.items():\n",
    "        if last_key != -1:\n",
    "            # en el caso de que el siguiente elemento\n",
    "            # no sea 1/2 veces más pequeño\n",
    "            if count[last_key] < elem:      \n",
    "                return False\n",
    "            \n",
    "            last_key = key\n",
    "        else:\n",
    "            last_key = key\n",
    "            \n",
    "    else:\n",
    "        # si todo va bien, devolvemos True\n",
    "        return True\n",
    "\n",
    "\n",
    "def third_rule(seq):\n",
    "    pass"
   ]
  }
 ],
 "metadata": {
  "kernelspec": {
   "display_name": "Python 3",
   "language": "python",
   "name": "python3"
  },
  "language_info": {
   "codemirror_mode": {
    "name": "ipython",
    "version": 3
   },
   "file_extension": ".py",
   "mimetype": "text/x-python",
   "name": "python",
   "nbconvert_exporter": "python",
   "pygments_lexer": "ipython3",
   "version": "3.5.3"
  }
 },
 "nbformat": 4,
 "nbformat_minor": 2
}
