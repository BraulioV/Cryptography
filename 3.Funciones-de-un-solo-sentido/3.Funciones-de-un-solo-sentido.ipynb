{
 "cells": [
  {
   "cell_type": "markdown",
   "metadata": {},
   "source": [
    "# Funciones de un solo sentido\n",
    "\n",
    "## Ejercicio 1\n",
    "\n",
    "Sea $(a_1,\\ldots,a_k)$ una secuencia super-creciente de números positivos (la suma de los términos que preceden a $a_i$ es menor que $a_i$, para todo $i$). Elige $n > \\sum a_i$, y $u$ un entero positivo tal que $gcd(n, u) = 1$. Define $a_i^* = ua_i \\bmod n$. La función mochila (_knapsack_) asociada a $(a_1^*,\\ldots,a_k^*)$ es $$f:\\mathbb{Z}_2^k \\rightarrow \\mathbb{N}, f(x_1,\\ldots,x_k) = \\sum_{i=1}^k x_ia_i^*$$\n",
    "\n",
    "Implementa esta función y su inversa, tal y como se explica en _P. J. Cameron, Notes on cryptography_. La llave pública es $((a_1,\\ldots,a_k), n, u)$."
   ]
  },
  {
   "cell_type": "code",
   "execution_count": 1,
   "metadata": {},
   "outputs": [
    {
     "data": {
      "text/plain": [
       "array([    5,    17,    70,   177,   511,  1774,  6408, 24499], dtype=uint32)"
      ]
     },
     "execution_count": 1,
     "metadata": {},
     "output_type": "execute_result"
    }
   ],
   "source": [
    "import numpy as np\n",
    "import AritmeticaModular as am\n",
    "from random import randint\n",
    "\n",
    "\"\"\"\n",
    "    Generate a super-increasing sequence of length k.\n",
    "    \n",
    "    A super-increasing sequence has k elements where\n",
    "    \n",
    "                    a_i > sum(a_0,...,a_(i - 1))\n",
    "                    \n",
    "    An example: (1, 2, 4, 8, 16)\n",
    "    \n",
    "    k: length of the message's block\n",
    "\"\"\"\n",
    "def generate_super_increasing(k):\n",
    "    \n",
    "    # generate the first element of the sequence\n",
    "    sequence = [0]*k\n",
    "    sequence[0] = randint(1, k)\n",
    "    \n",
    "    for i in range(1, k):\n",
    "        sequence[i] = sum(sequence[:i]) + randint(sequence[i-1], sequence[i-1]*3)\n",
    "            \n",
    "    return np.array(sequence, dtype = np.uint32)\n",
    "\n",
    "generate_super_increasing(8)"
   ]
  },
  {
   "cell_type": "markdown",
   "metadata": {},
   "source": [
    "Con la función *generate_super_increasing* generamos una secuencia súper-creciente de longitud $k$, donde $k$ es el tamaño de bloque a cifrar del mensaje original.\n",
    "\n",
    "A continuación, tenemos que tomar un número $n$ tal que $n > \\sum_{i=0}^k a_i$ y un número $u$ que sea primo relativo con $n$, es decir, que $gcd(n, u) = 1$."
   ]
  },
  {
   "cell_type": "code",
   "execution_count": 2,
   "metadata": {},
   "outputs": [
    {
     "name": "stdout",
     "output_type": "stream",
     "text": [
      "Public key: [ 767 2301 8437  604 3044 6644 8101 9984]\n",
      "Private key: [   1    3   11   32   82  352 1103 3462] 11970 767\n"
     ]
    }
   ],
   "source": [
    "\"\"\"\n",
    "    Generate the keys for the knapsack cipher.\n",
    "    \n",
    "    Parameters:\n",
    "        block_length: length of the message's block\n",
    "    Return:\n",
    "        public_key: modified sequence\n",
    "        private_key: original super-increasing sequence, n and u\n",
    "\"\"\"\n",
    "\n",
    "def generate_keys(block_length):\n",
    "    # generate a sequence\n",
    "    sequence = generate_super_increasing(block_length)\n",
    "    \n",
    "    n = sum(sequence) + sequence[randint(0,block_length)]*2\n",
    "    \n",
    "    found_u = False\n",
    "    \n",
    "    while not found_u:\n",
    "        \n",
    "        u = randint(1, n)\n",
    "        \n",
    "        if am.ext_euclides(n,u)[0] == 1: \n",
    "            found_u = True\n",
    "            \n",
    "    public_sequence = np.array(list(map(lambda a_i: (u*a_i) % n, sequence)), dtype = np.uint32)\n",
    "    \n",
    "    return public_sequence, (sequence, n, u)\n",
    "\n",
    "key_pub, key = generate_keys(8)\n",
    "print(\"Public key:\", key_pub)\n",
    "print(\"Private key:\", key[0], key[1], key[2])"
   ]
  },
  {
   "cell_type": "markdown",
   "metadata": {},
   "source": [
    "Una vez generadas nuestras llaves, podemos pasar a realizar el cifrado del mensaje. Para cifrar el mensaje, al igual que hacíamos en el cifrado en flujo usando el generador de Geffe, tendremos que pasar el string a binario, y para ello, usaremos las funciones *str_to_binlist* y *bin_to_str*. Una vez realizado esto, podremos pasar a a cifrar el mensaje en bloques de tamaño $k$."
   ]
  },
  {
   "cell_type": "code",
   "execution_count": 3,
   "metadata": {},
   "outputs": [
    {
     "name": "stdout",
     "output_type": "stream",
     "text": [
      "Encrypted text: [11989, 38511, 19443, 27366, 30410, 8437, 23766, 11342, 29427, 27970, 30410, 8437, 17382, 38511, 20426, 38511, 19443, 8437, 29427, 23766, 17986, 8437, 20722, 30410, 27366, 17986]\n"
     ]
    }
   ],
   "source": [
    "from CifradoFlujo import bin_to_str, str_to_binlist\n",
    "\n",
    "\"\"\"\n",
    "                            Knapsack cypher\n",
    "    \n",
    "    This function take a message and the public\n",
    "    key, and encrypt the message performing:\n",
    "            ___n\n",
    "            \\                 a_i * e_i\n",
    "            /__ 0\n",
    "            \n",
    "    where a_i are the bits of the message and e_i\n",
    "    the elements of the public key.\n",
    "    \n",
    "    Parameters:\n",
    "        - message: a str containing the plain message.\n",
    "        - key_pub: public key\n",
    "\"\"\"\n",
    "def knapsack_cypher(message, key_pub):\n",
    "    # take the block size\n",
    "    block_size = len(key_pub)\n",
    "    # transform the message to binary list\n",
    "    binary_message = str_to_binlist(message)\n",
    "    # check if the message is divisible by the block size\n",
    "    # if not, add zeros at the end\n",
    "    while len(binary_message) % block_size != 0:\n",
    "        binary_message.append(0)\n",
    "    \n",
    "    cypher, binary_message = [], np.array(binary_message)\n",
    "     # cypher text\n",
    "    for i in range(0,len(binary_message), block_size):\n",
    "        cypher.append(np.sum(key_pub[binary_message[i:i + block_size] == 1]))\n",
    "        \n",
    "    return cypher\n",
    "\n",
    "\n",
    "encrypted = knapsack_cypher(\"Lorem ipsum dolor sit amet\", key_pub)\n",
    "\n",
    "print(\"Encrypted text:\", encrypted)"
   ]
  },
  {
   "cell_type": "code",
   "execution_count": 4,
   "metadata": {},
   "outputs": [
    {
     "data": {
      "text/plain": [
       "'Lorem ipsum dolor sit amet'"
      ]
     },
     "execution_count": 4,
     "metadata": {},
     "output_type": "execute_result"
    }
   ],
   "source": [
    "from AritmeticaModular import inverse\n",
    "\"\"\"\n",
    "                                        Knapsack decypher\n",
    "                        \n",
    "In order to decrypt a message encrypted with this algorithm,\n",
    "it's necessary to calculate v as u^{-1} mod n using Euclids' \n",
    "algorithm.\n",
    "\n",
    "Then, the message is decrypted:\n",
    "        b \n",
    "\"\"\"\n",
    "def knapsack_decypher(message, key):\n",
    "    # unfold the private key and calculate \n",
    "    # the inverse of u mod n\n",
    "    p_key, n, u = key\n",
    "    v =  inverse(u, n)\n",
    "    # Concatenate list in python it's very simple if you use the operator + and two list. \n",
    "    # That is the reason to make decypher_message an empty list\n",
    "    decypher_message = []\n",
    "    # start decypher\n",
    "    for b in message:\n",
    "        # b_ = vb mod n\n",
    "        b_, aux = (b * v) % n, 0\n",
    "        # start the greedy algorithm\n",
    "        greedy_result = set()\n",
    "        for i in range(1, len(p_key) + 1):\n",
    "            if aux + p_key[-i] <= b_:\n",
    "                aux += p_key[-i]\n",
    "                greedy_result.add(p_key[-i])\n",
    "                if aux == b_:\n",
    "                    break\n",
    "        # restore and add the message\n",
    "        decypher_message += list(map(lambda x: 1 if x in greedy_result else 0, p_key))\n",
    "        # return the plain text\n",
    "    return bin_to_str(decypher_message)\n",
    "\n",
    "\n",
    "knapsack_decypher(encrypted, key)"
   ]
  },
  {
   "cell_type": "markdown",
   "metadata": {},
   "source": [
    "En la función de descifrado haremos uso de las propiedades de las listas en Python y el uso de _set_ para poder buscar los elementos con una mayor velocidad. Al realizar el algoritmo Greedy, iremos insertando los elementos en un _set_, ya que, una vez haya encontrado el algoritmo Greedy la solución, pasaremos a recomponer el bloque de mensaje. Para ello, usaremos una función _map_ que crea una lista de forma que si $x$ se encuentra en el resultado del Greedy, devuelve un 1 y en caso contrario devuelve un 0.\n",
    "\n",
    "Esto nos devolverá una lista de unos y ceros que podemos concatenar entre sí usando el operador $+$ de las listas. Cuando tengamos el mensaje completo lo reconstruimos a texto plano usando la función *bin_to_str*.\n",
    "\n",
    "## Ejercicio 2\n",
    "\n",
    "Sea $p$ un (pseudo-)primo mayor o igual que vuestro número de identidad. Encuentra un elemento primitivo $\\alpha$, de $\\mathbb{Z}_p^*$ (se puede usar el libro \"_Handbook of Applied Cryptography [2.132 (iv)]_\"); para facilitar el criterio, es bueno escoger $p$ de forma que $\\frac{p - 1}{2}$ sea también primo, y para ello usamos Miller-Rabin). Definimos $$f:\\mathbb{Z}_p \\rightarrow \\mathbb{Z}_p, x\\mapsto\\alpha^x$$\n",
    "Calcula el inverso de tu fecha de nacimiento con el formato AAAAMMDD.\n",
    "\n",
    "__En lo que sigue, $p$ y $q$ son enteros primos, y $n = pq$.__"
   ]
  },
  {
   "cell_type": "code",
   "execution_count": 5,
   "metadata": {},
   "outputs": [
    {
     "name": "stdout",
     "output_type": "stream",
     "text": [
      "Primitive: 16936272\n"
     ]
    }
   ],
   "source": [
    "from os import environ\n",
    "import AritmeticaModular as am\n",
    "from random import randint\n",
    "\n",
    "# search a prime p that (p-1) // 2 is prime too (probably)\n",
    "def search_prime(n):\n",
    "    p = n\n",
    "    while not (am.miller_rabin_test(p) and\n",
    "               am.miller_rabin_test((p -1)//2)):\n",
    "            p +=1\n",
    "    return p\n",
    "\n",
    "# initial number\n",
    "p, β = search_prime(int(environ[\"ID\"])), int(environ[\"BIRTH\"])\n",
    "α = randint(2, p)\n",
    "\n",
    "\"\"\"\n",
    "                Search a primitive α of Z_p\n",
    "    \n",
    "    α will be an primitive of Z_p if and only if:\n",
    "    \n",
    "        * α² != 1\n",
    "        * α^((p-1) / 2) != 1\n",
    "\"\"\"        \n",
    "def search_primitive_Zp(p):\n",
    "    α, found = randint(2, p-2), False\n",
    "    \n",
    "    while not found:\n",
    "        \n",
    "        if am.big_pow(α, (p - 1) // 2, p) != 1 and α**2 != 1:\n",
    "            found = True\n",
    "        else:\n",
    "            α = randint(2, p - 2)\n",
    "            \n",
    "    return α\n",
    "\n",
    "α = search_primitive_Zp(p)\n",
    "print(\"Primitive:\", α)"
   ]
  },
  {
   "cell_type": "markdown",
   "metadata": {},
   "source": [
    "Para calcular el inverso del mi fecha de nacimiento módulo el primer primo que surge de mi DNI, tenemos que calcular primero un elemento primitivo del cuerpo $\\mathbb{Z}_p$. Para ello, como hemos elegido $p$ de la forma que $p$ es primo y $\\frac{p - 1}{2}$ también lo es, podemos definir $p - 1$ como: $$p - 1 = \\underbrace{2}_{q_1} \\cdot \\underbrace{\\frac{p - 1}{2}}_{q_2}$$ Entonces, $\\alpha$ será un elemento primitivo si y sólo si cumple las siguientes condiciones:\n",
    "* $\\alpha^2\\neq 1 \\longrightarrow \\alpha\\neq1$.\n",
    "* $\\alpha^{\\frac{p -1}{2}} \\neq 1$.\n",
    "\n",
    "Por lo tanto, buscaremos un $\\alpha$ de manera aleatoria que cumpla estas condiciones. Aunque sea aleatorio, esto tardará bastante poco porque la probabilidad de encontrarse un elemento de este tipo es bastante alta, siendo de $\\frac{1}{3}$.\n",
    "\n",
    "Una vez que tenemos esto, vamos a calcular el logaritmo de la solución para obtener la inversa de la imagen de la función."
   ]
  },
  {
   "cell_type": "code",
   "execution_count": 6,
   "metadata": {},
   "outputs": [
    {
     "name": "stdout",
     "output_type": "stream",
     "text": [
      "Inverso: 15186901\n"
     ]
    }
   ],
   "source": [
    "inv = am.baby_step_giant_step(α, β, p)\n",
    "print(\"Inverso:\", inv)"
   ]
  },
  {
   "cell_type": "markdown",
   "metadata": {},
   "source": [
    "Ahora para comprobar si la solución es correcta, aplicamos la exponencial para comprobar si obtenemos el mismo resultado, donde $\\beta$ es la fecha de nacimiento. "
   ]
  },
  {
   "cell_type": "code",
   "execution_count": 7,
   "metadata": {},
   "outputs": [
    {
     "data": {
      "text/plain": [
       "True"
      ]
     },
     "execution_count": 7,
     "metadata": {},
     "output_type": "execute_result"
    }
   ],
   "source": [
    "am.big_pow(α, inv, p) == β"
   ]
  },
  {
   "cell_type": "markdown",
   "metadata": {},
   "source": [
    "## Ejercicio 3\n",
    "\n",
    "Sea $f:\\mathbb{Z}_n \\rightarrow \\mathbb{Z}_n$ la función de Rabin: $f(x) = x^2$. Sea $n = 48478872564493742276963$. Sabemos que $f(12) = 144= f(37659670402359614687722)$. Usando esta información, calcula $p$ y $q$ (mirar la demostración de \"_Lecture Notes on Cryptography_\", Lemma 2.43."
   ]
  },
  {
   "cell_type": "code",
   "execution_count": 8,
   "metadata": {},
   "outputs": [
    {
     "name": "stdout",
     "output_type": "stream",
     "text": [
      "p: 159497098847 q: 303948303229 correctos: True\n"
     ]
    }
   ],
   "source": [
    "x, y = 37659670402359614687722, 12\n",
    "n = 48478872564493742276963\n",
    "\n",
    "p = am.ext_euclides((x - y), n)[0]\n",
    "q = n // p\n",
    "\n",
    "print(\"p:\", p, \"q:\", q, \"correctos:\", (p*q)==n)"
   ]
  },
  {
   "cell_type": "markdown",
   "metadata": {},
   "source": [
    "Para resolver este ejercicio, he seguido el razonamiento del Lemma 2.43 del libro \"_Lecture Notes on Criptography_\", donde si conocemos un número y su cuadrado, es muy fácil extraer un divisor no trivial de $n$, teniendo en cuenta que:\n",
    "\n",
    "1. Escogemos aleatoriamente un $x \\in \\mathbb{Z}_n^*$.\n",
    "2. Tomamos un $y$ que sea $y = x^2 \\bmod n$.\n",
    "3. En caso de que $x \\equiv y \\bmod n $ no sea cierto, el $\\gcd(x - y, n)$ es un divisor no trivial de $n$. Por lo tanto, ya habremos factorizado $n$.\n",
    "\n",
    "Como en este caso ya disponemos de dos $x$ y sus exponenciación, podemos calcular fácilmente $p$ y $q$."
   ]
  },
  {
   "cell_type": "markdown",
   "metadata": {},
   "source": [
    "## Ejercicio 4\n",
    "\n",
    "\n",
    "Elige $a_0$ y $a_1$ dos cuadrados arbitrarios módulo $n$ ($n$ como en el Ejercicio 3). Sea $$h:\\mathbb{Z}_2 \\times (\\mathbb{Z}_n)^*, h(b,x) = x^2a_0^ba_1^{1 - b}$$ Usa la función de Merkle-Damgard para implentar una función resumen tomando $h$ como función de compresión (esta $h$ fue definida por Glodwasser, Micali y Rivest). Los parámetros $a_0, a_1$ y $n$ se hacen públicos (la función debería admitir un parámetro en el que venga especificado el vector inicial)."
   ]
  },
  {
   "cell_type": "code",
   "execution_count": 9,
   "metadata": {},
   "outputs": [
    {
     "name": "stdout",
     "output_type": "stream",
     "text": [
      "a0 = 24017267900686256613169 \n",
      "a1 = 184247888902510874809\n"
     ]
    }
   ],
   "source": [
    "h = lambda b, x, a0, a1, n: (am.big_pow(x, 2, n)* (a0**b) * a1**(1 - b)) % n\n",
    "\n",
    "rand1, rand2 = randint(1, p), randint(1, q)\n",
    "a0, a1 = am.big_pow(rand1, 2, n), am.big_pow(rand2, 2, n)\n",
    "\n",
    "print(\"a0 =\", a0, \"\\na1 =\", a1)"
   ]
  },
  {
   "cell_type": "code",
   "execution_count": 10,
   "metadata": {},
   "outputs": [
    {
     "data": {
      "text/plain": [
       "31526974987248429178041"
      ]
     },
     "execution_count": 10,
     "metadata": {},
     "output_type": "execute_result"
    }
   ],
   "source": [
    "def MerkleDamgard_hash(original_message, vector, a0, a1, n, f):\n",
    "    \n",
    "    bin_message, x = str_to_binlist(original_message), vector\n",
    "    \n",
    "    for b in bin_message:\n",
    "        x = f(b, x, a0, a1,n)\n",
    "        \n",
    "    return x\n",
    "    \n",
    "MerkleDamgard_hash(\"Lore ipsum dolor sit amet\", 987, a0, a1, n, h)"
   ]
  },
  {
   "cell_type": "markdown",
   "metadata": {},
   "source": [
    "En este ejercicio, cogemos dos elementos aleatorios entre 1 y $p$, y entre 1 y $q$ (donde $n = p\\cdot q$) y calculamos el cuadrado de esos números módulo $n$, para obtener dos cuadrados. Tras esto, pasamos a la función de _Merkle-Damgard_ en el que vamos calculando el hash del mensaje gracias a la función $h$. \n",
    "\n",
    "Como resultado de la función, devolvemos el último elemento que obtenemos de aplicar la función Hash.\n",
    "\n",
    "## Ejercicio 5\n",
    "\n",
    "Sea $p$ el menor primo entero mayor o igual que tu número de identidad, y sea $q$ el primer primo mayor o igual que tu fecha de nacimiento (AAAAMMDD). Selecciona $e$ tal que $gcd(e, (p -1)(q -1)) = 1$. Define la función RSA $$f:\\mathbb{Z}_n \\rightarrow \\mathbb{Z}_n, x \\mapsto x^e$$\n",
    "\n",
    "Calcula el inverso de 1234567890."
   ]
  },
  {
   "cell_type": "code",
   "execution_count": 13,
   "metadata": {},
   "outputs": [
    {
     "name": "stdout",
     "output_type": "stream",
     "text": [
      "321572152786058\n",
      "1234567890\n"
     ]
    }
   ],
   "source": [
    "p, q =search_prime(int(environ[\"ID\"])), search_prime(int(environ[\"BIRTH\"])) \n",
    "\n",
    "φ, e = (p - 1) * (q - 1), randint(1, q)\n",
    "\n",
    "while am.ext_euclides(e, φ)[0] != 1:\n",
    "    e = randint(1, q)\n",
    "    \n",
    "d = am.inverse(e, φ) + φ\n",
    "\n",
    "inverse  = am.big_pow(1234567890, d, p*q)\n",
    "print(inverse)\n",
    "print(am.big_pow(inverse, e, p*q))"
   ]
  },
  {
   "cell_type": "markdown",
   "metadata": {},
   "source": [
    "En este caso, para el cálculo de la preimagen, partimos de que conocemos el valor de $n$, donde $n = p \\cdot q$. Esto se conoce como el _módulo del criptosistema_. Al conocer $p$ y $q$, también conoceremos $\\varphi(n) = (p-1)\\cdot(q -1)$. Conocido esto, podemos calcular el _exponente de cifrado_, que en este caso es $e$.\n",
    "\n",
    "Con todos estos datos, podemos calcular $d$ que es el exponente de descifrado. El origen de calcular esto, es que RSA cifra el sistema con la función $f$ definida anteriormente, donde cifra elevando un número al _exponente de cifrado_, mientras que el descifrado se calcula elevando el número cifrado a $d$, donde $d$ tiene una relación matemática con $e$ definida de la siguiente manera $$e\\cdot d \\equiv 1 \\bmod \\varphi(n)$$\n",
    "\n",
    "Si despejamos la congruencia, podemos obtener $d$, y realizando la operación $ 123456790^d\\bmod n$, obtendremos su preimagen.\n",
    "\n",
    "## Ejercicio 6\n",
    "\n",
    "\n",
    "Sea $n=50000000385000000551$, y sabemos que una inversa de $\\mathbb{Z}_n \\rightarrow \\mathbb{Z}_n, x \\mapsto x^5$ es $x \\mapsto x^10000000074000000101$ (esto es, conoces tanto la llave pública como la llave privada de la función RSA). Encuentra $p$ y $q$ usando el método explicado en \"_Notes on cryptography\" Page 92_. Compara este prodecimiento con el algoritmo de Miller-Rabin y el ejercicio 3."
   ]
  },
  {
   "cell_type": "code",
   "execution_count": 68,
   "metadata": {},
   "outputs": [
    {
     "data": {
      "text/plain": [
       "True"
      ]
     },
     "execution_count": 68,
     "metadata": {},
     "output_type": "execute_result"
    }
   ],
   "source": [
    "n, e, d = 50000000385000000551, 5, 10000000074000000101\n",
    "\n",
    "def broke_RSA(n, e, d):\n",
    "    # Let de - 1 = 2^a * b and take a random x: 0 < x < n \n",
    "    # calculate the gcd(x,n)\n",
    "    a, b = am.bifactor(d*e - 1)\n",
    "    x = randint(1, n)\n",
    "\n",
    "    if am.ext_euclides(x, n)[0] != 1:\n",
    "        # we found a factor of n\n",
    "        p, q = x, n//x\n",
    "    else:\n",
    "        y = am.big_pow(x, b, n)\n",
    "        z = y\n",
    "        while y % n != 1:\n",
    "            z = y\n",
    "            y = am.big_pow(y, 2, n)\n",
    "            if y % n == (n - 1):\n",
    "                raise ValueError(\"The algorithm has failed\")\n",
    "        \n",
    "        p, q = am.ext_euclides(z + 1, n)[0], am.ext_euclides(z - 1, n)[0]\n",
    "    \n",
    "    return p, q\n",
    "\n",
    "p, q = broke_RSA(n, e, d)\n",
    "p*q == n"
   ]
  }
 ],
 "metadata": {
  "kernelspec": {
   "display_name": "Python 3",
   "language": "python",
   "name": "python3"
  },
  "language_info": {
   "codemirror_mode": {
    "name": "ipython",
    "version": 3
   },
   "file_extension": ".py",
   "mimetype": "text/x-python",
   "name": "python",
   "nbconvert_exporter": "python",
   "pygments_lexer": "ipython3",
   "version": "3.6.1"
  }
 },
 "nbformat": 4,
 "nbformat_minor": 2
}
