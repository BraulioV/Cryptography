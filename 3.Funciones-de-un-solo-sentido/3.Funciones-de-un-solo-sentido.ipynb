{
 "cells": [
  {
   "cell_type": "markdown",
   "metadata": {},
   "source": [
    "# Funciones de un solo sentido\n",
    "\n",
    "## Ejercicio 1\n",
    "\n",
    "Sea $(a_1,\\ldots,a_k)$ una secuencia super-creciente de números positivos (la suma de los términos que preceden a $a_i$ es menor que $a_i$, para todo $i$). Elige $n > \\sum a_i$, y $u$ un entero positivo tal que $gcd(n, u) = 1$. Define $a_i^* = ua_i \\bmod n$. La función mochila (_knapsack_) asociada a $(a_1^*,\\ldots,a_k^*)$ es $$f:\\mathbb{Z}_2^k \\rightarrow \\mathbb{N}, f(x_1,\\ldots,x_k) = \\sum_{i=1}^k x_ia_i^*$$\n",
    "\n",
    "Implementa esta función y su inversa, tal y como se explica en _P. J. Cameron, Notes on cryptography_. La llave pública es $((a_1,\\ldots,a_k), n, u)$."
   ]
  },
  {
   "cell_type": "code",
   "execution_count": 1,
   "metadata": {},
   "outputs": [
    {
     "data": {
      "text/plain": [
       "[3, 7, 24, 73, 187, 612, 1759, 5826]"
      ]
     },
     "execution_count": 1,
     "metadata": {},
     "output_type": "execute_result"
    }
   ],
   "source": [
    "import AritmeticaModular as am\n",
    "from random import randint\n",
    "\n",
    "\"\"\"\n",
    "    Generate a super-increasing sequence of length k.\n",
    "    \n",
    "    A super-increasing sequence has k elements where\n",
    "    \n",
    "                    a_i > sum(a_0,...,a_(i - 1))\n",
    "                    \n",
    "    An example: (1, 2, 4, 8, 16)\n",
    "    \n",
    "    k: length of the message's block\n",
    "\"\"\"\n",
    "def generate_super_increasing(k):\n",
    "    \n",
    "    # generate the first element of the sequence\n",
    "    sequence = [0]*k\n",
    "    sequence[0] = randint(1, k)\n",
    "    \n",
    "    for i in range(1, k):\n",
    "        sequence[i] = sum(sequence[:i]) + randint(sequence[i-1], sequence[i-1]*2)\n",
    "            \n",
    "    return sequence\n",
    "\n",
    "generate_super_increasing(8)"
   ]
  }
 ],
 "metadata": {
  "kernelspec": {
   "display_name": "Python 3",
   "language": "python",
   "name": "python3"
  },
  "language_info": {
   "codemirror_mode": {
    "name": "ipython",
    "version": 3
   },
   "file_extension": ".py",
   "mimetype": "text/x-python",
   "name": "python",
   "nbconvert_exporter": "python",
   "pygments_lexer": "ipython3",
   "version": "3.6.1"
  }
 },
 "nbformat": 4,
 "nbformat_minor": 2
}
