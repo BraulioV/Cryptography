{
 "cells": [
  {
   "cell_type": "markdown",
   "metadata": {},
   "source": [
    "# Funciones de un solo sentido\n",
    "\n",
    "## Ejercicio 1\n",
    "\n",
    "Sea $(a_1,\\ldots,a_k)$ una secuencia super-creciente de números positivos (la suma de los términos que preceden a $a_i$ es menor que $a_i$, para todo $i$). Elige $n > \\sum a_i$, y $u$ un entero positivo tal que $gcd(n, u) = 1$. Define $a_i^* = ua_i \\bmod n$. La función mochila (_knapsack_) asociada a $(a_1^*,\\ldots,a_k^*)$ es $$f:\\mathbb{Z}_2^k \\rightarrow \\mathbb{N}, f(x_1,\\ldots,x_k) = \\sum_{i=1}^k x_ia_i^*$$\n",
    "\n",
    "Implementa esta función y su inversa, tal y como se explica en _P. J. Cameron, Notes on cryptography_. La llave pública es $((a_1,\\ldots,a_k), n, u)$."
   ]
  },
  {
   "cell_type": "code",
   "execution_count": 1,
   "metadata": {},
   "outputs": [
    {
     "data": {
      "text/plain": [
       "array([   2,    5,   14,   56,  213,  697, 2128, 5474], dtype=uint32)"
      ]
     },
     "execution_count": 1,
     "metadata": {},
     "output_type": "execute_result"
    }
   ],
   "source": [
    "import numpy as np\n",
    "import AritmeticaModular as am\n",
    "from random import randint\n",
    "\n",
    "\"\"\"\n",
    "    Generate a super-increasing sequence of length k.\n",
    "    \n",
    "    A super-increasing sequence has k elements where\n",
    "    \n",
    "                    a_i > sum(a_0,...,a_(i - 1))\n",
    "                    \n",
    "    An example: (1, 2, 4, 8, 16)\n",
    "    \n",
    "    k: length of the message's block\n",
    "\"\"\"\n",
    "def generate_super_increasing(k):\n",
    "    \n",
    "    # generate the first element of the sequence\n",
    "    sequence = [0]*k\n",
    "    sequence[0] = randint(1, k)\n",
    "    \n",
    "    for i in range(1, k):\n",
    "        sequence[i] = sum(sequence[:i]) + randint(sequence[i-1], sequence[i-1]*3)\n",
    "            \n",
    "    return np.array(sequence, dtype = np.uint32)\n",
    "\n",
    "generate_super_increasing(8)"
   ]
  },
  {
   "cell_type": "markdown",
   "metadata": {},
   "source": [
    "Con la función *generate_super_increasing* generamos una secuencia súper-creciente de longitud $k$, donde $k$ es el tamaño de bloque a cifrar del mensaje original.\n",
    "\n",
    "A continuación, tenemos que tomar un número $n$ tal que $n > \\sum_{i=0}^k a_i$ y un número $u$ que sea primo relativo con $n$, es decir, que $gcd(n, u) = 1$."
   ]
  },
  {
   "cell_type": "code",
   "execution_count": 2,
   "metadata": {},
   "outputs": [
    {
     "name": "stdout",
     "output_type": "stream",
     "text": [
      "Public key: [48788 66911 42103 21496  8463  1884 42925 18089]\n",
      "Private key: [    6    22    52   234   786  2771  8750 27283] 67187 30527\n"
     ]
    }
   ],
   "source": [
    "\"\"\"\n",
    "    Generate the keys for the knapsack cipher.\n",
    "    \n",
    "    Parameters:\n",
    "        block_length: length of the message's block\n",
    "    Return:\n",
    "        public_key: modified sequence\n",
    "        private_key: original super-increasing sequence, n and u\n",
    "\"\"\"\n",
    "\n",
    "def generate_keys(block_length):\n",
    "    # generate a sequence\n",
    "    sequence = generate_super_increasing(block_length)\n",
    "    \n",
    "    n = sum(sequence) + sequence[randint(0,block_length)]\n",
    "    \n",
    "    found_u = False\n",
    "    \n",
    "    while not found_u:\n",
    "        \n",
    "        u = randint(1, n)\n",
    "        \n",
    "        if am.ext_euclides(n,u)[0] == 1: \n",
    "            found_u = True\n",
    "            \n",
    "    public_sequence = np.array(list(map(lambda a_i: (u*a_i) % n, sequence)), dtype = np.uint32)\n",
    "    \n",
    "    return public_sequence, (sequence, n, u)\n",
    "\n",
    "key_pub, key = generate_keys(8)\n",
    "print(\"Public key:\", key_pub)\n",
    "print(\"Private key:\", key[0], key[1], key[2])"
   ]
  },
  {
   "cell_type": "markdown",
   "metadata": {},
   "source": [
    "Una vez generadas nuestras llaves, podemos pasar a realizar el cifrado del mensaje. Para cifrar el mensaje, al igual que hacíamos en el cifrado en flujo usando el generador de Geffe, tendremos que pasar el string a binario, y para ello, usaremos las funciones *str_to_binlist* y *bin_to_str*. Una vez realizado esto, podremos pasar a a cifrar el mensaje en bloques de tamaño $k$."
   ]
  },
  {
   "cell_type": "code",
   "execution_count": 27,
   "metadata": {},
   "outputs": [
    {
     "name": "stdout",
     "output_type": "stream",
     "text": [
      "Encrypted text: [77258, 180375, 173435, 128987, 137450, 42103, 135566, 130510, 191524, 150483, 137450, 42103, 110898, 180375, 119361, 180375, 173435, 42103, 191524, 135566, 132394, 42103, 127103, 137450, 128987, 132394]\n"
     ]
    }
   ],
   "source": [
    "from CifradoFlujo import bin_to_str, str_to_binlist\n",
    "\n",
    "\"\"\"\n",
    "                            Knapsack cypher\n",
    "    \n",
    "    This function take a message and the public\n",
    "    key, and encrypt the message performing:\n",
    "            ___n\n",
    "            \\                 a_i * e_i\n",
    "            /__ 0\n",
    "            \n",
    "    where a_i are the bits of the message and e_i\n",
    "    the elements of the public key.\n",
    "    \n",
    "    Parameters:\n",
    "        - message: a str containing the plain message.\n",
    "        - key_pub: public key\n",
    "\"\"\"\n",
    "def knapsack_cypher(message, key_pub):\n",
    "    # take the block size\n",
    "    block_size = len(key_pub)\n",
    "    # transform the message to binary list\n",
    "    binary_message = str_to_binlist(message)\n",
    "    # check if the message is divisible by the block size\n",
    "    # if not, add zeros at the end\n",
    "    while len(binary_message) % block_size != 0:\n",
    "        binary_message.append(0)\n",
    "    \n",
    "    cypher, binary_message = [], np.array(binary_message)\n",
    "     # cypher text\n",
    "    for i in range(0,len(binary_message), block_size):\n",
    "        cypher.append(np.sum(key_pub[binary_message[i:i + block_size] == 1]))\n",
    "        \n",
    "    return cypher\n",
    "\n",
    "\n",
    "encrypted = knapsack_cypher(\"Lorem ipsum dolor sit amet\", key_pub)\n",
    "\n",
    "print(\"Encrypted text:\", encrypted)"
   ]
  },
  {
   "cell_type": "code",
   "execution_count": 26,
   "metadata": {},
   "outputs": [
    {
     "data": {
      "text/plain": [
       "'que pasa colegui'"
      ]
     },
     "execution_count": 26,
     "metadata": {},
     "output_type": "execute_result"
    }
   ],
   "source": [
    "from AritmeticaModular import inverse\n",
    "\"\"\"\n",
    "                                        Knapsack decypher\n",
    "                        \n",
    "In order to decrypt a message encrypted with this algorithm,\n",
    "it's necessary to calculate v as u^{-1} mod n using Euclids' \n",
    "algorithm.\n",
    "\n",
    "Then, the message is decrypted:\n",
    "        b \n",
    "\"\"\"\n",
    "def knapsack_decypher(message, key):\n",
    "    # unfold the private key and calculate \n",
    "    # the inverse of u mod n\n",
    "    p_key, n, u = key\n",
    "    v =  inverse(u, n) \n",
    "    decypher_message = []\n",
    "    for b in message:\n",
    "        b_, aux = (b * v) % n, 0\n",
    "        greedy_result = set()\n",
    "        for i in range(1, len(p_key) + 1):\n",
    "            if aux + p_key[-i] <= b_:\n",
    "                aux += p_key[-i]\n",
    "                greedy_result.add(p_key[-i])\n",
    "                if aux == b_:\n",
    "                    break\n",
    "        # restore and add the message\n",
    "        decypher_message += list(map(lambda x: 1 if x in greedy_result else 0, p_key))\n",
    "        \n",
    "    return bin_to_str(decypher_message)\n",
    "knapsack_decypher(encrypted, key)"
   ]
  }
 ],
 "metadata": {
  "kernelspec": {
   "display_name": "Python 3",
   "language": "python",
   "name": "python3"
  },
  "language_info": {
   "codemirror_mode": {
    "name": "ipython",
    "version": 3
   },
   "file_extension": ".py",
   "mimetype": "text/x-python",
   "name": "python",
   "nbconvert_exporter": "python",
   "pygments_lexer": "ipython3",
   "version": "3.6.1"
  }
 },
 "nbformat": 4,
 "nbformat_minor": 2
}
