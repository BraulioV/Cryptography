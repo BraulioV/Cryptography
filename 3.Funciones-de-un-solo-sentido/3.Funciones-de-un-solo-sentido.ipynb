{
 "cells": [
  {
   "cell_type": "markdown",
   "metadata": {},
   "source": [
    "# Funciones de un solo sentido\n",
    "\n",
    "## Ejercicio 1\n",
    "\n",
    "Sea $(a_1,\\ldots,a_k)$ una secuencia super-creciente de números positivos (la suma de los términos que preceden a $a_i$ es menor que $a_i$, para todo $i$). Elige $n > \\sum a_i$, y $u$ un entero positivo tal que $gcd(n, u) = 1$. Define $a_i^* = ua_i \\bmod n$. La función mochila (_knapsack_) asociada a $(a_1^*,\\ldots,a_k^*)$ es $$f:\\mathbb{Z}_2^k \\rightarrow \\mathbb{N}, f(x_1,\\ldots,x_k) = \\sum_{i=1}^k x_ia_i^*$$\n",
    "\n",
    "Implementa esta función y su inversa, tal y como se explica en _P. J. Cameron, Notes on cryptography_. La llave pública es $((a_1,\\ldots,a_k), n, u)$."
   ]
  },
  {
   "cell_type": "code",
   "execution_count": 4,
   "metadata": {},
   "outputs": [
    {
     "data": {
      "text/plain": [
       "array([    4,    10,    26,   118,   285,  1178,  3792, 14464], dtype=uint32)"
      ]
     },
     "execution_count": 4,
     "metadata": {},
     "output_type": "execute_result"
    }
   ],
   "source": [
    "import numpy as np\n",
    "import AritmeticaModular as am\n",
    "from random import randint\n",
    "\n",
    "\"\"\"\n",
    "    Generate a super-increasing sequence of length k.\n",
    "    \n",
    "    A super-increasing sequence has k elements where\n",
    "    \n",
    "                    a_i > sum(a_0,...,a_(i - 1))\n",
    "                    \n",
    "    An example: (1, 2, 4, 8, 16)\n",
    "    \n",
    "    k: length of the message's block\n",
    "\"\"\"\n",
    "def generate_super_increasing(k):\n",
    "    \n",
    "    # generate the first element of the sequence\n",
    "    sequence = [0]*k\n",
    "    sequence[0] = randint(1, k)\n",
    "    \n",
    "    for i in range(1, k):\n",
    "        sequence[i] = sum(sequence[:i]) + randint(sequence[i-1], sequence[i-1]*3)\n",
    "            \n",
    "    return np.array(sequence, dtype = np.uint32)\n",
    "\n",
    "generate_super_increasing(8)"
   ]
  },
  {
   "cell_type": "markdown",
   "metadata": {},
   "source": [
    "Con la función *generate_super_increasing* generamos una secuencia súper-creciente de longitud $k$, donde $k$ es el tamaño de bloque a cifrar del mensaje original.\n",
    "\n",
    "A continuación, tenemos que tomar un número $n$ tal que $n > \\sum_{i=0}^k a_i$ y un número $u$ que sea primo relativo con $n$, es decir, que $gcd(n, u) = 1$."
   ]
  },
  {
   "cell_type": "code",
   "execution_count": 9,
   "metadata": {},
   "outputs": [
    {
     "name": "stdout",
     "output_type": "stream",
     "text": [
      "Public key: [6116 5806 4876  226 4243 2583  806  893]\n",
      "Private key: [   1    3    9   39   94  307 1249 4566] 6271 6116\n"
     ]
    }
   ],
   "source": [
    "\"\"\"\n",
    "    Generate the keys for the knapsack cipher.\n",
    "    \n",
    "    Parameters:\n",
    "        block_length: length of the message's block\n",
    "    Return:\n",
    "        public_key: modified sequence\n",
    "        private_key: original super-increasing sequence, n and u\n",
    "\"\"\"\n",
    "\n",
    "def generate_keys(block_length):\n",
    "    # generate a sequence\n",
    "    sequence = generate_super_increasing(block_length)\n",
    "    \n",
    "    n = sum(sequence) + sequence[randint(0,block_length)]\n",
    "    \n",
    "    found_u = False\n",
    "    \n",
    "    while not found_u:\n",
    "        \n",
    "        u = randint(1, n)\n",
    "        \n",
    "        if am.ext_euclides(n,u)[0] == 1: \n",
    "            found_u = True\n",
    "            \n",
    "    public_sequence = np.array(list(map(lambda a_i: (u*a_i) % n, sequence)), dtype = np.uint32)\n",
    "    \n",
    "    return public_sequence, (sequence, n, u)\n",
    "\n",
    "key_pub, key = generate_keys(8)\n",
    "print(\"Public key:\", key_pub)\n",
    "print(\"Private key:\", key[0], key[1], key[2])"
   ]
  },
  {
   "cell_type": "markdown",
   "metadata": {},
   "source": [
    "Una vez generadas nuestras llaves, podemos pasar a realizar el cifrado del mensaje. Para cifrar el mensaje, al igual que hacíamos en el cifrado en flujo usando el generador de Geffe, tendremos que pasar el string a binario, y para ello, usaremos las funciones _str_to_binlist_ y _bin_to_str_. Una vez realizado esto, podremos pasar a a cifrar el mensaje en bloques de tamaño $k$."
   ]
  },
  {
   "cell_type": "code",
   "execution_count": 18,
   "metadata": {},
   "outputs": [
    {
     "name": "stdout",
     "output_type": "stream",
     "text": [
      "Encrypted text: [14925, 19207, 17508, 11575]\n"
     ]
    }
   ],
   "source": [
    "from CifradoFlujo import bin_to_str, str_to_binlist\n",
    "\n",
    "\"\"\"\n",
    "                            Knapsack cypher\n",
    "    \n",
    "    This function take a message and the public\n",
    "    key, and encrypt the message performing:\n",
    "            ___n\n",
    "            \\                 a_i * e_i\n",
    "            /__ 0\n",
    "            \n",
    "    where a_i are the bits of the message and e_i\n",
    "    the elements of the public key.\n",
    "    \n",
    "    Parameters:\n",
    "        - message: a str containing the plain message.\n",
    "        - key_pub: public key\n",
    "\"\"\"\n",
    "def knapsack_cypher(message, key_pub):\n",
    "    # take the block size\n",
    "    block_size = len(key_pub)\n",
    "    # transform the message to binary list\n",
    "    binary_message = str_to_binlist(message)\n",
    "    # check if the message is divisible by the block size\n",
    "    # if not, add zeros at the end\n",
    "    while len(binary_message) % block_size != 0:\n",
    "        binary_message.append(0)\n",
    "    \n",
    "    cypher, binary_message = [], np.array(binary_message)\n",
    "     # cypher text\n",
    "    for i in range(0,len(binary_message), block_size):\n",
    "        cypher.append(np.sum(key_pub[binary_message[i:i + block_size] == 1]))\n",
    "        \n",
    "    return cypher\n",
    "\n",
    "encrypted = knapsack_cypher(\"hola\", key_pub)\n",
    "\n",
    "print(\"Encrypted text:\", encrypted)"
   ]
  }
 ],
 "metadata": {
  "kernelspec": {
   "display_name": "Python 3",
   "language": "python",
   "name": "python3"
  },
  "language_info": {
   "codemirror_mode": {
    "name": "ipython",
    "version": 3
   },
   "file_extension": ".py",
   "mimetype": "text/x-python",
   "name": "python",
   "nbconvert_exporter": "python",
   "pygments_lexer": "ipython3",
   "version": "3.6.1"
  }
 },
 "nbformat": 4,
 "nbformat_minor": 2
}
