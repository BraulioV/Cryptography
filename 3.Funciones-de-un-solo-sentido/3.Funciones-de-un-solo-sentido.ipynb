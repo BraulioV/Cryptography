{
 "cells": [
  {
   "cell_type": "markdown",
   "metadata": {},
   "source": [
    "# Funciones de un solo sentido\n",
    "\n",
    "## Ejercicio 1\n",
    "\n",
    "Sea $(a_1,\\ldots,a_k)$ una secuencia super-creciente de números positivos (la suma de los términos que preceden a $a_i$ es menor que $a_i$, para todo $i$). Elige $n > \\sum a_i$, y $u$ un entero positivo tal que $gcd(n, u) = 1$. Define $a_i^* = ua_i \\bmod n$. La función mochila (_knapsack_) asociada a $(a_1^*,\\ldots,a_k^*)$ es $$f:\\mathbb{Z}_2^k \\rightarrow \\mathbb{N}, f(x_1,\\ldots,x_k) = \\sum_{i=1}^k x_ia_i^*$$\n",
    "\n",
    "Implementa esta función y su inversa, tal y como se explica en _P. J. Cameron, Notes on cryptography_. La llave pública es $((a_1,\\ldots,a_k), n, u)$."
   ]
  },
  {
   "cell_type": "code",
   "execution_count": 1,
   "metadata": {},
   "outputs": [
    {
     "data": {
      "text/plain": [
       "array([    3,     6,    20,    76,   293,   882,  3242, 11488], dtype=uint32)"
      ]
     },
     "execution_count": 1,
     "metadata": {},
     "output_type": "execute_result"
    }
   ],
   "source": [
    "import numpy as np\n",
    "import AritmeticaModular as am\n",
    "from random import randint\n",
    "\n",
    "\"\"\"\n",
    "    Generate a super-increasing sequence of length k.\n",
    "    \n",
    "    A super-increasing sequence has k elements where\n",
    "    \n",
    "                    a_i > sum(a_0,...,a_(i - 1))\n",
    "                    \n",
    "    An example: (1, 2, 4, 8, 16)\n",
    "    \n",
    "    k: length of the message's block\n",
    "\"\"\"\n",
    "def generate_super_increasing(k):\n",
    "    \n",
    "    # generate the first element of the sequence\n",
    "    sequence = [0]*k\n",
    "    sequence[0] = randint(1, k)\n",
    "    \n",
    "    for i in range(1, k):\n",
    "        sequence[i] = sum(sequence[:i]) + randint(sequence[i-1], sequence[i-1]*3)\n",
    "            \n",
    "    return np.array(sequence, dtype = np.uint32)\n",
    "\n",
    "generate_super_increasing(8)"
   ]
  },
  {
   "cell_type": "markdown",
   "metadata": {},
   "source": [
    "Con la función *generate_super_increasing* generamos una secuencia súper-creciente de longitud $k$, donde $k$ es el tamaño de bloque a cifrar del mensaje original.\n",
    "\n",
    "A continuación, tenemos que tomar un número $n$ tal que $n > \\sum_{i=0}^k a_i$ y un número $u$ que sea primo relativo con $n$, es decir, que $gcd(n, u) = 1$."
   ]
  },
  {
   "cell_type": "code",
   "execution_count": 2,
   "metadata": {},
   "outputs": [
    {
     "name": "stdout",
     "output_type": "stream",
     "text": [
      "Public key: [41299  3700 18057 22591 42707  4563 26199 48812]\n",
      "Private key: [    7    28    93   331  1007  3279 12987 36044] 53832 36661\n"
     ]
    }
   ],
   "source": [
    "\"\"\"\n",
    "    Generate the keys for the knapsack cipher.\n",
    "    \n",
    "    Parameters:\n",
    "        block_length: length of the message's block\n",
    "    Return:\n",
    "        public_key: modified sequence\n",
    "        private_key: original super-increasing sequence, n and u\n",
    "\"\"\"\n",
    "\n",
    "def generate_keys(block_length):\n",
    "    # generate a sequence\n",
    "    sequence = generate_super_increasing(block_length)\n",
    "    \n",
    "    n = sum(sequence) + sequence[randint(0,block_length)]*2\n",
    "    \n",
    "    found_u = False\n",
    "    \n",
    "    while not found_u:\n",
    "        \n",
    "        u = randint(1, n)\n",
    "        \n",
    "        if am.ext_euclides(n,u)[0] == 1: \n",
    "            found_u = True\n",
    "            \n",
    "    public_sequence = np.array(list(map(lambda a_i: (u*a_i) % n, sequence)), dtype = np.uint32)\n",
    "    \n",
    "    return public_sequence, (sequence, n, u)\n",
    "\n",
    "key_pub, key = generate_keys(8)\n",
    "print(\"Public key:\", key_pub)\n",
    "print(\"Private key:\", key[0], key[1], key[2])"
   ]
  },
  {
   "cell_type": "markdown",
   "metadata": {},
   "source": [
    "Una vez generadas nuestras llaves, podemos pasar a realizar el cifrado del mensaje. Para cifrar el mensaje, al igual que hacíamos en el cifrado en flujo usando el generador de Geffe, tendremos que pasar el string a binario, y para ello, usaremos las funciones *str_to_binlist* y *bin_to_str*. Una vez realizado esto, podremos pasar a a cifrar el mensaje en bloques de tamaño $k$."
   ]
  },
  {
   "cell_type": "code",
   "execution_count": 3,
   "metadata": {},
   "outputs": [
    {
     "name": "stdout",
     "output_type": "stream",
     "text": [
      "Encrypted text: [50970, 144038, 70547, 75132, 117839, 18057, 113276, 44348, 119359, 97723, 117839, 18057, 26320, 144038, 69027, 144038, 70547, 18057, 119359, 113276, 48911, 18057, 70569, 117839, 75132, 48911]\n"
     ]
    }
   ],
   "source": [
    "from CifradoFlujo import bin_to_str, str_to_binlist\n",
    "\n",
    "\"\"\"\n",
    "                            Knapsack cypher\n",
    "    \n",
    "    This function take a message and the public\n",
    "    key, and encrypt the message performing:\n",
    "            ___n\n",
    "            \\                 a_i * e_i\n",
    "            /__ 0\n",
    "            \n",
    "    where a_i are the bits of the message and e_i\n",
    "    the elements of the public key.\n",
    "    \n",
    "    Parameters:\n",
    "        - message: a str containing the plain message.\n",
    "        - key_pub: public key\n",
    "\"\"\"\n",
    "def knapsack_cypher(message, key_pub):\n",
    "    # take the block size\n",
    "    block_size = len(key_pub)\n",
    "    # transform the message to binary list\n",
    "    binary_message = str_to_binlist(message)\n",
    "    # check if the message is divisible by the block size\n",
    "    # if not, add zeros at the end\n",
    "    while len(binary_message) % block_size != 0:\n",
    "        binary_message.append(0)\n",
    "    \n",
    "    cypher, binary_message = [], np.array(binary_message)\n",
    "     # cypher text\n",
    "    for i in range(0,len(binary_message), block_size):\n",
    "        cypher.append(np.sum(key_pub[binary_message[i:i + block_size] == 1]))\n",
    "        \n",
    "    return cypher\n",
    "\n",
    "\n",
    "encrypted = knapsack_cypher(\"Lorem ipsum dolor sit amet\", key_pub)\n",
    "\n",
    "print(\"Encrypted text:\", encrypted)"
   ]
  },
  {
   "cell_type": "code",
   "execution_count": 4,
   "metadata": {},
   "outputs": [
    {
     "data": {
      "text/plain": [
       "'Lorem ipsum dolor sit amet'"
      ]
     },
     "execution_count": 4,
     "metadata": {},
     "output_type": "execute_result"
    }
   ],
   "source": [
    "from AritmeticaModular import inverse\n",
    "\"\"\"\n",
    "                                        Knapsack decypher\n",
    "                        \n",
    "In order to decrypt a message encrypted with this algorithm,\n",
    "it's necessary to calculate v as u^{-1} mod n using Euclids' \n",
    "algorithm.\n",
    "\n",
    "Then, the message is decrypted:\n",
    "        b \n",
    "\"\"\"\n",
    "def knapsack_decypher(message, key):\n",
    "    # unfold the private key and calculate \n",
    "    # the inverse of u mod n\n",
    "    p_key, n, u = key\n",
    "    v =  inverse(u, n)\n",
    "    # Concatenate list in python it's very simple if you use the operator + and two list. \n",
    "    # That is the reason to make decypher_message an empty list\n",
    "    decypher_message = []\n",
    "    # start decypher\n",
    "    for b in message:\n",
    "        # b_ = vb mod n\n",
    "        b_, aux = (b * v) % n, 0\n",
    "        # start the greedy algorithm\n",
    "        greedy_result = set()\n",
    "        for i in range(1, len(p_key) + 1):\n",
    "            if aux + p_key[-i] <= b_:\n",
    "                aux += p_key[-i]\n",
    "                greedy_result.add(p_key[-i])\n",
    "                if aux == b_:\n",
    "                    break\n",
    "        # restore and add the message\n",
    "        decypher_message += list(map(lambda x: 1 if x in greedy_result else 0, p_key))\n",
    "        # return the plain text\n",
    "    return bin_to_str(decypher_message)\n",
    "\n",
    "\n",
    "knapsack_decypher(encrypted, key)"
   ]
  },
  {
   "cell_type": "markdown",
   "metadata": {},
   "source": [
    "En la función de descifrado haremos uso de las propiedades de las listas en Python y el uso de _set_ para poder buscar los elementos con una mayor velocidad. Al realizar el algoritmo Greedy, iremos insertando los elementos en un _set_, ya que, una vez haya encontrado el algoritmo Greedy la solución, pasaremos a recomponer el bloque de mensaje. Para ello, usaremos una función _map_ que crea una lista de forma que si $x$ se encuentra en el resultado del Greedy, devuelve un 1 y en caso contrario devuelve un 0.\n",
    "\n",
    "Esto nos devolverá una lista de unos y ceros que podemos concatenar entre sí usando el operador $+$ de las listas. Cuando tengamos el mensaje completo lo reconstruimos a texto plano usando la función *bin_to_str*.\n",
    "\n",
    "## Ejercicio 2\n",
    "\n",
    "Sea $p$ un (pseudo-)primo mayor o igual que vuestro número de identidad. Encuentra un elemento primitivo $\\alpha$, de $\\mathbb{Z}_p^*$ (se puede usar el libro \"_Handbook of Applied Cryptography [2.132 (iv)]_\"); para facilitar el criterio, es bueno escoger $p$ de forma que $\\frac{p - 1}{2}$ sea también primo, y para ell usamos Miller-Rabin). Definimos $$f:\\mathbb{Z}_p \\rightarrow \\mathbb{Z}_p, x\\mapsto\\alpha^x$$\n",
    "Calcula el inverso de tu fecha de nacimiento con el formato AAAAMMDD.\n",
    "\n",
    "__En lo que sigue, $p$ y $q$ son enteros primos, y $n = pq$.__"
   ]
  },
  {
   "cell_type": "code",
   "execution_count": 5,
   "metadata": {},
   "outputs": [],
   "source": [
    "from os import environ\n",
    "import AritmeticaModular as am\n",
    "from random import randint\n",
    "# initial number\n",
    "p, β = int(environ[\"ID\"]), int(environ[\"BIRTH\"])\n",
    "α = randint(2, p)\n",
    "# search a prime p that (p-1) // 2 is prime too (probably)\n",
    "while not (am.miller_rabin_test(p) and am.miller_rabin_test((p -1)//2)):\n",
    "        p +=1"
   ]
  },
  {
   "cell_type": "markdown",
   "metadata": {},
   "source": [
    "## Ejercicio 3\n",
    "\n",
    "Sea $f:\\mathbb{Z}_n \\rightarrow \\mathbb{Z}_n$ la función de Rabin: $f(x) = x^2$. Sea $n = 48478872564493742276963$. Sabemos que $f(12) = 144= f(37659670402359614687722)$. Usando esta información, calcula $p$ y $q$ (mirar la demostración de \"_Lecture Notes on Cryptography_\", Lemma 2.43."
   ]
  },
  {
   "cell_type": "code",
   "execution_count": null,
   "metadata": {
    "collapsed": true
   },
   "outputs": [],
   "source": []
  },
  {
   "cell_type": "markdown",
   "metadata": {},
   "source": [
    "## Ejercicio 4\n",
    "\n",
    "Elige $a_0$ y $a_1$ dos cuadrados arbitrarios módulo $n$ ($n$ como en el Ejercicio 3). Sea $$h:\\mathbb{Z}_2 \\times (\\mathbb{Z}_n)^*, h(b,x) = x^2a_0^ba_1^{1 - b}$$ Usa la función de Merkle-Damg\\.{a}rd para implentar una función resumen tomando $h$ como función de compresión (esta $h$ fue definida por Glodwasser, Micali y Rivest). Los parámetros $a_0, a_1$ y $n$ se hacen públicos (la función debería admitir un parámtero en el que venga especificado el vector inicial)."
   ]
  },
  {
   "cell_type": "code",
   "execution_count": null,
   "metadata": {
    "collapsed": true
   },
   "outputs": [],
   "source": []
  },
  {
   "cell_type": "markdown",
   "metadata": {},
   "source": [
    "## Ejercicio 5\n",
    "\n",
    "Sea $p$ el menor primo entero mayor o igual que tu número de identidad, y sea $q$ el primer primo mayor o igual que tu fecha de nacimiento (AAAAMMDD). Selecciona $e$ tal que $gcd(e, (p -1)(q -1)) = 1$. Define la función RSA $$f:\\mathbb{Z}_n \\rightarrow \\mathbb{Z}_n, x \\mapsto x^e$$\n",
    "\n",
    "Calcula el inverso de 123456790."
   ]
  },
  {
   "cell_type": "code",
   "execution_count": null,
   "metadata": {
    "collapsed": true
   },
   "outputs": [],
   "source": []
  }
 ],
 "metadata": {
  "kernelspec": {
   "display_name": "Python 3",
   "language": "python",
   "name": "python3"
  },
  "language_info": {
   "codemirror_mode": {
    "name": "ipython",
    "version": 3
   },
   "file_extension": ".py",
   "mimetype": "text/x-python",
   "name": "python",
   "nbconvert_exporter": "python",
   "pygments_lexer": "ipython3",
   "version": "3.6.1"
  }
 },
 "nbformat": 4,
 "nbformat_minor": 2
}
