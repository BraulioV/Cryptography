{
 "cells": [
  {
   "cell_type": "markdown",
   "metadata": {},
   "source": [
    "# Funciones de un solo sentido\n",
    "\n",
    "## Ejercicio 1\n",
    "\n",
    "Sea $(a_1,\\ldots,a_k)$ una secuencia super-creciente de números positivos (la suma de los términos que preceden a $a_i$ es menor que $a_i$, para todo $i$). Elige $n > \\sum a_i$, y $u$ un entero positivo tal que $gcd(n, u) = 1$. Define $a_i^* = ua_i \\bmod n$. La función mochila (_knapsack_) asociada a $(a_1^*,\\ldots,a_k^*)$ es $$f:\\mathbb{Z}_2^k \\rightarrow \\mathbb{N}, f(x_1,\\ldots,x_k) = \\sum_{i=1}^k x_ia_i^*$$\n",
    "\n",
    "Implementa esta función y su inversa, tal y como se explica en _P. J. Cameron, Notes on cryptography_. La llave pública es $((a_1,\\ldots,a_k), n, u)$."
   ]
  },
  {
   "cell_type": "code",
   "execution_count": 1,
   "metadata": {},
   "outputs": [
    {
     "data": {
      "text/plain": [
       "[2, 4, 14, 34, 118, 321, 986, 3184]"
      ]
     },
     "execution_count": 1,
     "metadata": {},
     "output_type": "execute_result"
    }
   ],
   "source": [
    "import AritmeticaModular as am\n",
    "from random import randint\n",
    "\n",
    "\"\"\"\n",
    "    Generate a super-increasing sequence of length k.\n",
    "    \n",
    "    A super-increasing sequence has k elements where\n",
    "    \n",
    "                    a_i > sum(a_0,...,a_(i - 1))\n",
    "                    \n",
    "    An example: (1, 2, 4, 8, 16)\n",
    "    \n",
    "    k: length of the message's block\n",
    "\"\"\"\n",
    "def generate_super_increasing(k):\n",
    "    \n",
    "    # generate the first element of the sequence\n",
    "    sequence = [0]*k\n",
    "    sequence[0] = randint(1, k)\n",
    "    \n",
    "    for i in range(1, k):\n",
    "        sequence[i] = sum(sequence[:i]) + randint(sequence[i-1], sequence[i-1]*2)\n",
    "            \n",
    "    return sequence\n",
    "\n",
    "generate_super_increasing(8)"
   ]
  },
  {
   "cell_type": "markdown",
   "metadata": {},
   "source": [
    "Con la función *generate_super_increasing* generamos una secuencia súper-creciente de longitud $k$, donde $k$ es el tamaño de bloque a cifrar del mensaje original.\n",
    "\n",
    "A continuación, tenemos que tomar un número $n$ tal que $n > \\sum_{i=0}^k a_i$ y un número $u$ que sea primo relativo con $n$, es decir, que $gcd(n, u) = 1$."
   ]
  },
  {
   "cell_type": "code",
   "execution_count": 2,
   "metadata": {},
   "outputs": [
    {
     "data": {
      "text/plain": [
       "([2011, 4022, 5764, 397, 2442, 802, 2197, 5131],\n",
       " ([3, 6, 18, 57, 176, 512, 1379, 3975], 6302, 2771))"
      ]
     },
     "execution_count": 2,
     "metadata": {},
     "output_type": "execute_result"
    }
   ],
   "source": [
    "\"\"\"\n",
    "    Generate the keys for the knapsack cipher.\n",
    "    \n",
    "    Parameters:\n",
    "        block_length: length of the message's block\n",
    "    Return:\n",
    "        public_key: modified sequence\n",
    "        private_key: original super-increasing sequence, n and u\n",
    "\"\"\"\n",
    "\n",
    "def generate_keys(block_length):\n",
    "    # generate a sequence\n",
    "    sequence = generate_super_increasing(block_length)\n",
    "    \n",
    "    n = sum(sequence) + sequence[randint(0,block_length)]\n",
    "    \n",
    "    found_u = False\n",
    "    \n",
    "    while not found_u:\n",
    "        \n",
    "        u = randint(1, n)\n",
    "        \n",
    "        if am.ext_euclides(n,u)[0] == 1: \n",
    "            found_u = True\n",
    "            \n",
    "    public_sequence = list(map(lambda a_i: (u*a_i) % n, sequence))\n",
    "    \n",
    "    return public_sequence, (sequence, n, u)\n",
    "\n",
    "generate_keys(8)"
   ]
  }
 ],
 "metadata": {
  "kernelspec": {
   "display_name": "Python 3",
   "language": "python",
   "name": "python3"
  },
  "language_info": {
   "codemirror_mode": {
    "name": "ipython",
    "version": 3
   },
   "file_extension": ".py",
   "mimetype": "text/x-python",
   "name": "python",
   "nbconvert_exporter": "python",
   "pygments_lexer": "ipython3",
   "version": "3.6.1"
  }
 },
 "nbformat": 4,
 "nbformat_minor": 2
}
