{
 "cells": [
  {
   "cell_type": "markdown",
   "metadata": {},
   "source": [
    "# Funciones de un solo sentido\n",
    "\n",
    "## Ejercicio 1\n",
    "\n",
    "Sea $(a_1,\\ldots,a_k)$ una secuencia super-creciente de números positivos (la suma de los términos que preceden a $a_i$ es menor que $a_i$, para todo $i$). Elige $n > \\sum a_i$, y $u$ un entero positivo tal que $gcd(n, u) = 1$. Define $a_i^* = ua_i \\bmod n$. La función mochila (_knapsack_) asociada a $(a_1^*,\\ldots,a_k^*)$ es $$f:\\mathbb{Z}_2^k \\rightarrow \\mathbb{N}, f(x_1,\\ldots,x_k) = \\sum_{i=1}^k x_ia_i^*$$\n",
    "\n",
    "Implementa esta función y su inversa, tal y como se explica en _P. J. Cameron, Notes on cryptography_. La llave pública es $((a_1,\\ldots,a_k), n, u)$."
   ]
  },
  {
   "cell_type": "code",
   "execution_count": 2,
   "metadata": {},
   "outputs": [
    {
     "data": {
      "text/plain": [
       "array([    4,    14,    55,   198,   666,  1878,  8251, 24129], dtype=uint32)"
      ]
     },
     "execution_count": 2,
     "metadata": {},
     "output_type": "execute_result"
    }
   ],
   "source": [
    "import numpy as np\n",
    "import AritmeticaModular as am\n",
    "from random import randint\n",
    "\n",
    "\"\"\"\n",
    "    Generate a super-increasing sequence of length k.\n",
    "    \n",
    "    A super-increasing sequence has k elements where\n",
    "    \n",
    "                    a_i > sum(a_0,...,a_(i - 1))\n",
    "                    \n",
    "    An example: (1, 2, 4, 8, 16)\n",
    "    \n",
    "    k: length of the message's block\n",
    "\"\"\"\n",
    "def generate_super_increasing(k):\n",
    "    \n",
    "    # generate the first element of the sequence\n",
    "    sequence = [0]*k\n",
    "    sequence[0] = randint(1, k)\n",
    "    \n",
    "    for i in range(1, k):\n",
    "        sequence[i] = sum(sequence[:i]) + randint(sequence[i-1], sequence[i-1]*3)\n",
    "            \n",
    "    return np.array(sequence, dtype = np.uint32)\n",
    "\n",
    "generate_super_increasing(8)"
   ]
  },
  {
   "cell_type": "markdown",
   "metadata": {},
   "source": [
    "Con la función *generate_super_increasing* generamos una secuencia súper-creciente de longitud $k$, donde $k$ es el tamaño de bloque a cifrar del mensaje original.\n",
    "\n",
    "A continuación, tenemos que tomar un número $n$ tal que $n > \\sum_{i=0}^k a_i$ y un número $u$ que sea primo relativo con $n$, es decir, que $gcd(n, u) = 1$."
   ]
  },
  {
   "cell_type": "code",
   "execution_count": 3,
   "metadata": {},
   "outputs": [
    {
     "name": "stdout",
     "output_type": "stream",
     "text": [
      "Public key: [157697 177858 167916 185040  20720 190867 173259 119724]\n",
      "Private key: [    8    22    76   230   999  4274 14250 61596] 204647 45293\n"
     ]
    }
   ],
   "source": [
    "\"\"\"\n",
    "    Generate the keys for the knapsack cipher.\n",
    "    \n",
    "    Parameters:\n",
    "        block_length: length of the message's block\n",
    "    Return:\n",
    "        public_key: modified sequence\n",
    "        private_key: original super-increasing sequence, n and u\n",
    "\"\"\"\n",
    "\n",
    "def generate_keys(block_length):\n",
    "    # generate a sequence\n",
    "    sequence = generate_super_increasing(block_length)\n",
    "    \n",
    "    n = sum(sequence) + sequence[randint(0,block_length-1)]*2\n",
    "    \n",
    "    found_u = False\n",
    "    \n",
    "    while not found_u:\n",
    "        \n",
    "        u = randint(1, n)\n",
    "        \n",
    "        if am.ext_euclides(n,u)[0] == 1: \n",
    "            found_u = True\n",
    "            \n",
    "    public_sequence = np.array(list(map(lambda a_i: (u*a_i) % n, sequence)), dtype = np.uint32)\n",
    "    \n",
    "    return public_sequence, (sequence, n, u)\n",
    "\n",
    "key_pub, key = generate_keys(8)\n",
    "print(\"Public key:\", key_pub)\n",
    "print(\"Private key:\", key[0], key[1], key[2])"
   ]
  },
  {
   "cell_type": "markdown",
   "metadata": {},
   "source": [
    "Una vez generadas nuestras llaves, podemos pasar a realizar el cifrado del mensaje. Para cifrar el mensaje, al igual que hacíamos en el cifrado en flujo usando el generador de Geffe, tendremos que pasar el string a binario, y para ello, usaremos las funciones *str_to_binlist* y *bin_to_str*. Una vez realizado esto, podremos pasar a a cifrar el mensaje en bloques de tamaño $k$."
   ]
  },
  {
   "cell_type": "code",
   "execution_count": 4,
   "metadata": {},
   "outputs": [
    {
     "name": "stdout",
     "output_type": "stream",
     "text": [
      "Encrypted text: [389445, 850344, 704073, 656365, 677085, 167916, 486218, 530814, 823797, 841405, 677085, 167916, 536641, 850344, 557361, 850344, 704073, 167916, 823797, 486218, 721681, 167916, 465498, 677085, 656365, 721681]\n"
     ]
    }
   ],
   "source": [
    "from CifradoFlujo import bin_to_str, str_to_binlist\n",
    "\n",
    "\"\"\"\n",
    "                            Knapsack cypher\n",
    "    \n",
    "    This function take a message and the public\n",
    "    key, and encrypt the message performing:\n",
    "            ___n\n",
    "            \\                 a_i * e_i\n",
    "            /__ 0\n",
    "            \n",
    "    where a_i are the bits of the message and e_i\n",
    "    the elements of the public key.\n",
    "    \n",
    "    Parameters:\n",
    "        - message: a str containing the plain message.\n",
    "        - key_pub: public key\n",
    "\"\"\"\n",
    "def knapsack_cypher(message, key_pub):\n",
    "    # take the block size\n",
    "    block_size = len(key_pub)\n",
    "    # transform the message to binary list\n",
    "    binary_message = str_to_binlist(message)\n",
    "    # check if the message is divisible by the block size\n",
    "    # if not, add zeros at the end\n",
    "    while len(binary_message) % block_size != 0:\n",
    "        binary_message.append(0)\n",
    "    \n",
    "    cypher, binary_message = [], np.array(binary_message)\n",
    "     # cypher text\n",
    "    for i in range(0,len(binary_message), block_size):\n",
    "        cypher.append(np.sum(key_pub[binary_message[i:i + block_size] == 1]))\n",
    "        \n",
    "    return cypher\n",
    "\n",
    "\n",
    "encrypted = knapsack_cypher(\"Lorem ipsum dolor sit amet\", key_pub)\n",
    "\n",
    "print(\"Encrypted text:\", encrypted)"
   ]
  },
  {
   "cell_type": "code",
   "execution_count": 5,
   "metadata": {},
   "outputs": [
    {
     "data": {
      "text/plain": [
       "'Lorem ipsum dolor sit amet'"
      ]
     },
     "execution_count": 5,
     "metadata": {},
     "output_type": "execute_result"
    }
   ],
   "source": [
    "from AritmeticaModular import inverse\n",
    "\"\"\"\n",
    "                                        Knapsack decypher\n",
    "                        \n",
    "In order to decrypt a message encrypted with this algorithm,\n",
    "it's necessary to calculate v as u^{-1} mod n using Euclids' \n",
    "algorithm.\n",
    "\n",
    "Then, the message is decrypted:\n",
    "            _\n",
    "        b = vb* mod n\n",
    "            _     ___  \n",
    "            = v \\       e_i a*_i (mod n)\n",
    "                   /__\n",
    "            _          ___\n",
    "            = (uv) \\    e_i a_i\n",
    "                        /__\n",
    "            _   ___           \n",
    "            =   \\        e_i a_i   (mod n)\n",
    "                 /__\n",
    "                 \n",
    "Parameters:\n",
    "    - message: list of integers representing the message.\n",
    "    - key: private key.\n",
    "\"\"\"\n",
    "\n",
    "def knapsack_decypher(message, key):\n",
    "    # unfold the private key and calculate \n",
    "    # the inverse of u mod n\n",
    "    p_key, n, u = key\n",
    "    v =  inverse(u, n)\n",
    "    # Concatenate list in python it's very simple if you use the operator + and two list. \n",
    "    # That is the reason to make decypher_message an empty list\n",
    "    decypher_message = []\n",
    "    # start decypher\n",
    "    for b in message:\n",
    "        # b_ = vb mod n\n",
    "        b_, aux = (b * v) % n, 0\n",
    "        # start the greedy algorithm\n",
    "        greedy_result = set()\n",
    "        for i in range(1, len(p_key) + 1):\n",
    "            if aux + p_key[-i] <= b_:\n",
    "                aux += p_key[-i]\n",
    "                greedy_result.add(p_key[-i])\n",
    "                if aux == b_:\n",
    "                    break\n",
    "        # restore and add the message\n",
    "        decypher_message += list(map(lambda x: 1 if x in greedy_result else 0, p_key))\n",
    "        # return the plain text\n",
    "    return bin_to_str(decypher_message)\n",
    "\n",
    "\n",
    "knapsack_decypher(encrypted, key)"
   ]
  },
  {
   "cell_type": "markdown",
   "metadata": {},
   "source": [
    "En la función de descifrado haremos uso de las propiedades de las listas en Python y el uso de _set_ para poder buscar los elementos con una mayor velocidad. Al realizar el algoritmo Greedy, iremos insertando los elementos en un _set_, ya que, una vez haya encontrado el algoritmo Greedy la solución, pasaremos a recomponer el bloque de mensaje. Para ello, usaremos una función _map_ que crea una lista de forma que si $x$ se encuentra en el resultado del Greedy, devuelve un 1 y en caso contrario devuelve un 0.\n",
    "\n",
    "Esto nos devolverá una lista de unos y ceros que podemos concatenar entre sí usando el operador $+$ de las listas. Cuando tengamos el mensaje completo lo reconstruimos a texto plano usando la función *bin_to_str*.\n",
    "\n",
    "## Ejercicio 2\n",
    "\n",
    "Sea $p$ un (pseudo-)primo mayor o igual que vuestro número de identidad. Encuentra un elemento primitivo $\\alpha$, de $\\mathbb{Z}_p^*$ (se puede usar el libro \"_Handbook of Applied Cryptography [2.132 (iv)]_\"); para facilitar el criterio, es bueno escoger $p$ de forma que $\\frac{p - 1}{2}$ sea también primo, y para ello usamos Miller-Rabin). Definimos $$f:\\mathbb{Z}_p \\rightarrow \\mathbb{Z}_p, x\\mapsto\\alpha^x$$\n",
    "Calcula el inverso de tu fecha de nacimiento con el formato AAAAMMDD.\n",
    "\n",
    "__En lo que sigue, $p$ y $q$ son enteros primos, y $n = pq$.__"
   ]
  },
  {
   "cell_type": "code",
   "execution_count": 6,
   "metadata": {},
   "outputs": [
    {
     "name": "stdout",
     "output_type": "stream",
     "text": [
      "Primitive: 217943\n"
     ]
    }
   ],
   "source": [
    "from os import environ\n",
    "import AritmeticaModular as am\n",
    "from random import randint\n",
    "\n",
    "\"\"\"\n",
    "                                    Search prime\n",
    "                        \n",
    "     Search a prime bigger than a number.\n",
    "     This prime, depending of the parameters will\n",
    "     have the property that p and (p - 1) // 2 are prime.\n",
    "     \n",
    "     Parameters:\n",
    "         - n: initial number.\n",
    "         - mid_prime: search a prime that (p - 1) // 2 is prime too.\n",
    "\"\"\"\n",
    "\n",
    "# search a prime p that (p-1) // 2 is prime too (probably)\n",
    "def search_prime(n, mid_prime = True):\n",
    "    p = n if n % 2 != 0 else n + 1\n",
    "    if mid_prime:\n",
    "        while not (am.miller_rabin_test(p) and\n",
    "                   am.miller_rabin_test((p -1)//2)):\n",
    "                p +=2\n",
    "    else:\n",
    "        while not am.miller_rabin_test(p):\n",
    "            p += 2\n",
    "    return p\n",
    "\n",
    "# initial number\n",
    "p, β = search_prime(int(environ[\"ID\"])), int(environ[\"BIRTH\"])\n",
    "α = randint(2, p)\n",
    "\n",
    "\"\"\"\n",
    "                Search a primitive α of Z_p\n",
    "    \n",
    "    α will be an primitive of Z_p if and only if:\n",
    "    \n",
    "        * α² != 1\n",
    "        * α^((p-1) / 2) != 1\n",
    "\"\"\"        \n",
    "def search_primitive_Zp(p):\n",
    "    α, found = randint(2, p-2), False\n",
    "    \n",
    "    while not found:\n",
    "        \n",
    "        if am.big_pow(α, (p - 1) // 2, p) != 1 and α**2 != 1:\n",
    "            found = True\n",
    "        else:\n",
    "            α = randint(2, p - 2)\n",
    "            \n",
    "    return α\n",
    "\n",
    "α = search_primitive_Zp(p)\n",
    "print(\"Primitive:\", α)"
   ]
  },
  {
   "cell_type": "markdown",
   "metadata": {},
   "source": [
    "Para calcular el inverso del mi fecha de nacimiento módulo el primer primo que surge de mi DNI, tenemos que calcular primero un elemento primitivo del cuerpo $\\mathbb{Z}_p$. Para ello, como hemos elegido $p$ de la forma que $p$ es primo y $\\frac{p - 1}{2}$ también lo es, podemos definir $p - 1$ como: $$p - 1 = \\underbrace{2}_{q_1} \\cdot \\underbrace{\\frac{p - 1}{2}}_{q_2}$$ Entonces, $\\alpha$ será un elemento primitivo si y sólo si cumple las siguientes condiciones:\n",
    "* $\\alpha^2\\neq 1 \\longrightarrow \\alpha\\neq1$.\n",
    "* $\\alpha^{\\frac{p -1}{2}} \\neq 1$.\n",
    "\n",
    "Por lo tanto, buscaremos un $\\alpha$ de manera aleatoria que cumpla estas condiciones. Aunque sea aleatorio, esto tardará bastante poco porque la probabilidad de encontrarse un elemento de este tipo es bastante alta, siendo de $\\frac{1}{3}$.\n",
    "\n",
    "Una vez que tenemos esto, vamos a calcular el logaritmo de la solución para obtener la inversa de la imagen de la función."
   ]
  },
  {
   "cell_type": "code",
   "execution_count": 7,
   "metadata": {},
   "outputs": [
    {
     "name": "stdout",
     "output_type": "stream",
     "text": [
      "Inverso: 8772195\n"
     ]
    }
   ],
   "source": [
    "inv = am.baby_step_giant_step(α, β, p)\n",
    "print(\"Inverso:\", inv)"
   ]
  },
  {
   "cell_type": "markdown",
   "metadata": {},
   "source": [
    "Ahora para comprobar si la solución es correcta, aplicamos la exponencial para comprobar si obtenemos el mismo resultado, donde $\\beta$ es la fecha de nacimiento. "
   ]
  },
  {
   "cell_type": "code",
   "execution_count": 8,
   "metadata": {},
   "outputs": [
    {
     "data": {
      "text/plain": [
       "True"
      ]
     },
     "execution_count": 8,
     "metadata": {},
     "output_type": "execute_result"
    }
   ],
   "source": [
    "am.big_pow(α, inv, p) == β"
   ]
  },
  {
   "cell_type": "markdown",
   "metadata": {},
   "source": [
    "## Ejercicio 3\n",
    "\n",
    "Sea $f:\\mathbb{Z}_n \\rightarrow \\mathbb{Z}_n$ la función de Rabin: $f(x) = x^2$. Sea $n = 48478872564493742276963$. Sabemos que $f(12) = 144= f(37659670402359614687722)$. Usando esta información, calcula $p$ y $q$ (mirar la demostración de \"_Lecture Notes on Cryptography_\", Lemma 2.43."
   ]
  },
  {
   "cell_type": "code",
   "execution_count": 9,
   "metadata": {},
   "outputs": [
    {
     "name": "stdout",
     "output_type": "stream",
     "text": [
      "p: 159497098847 q: 303948303229 correctos: True\n"
     ]
    }
   ],
   "source": [
    "x, y = 37659670402359614687722, 12\n",
    "n = 48478872564493742276963\n",
    "\n",
    "p = am.ext_euclides((x - y), n)[0]\n",
    "q = n // p\n",
    "\n",
    "print(\"p:\", p, \"q:\", q, \"correctos:\", (p*q)==n)"
   ]
  },
  {
   "cell_type": "markdown",
   "metadata": {},
   "source": [
    "Para resolver este ejercicio, he seguido el razonamiento del Lemma 2.43 del libro \"_Lecture Notes on Criptography_\", donde si conocemos un número y su cuadrado, es muy fácil extraer un divisor no trivial de $n$, teniendo en cuenta que:\n",
    "\n",
    "1. Escogemos aleatoriamente un $x \\in \\mathbb{Z}_n^*$.\n",
    "2. Tomamos un $y$ que sea $y = x^2 \\bmod n$.\n",
    "3. En caso de que $x \\equiv y \\bmod n $ no sea cierto, el $\\gcd(x - y, n)$ es un divisor no trivial de $n$. Por lo tanto, ya habremos factorizado $n$.\n",
    "\n",
    "Como en este caso ya disponemos de dos $x$ y sus exponenciación, podemos calcular fácilmente $p$ y $q$."
   ]
  },
  {
   "cell_type": "markdown",
   "metadata": {},
   "source": [
    "## Ejercicio 4\n",
    "\n",
    "\n",
    "Elige $a_0$ y $a_1$ dos cuadrados arbitrarios módulo $n$ ($n$ como en el Ejercicio 3). Sea $$h:\\mathbb{Z}_2 \\times (\\mathbb{Z}_n)^*, h(b,x) = x^2a_0^ba_1^{1 - b}$$ Usa la función de Merkle-Damgard para implentar una función resumen tomando $h$ como función de compresión (esta $h$ fue definida por Glodwasser, Micali y Rivest). Los parámetros $a_0, a_1$ y $n$ se hacen públicos (la función debería admitir un parámetro en el que venga especificado el vector inicial)."
   ]
  },
  {
   "cell_type": "code",
   "execution_count": 10,
   "metadata": {},
   "outputs": [
    {
     "name": "stdout",
     "output_type": "stream",
     "text": [
      "a0 = 10585264541946572195344 \n",
      "a1 = 5554474246001310943504\n"
     ]
    }
   ],
   "source": [
    "h = lambda b, x, a0, a1, n: (am.big_pow(x, 2, n)* (a0**b) * a1**(1 - b)) % n\n",
    "\n",
    "rand1, rand2 = randint(1, p), randint(1, q)\n",
    "a0, a1 = am.big_pow(rand1, 2, n), am.big_pow(rand2, 2, n)\n",
    "\n",
    "print(\"a0 =\", a0, \"\\na1 =\", a1)"
   ]
  },
  {
   "cell_type": "code",
   "execution_count": 11,
   "metadata": {},
   "outputs": [
    {
     "data": {
      "text/plain": [
       "3033820754094728198930"
      ]
     },
     "execution_count": 11,
     "metadata": {},
     "output_type": "execute_result"
    }
   ],
   "source": [
    "\"\"\"\n",
    "                Merkle-Damgard Hash Function\n",
    "            \n",
    "    This function implements the hash method \n",
    "    of Merkle-Damgard.\n",
    "    \n",
    "    Parameters:\n",
    "        - original_message: message to hash.\n",
    "        - vector: initial vector to initialize the hash\n",
    "        - a0 and a1: values for the hash function\n",
    "        - n: value of the product of two primes (p and q)\n",
    "        - f: hash function.\n",
    "\"\"\"\n",
    "\n",
    "def MerkleDamgard_hash(original_message, vector, a0, a1, n, f):\n",
    "    \n",
    "    bin_message, x = str_to_binlist(original_message), vector\n",
    "    \n",
    "    for b in bin_message:\n",
    "        x = f(b, x, a0, a1,n)\n",
    "        \n",
    "    return x\n",
    "    \n",
    "MerkleDamgard_hash(\"Lore ipsum dolor sit amet\", 987, a0, a1, n, h)"
   ]
  },
  {
   "cell_type": "markdown",
   "metadata": {},
   "source": [
    "En este ejercicio, cogemos dos elementos aleatorios entre 1 y $p$, y entre 1 y $q$ (donde $n = p\\cdot q$) y calculamos el cuadrado de esos números módulo $n$, para obtener dos cuadrados. Tras esto, pasamos a la función de _Merkle-Damgard_ en el que vamos calculando el hash del mensaje gracias a la función $h$. \n",
    "\n",
    "Como resultado de la función, devolvemos el último elemento que obtenemos de aplicar la función Hash.\n",
    "\n",
    "## Ejercicio 5\n",
    "\n",
    "Sea $p$ el menor primo entero mayor o igual que tu número de identidad, y sea $q$ el primer primo mayor o igual que tu fecha de nacimiento (AAAAMMDD). Selecciona $e$ tal que $gcd(e, (p -1)(q -1)) = 1$. Define la función RSA $$f:\\mathbb{Z}_n \\rightarrow \\mathbb{Z}_n, x \\mapsto x^e$$\n",
    "\n",
    "Calcula el inverso de 1234567890."
   ]
  },
  {
   "cell_type": "code",
   "execution_count": 12,
   "metadata": {},
   "outputs": [
    {
     "name": "stdout",
     "output_type": "stream",
     "text": [
      "358212130875416\n",
      "1234567890\n"
     ]
    }
   ],
   "source": [
    "p, q = search_prime(int(environ[\"ID\"])), search_prime(int(environ[\"BIRTH\"])) \n",
    "\n",
    "φ, e = (p - 1) * (q - 1), randint(1, q)\n",
    "\n",
    "while am.ext_euclides(e, φ)[0] != 1:\n",
    "    e = randint(1, q)\n",
    "    \n",
    "d = am.inverse(e, φ) % φ\n",
    "\n",
    "inverse = am.big_pow(1234567890, d, p*q)\n",
    "print(inverse)\n",
    "print(am.big_pow(inverse, e, p*q))"
   ]
  },
  {
   "cell_type": "markdown",
   "metadata": {},
   "source": [
    "En este caso, para el cálculo de la preimagen, partimos de que conocemos el valor de $n$, donde $n = p \\cdot q$. Esto se conoce como el _módulo del criptosistema_. Al conocer $p$ y $q$, también conoceremos $\\varphi(n) = (p-1)\\cdot(q -1)$. Conocido esto, podemos calcular el _exponente de cifrado_, que en este caso es $e$.\n",
    "\n",
    "Con todos estos datos, podemos calcular $d$ que es el exponente de descifrado. El origen de calcular esto, es que RSA cifra el sistema con la función $f$ definida anteriormente, donde cifra elevando un número al _exponente de cifrado_, mientras que el descifrado se calcula elevando el número cifrado a $d$, donde $d$ tiene una relación matemática con $e$ definida de la siguiente manera $$e\\cdot d \\equiv 1 \\bmod \\varphi(n)$$\n",
    "\n",
    "Si despejamos la congruencia, podemos obtener $d$, y realizando la operación $ 123456790^d\\bmod n$, obtendremos su preimagen.\n",
    "\n",
    "## Ejercicio 6\n",
    "\n",
    "\n",
    "Sea $n=50000000385000000551$, y sabemos que una inversa de $\\mathbb{Z}_n \\rightarrow \\mathbb{Z}_n, x \\mapsto x^5$ es $x \\mapsto x^{10000000074000000101}$ (esto es, conoces tanto la llave pública como la llave privada de la función RSA). Encuentra $p$ y $q$ usando el método explicado en \"_Notes on cryptography\" Page 92_. Compara este prodecimiento con el algoritmo de Miller-Rabin y el ejercicio 3."
   ]
  },
  {
   "cell_type": "code",
   "execution_count": 13,
   "metadata": {},
   "outputs": [
    {
     "data": {
      "text/plain": [
       "True"
      ]
     },
     "execution_count": 13,
     "metadata": {},
     "output_type": "execute_result"
    }
   ],
   "source": [
    "n, e, d = 50000000385000000551, 5, 10000000074000000101\n",
    "\n",
    "def broke_RSA(n, e, d):\n",
    "    # Let de - 1 = 2^a * b and take a random x: 0 < x < n \n",
    "    # calculate the gcd(x,n)\n",
    "    a, b = am.bifactor(d*e - 1)\n",
    "    x = randint(1, n)\n",
    "\n",
    "    if am.ext_euclides(x, n)[0] != 1:\n",
    "        # we found a factor of n\n",
    "        p, q = x, n//x\n",
    "    else:\n",
    "        y = am.big_pow(x, b, n)\n",
    "        z = y\n",
    "        while y % n != 1:\n",
    "            z = y\n",
    "            y = am.big_pow(y, 2, n)\n",
    "            if y % n == (n - 1):\n",
    "                raise ValueError(\"The algorithm has failed\")\n",
    "        \n",
    "        p, q = am.ext_euclides(z + 1, n)[0], am.ext_euclides(z - 1, n)[0]\n",
    "    \n",
    "    return p, q\n",
    "\n",
    "p, q = broke_RSA(n, e, d)\n",
    "p*q == n"
   ]
  },
  {
   "cell_type": "markdown",
   "metadata": {},
   "source": [
    "En este ejercicio, los datos que tenemos son $n, e, d$, lo que supone, como dice el ejercicio, que disponemos de la clave privada del RSA. Para calcular $p$ y $q$, según el método de \"_Notes on cryptography_\". En este método, tendremos que calcular $a$ y $b$ tal que $2^a, b = d\\cdot e - 1$, además de un $x \\in_R \\mathbb{Z}_n^*$.\n",
    "\n",
    "Una vez calculados estos valores, comprobamos is $\\gcd(x,n) \\neq 1$ o no. En caso de que sea distinto de 1, habremos encontrado uno de los factores de $n$, algo que es muy poco probable. En caso contrario, que será lo más común, pasaremos a calcular un $y$ tal que $y = x^b \\bmod n$. A su vez, este valor de $y$ debe ser $y \\equiv 1 \\bmod n$. Si esta condición no se cumple, buscaremos el valor de $y$ y un $z$ haciendo $z = y$ e $y = y^2 \\bmod n$. En caso de que $y \\bmod n == -1$ el algoritmo falla.\n",
    "\n",
    "En caso contrario, tendremos que $p = \\gcd(z+1,n)$ y $p=\\gcd(z-1,n)$.\n",
    "\n",
    "La diferencia con el ejercicio 3, es que tenemos un problema totalmente distinto, donde en el problema 3 conocemos $n$ y dos valores en los que conocemos sus raíces cuadradas, lo que simplifica mucho el problema. En este caso, la función del RSA es ligeramente distinta a la de Rabin, y los datos completamente distintos, por lo que no podemos extraer $p$ y $q$ tan fácilmente.\n",
    "\n",
    "## Ejercicio 7\n",
    "\n",
    "En este ejercicio se pide implementar un sistema de firma digital y verificación de la firma. Se puede elegir entre firma RSA o DSS.\n",
    "\n",
    "Al igual que antes, debe realizar tres tareas: generación de claves (ejercicios anteriores), generación de firma y verificación de firma.\n",
    "\n",
    "Para la generación de firma, se le introducirá un mensaje a cifrar (fichero) y el fichero con la clave (privada), y deberá generar una firma, que se guardará en un fichero de texto. \n",
    "\n",
    "Puesto que lo que realmente se firma no es el mensaje, sino un resumen del mensaje, hay que generar un resumen de dicho mensaje, Para esto emplearemos la función SHA1 (se pueden añadir otras funciones resumen). Cualquiera de las implementaciónes de esta función que hay en la red puede ser usada. \n",
    "\n",
    "Para la verificaión de la firma, se introduce el mensaje (fichero) que se ha firmado, un fichero con la firma (con el mismo formato que el generado en el apartado anterior) y un fichero con la clave (pública). Deberá responder si la firma es o no válida."
   ]
  },
  {
   "cell_type": "code",
   "execution_count": 14,
   "metadata": {
    "collapsed": true
   },
   "outputs": [],
   "source": [
    "from random import getrandbits"
   ]
  },
  {
   "cell_type": "code",
   "execution_count": null,
   "metadata": {},
   "outputs": [],
   "source": [
    "\"\"\"\n",
    "                        RSA Keys Generator\n",
    "                        \n",
    "    This function create a pair of RSA's keys \n",
    "    with a fixed length. First it search two primes\n",
    "    p and q, in order to get n.\n",
    "    \n",
    "    Then it search and e that gcd(e, φ(n)) = 1, and \n",
    "    computes d as e^{-1} mod φ(n)\n",
    "    \n",
    "    The private key is n and d, and the \n",
    "    public key is n and e.\n",
    "    \n",
    "    Parameters:\n",
    "            - length: length on bits of the key.\n",
    "\"\"\"\n",
    "\n",
    "def generate_RSA_keys(length = 1024):\n",
    "    # Compute the primes p and q\n",
    "    p = search_prime(getrandbits(length//2), False)\n",
    "    q = search_prime(getrandbits(length//2), False)\n",
    "    # Compute φ(n), n and a correct e\n",
    "    φ, n = (p - 1) * (q - 1), p * q\n",
    "    e = randint(n - φ, φ)\n",
    "    while am.ext_euclides(e, φ)[0] != 1:\n",
    "        e += 1\n",
    "    \n",
    "    # Compute the private key\n",
    "    d = am.inverse(e, φ) % φ\n",
    "\n",
    "    # Write the public key and the private key on files\n",
    "    with open(\"RSA_KEY.pub\", 'w') as f:\n",
    "        f.write(str(n) + \"\\n\" + str(e))\n",
    "    \n",
    "    with open(\"RSA_KEY\", 'w') as f:\n",
    "        f.write(str(n) + \"\\n\" + str(d))\n",
    "\n",
    "        \n",
    "generate_RSA_keys(2048)"
   ]
  },
  {
   "cell_type": "code",
   "execution_count": null,
   "metadata": {},
   "outputs": [],
   "source": [
    "from hashlib import sha1, sha256, sha512\n",
    "\n",
    "def get_hash(file, hash_f):\n",
    "    # compute the hexhash of the hole file\n",
    "    # and convert to base 10\n",
    "    if hash_f == 1:\n",
    "        file_hash = int(sha1(file.read()).hexdigest(), 16)\n",
    "    elif hash_f == 2:\n",
    "        file_hash = int(sha256(file.read()).hexdigest(), 16)\n",
    "    elif hash_f == 3:\n",
    "        file_hash = int(sha512(file.read()).hexdigest(), 16)\n",
    "    else:\n",
    "        raise ValueError(\"Not a suitable option for digest algorithm.\")\n",
    "        \n",
    "    return file_hash\n",
    "\n",
    "\"\"\"\n",
    "                            RSA_sign_document\n",
    "                    \n",
    "    This function takes a file and sign it with\n",
    "    your private RSA key. The function computes\n",
    "    the digest of the file with sha1, sha256 or\n",
    "    sha512 and sign this digest with the private key.\n",
    "    \n",
    "    Then, the sign is written on a file.\n",
    "    \n",
    "    Parameters:\n",
    "        - file: path to the file.\n",
    "        - key. path to the file with the private key\n",
    "        - hash_f: integer option for the digest algorithm\n",
    "\"\"\"\n",
    "\n",
    "def RSA_sign_document(file, key, hash_f = 1):\n",
    "    with open(file, 'rb') as f:\n",
    "        file_hash = get_hash(f, hash_f)\n",
    "            \n",
    "    with open(key, 'r') as f:\n",
    "        n = int(f.readline())\n",
    "        d = int(f.readline())\n",
    "    \n",
    "    # sign the document sign(m) = h(m)^d mod n\n",
    "    sign = am.big_pow(file_hash, d, n)\n",
    "    # write the sign\n",
    "    with open(\"sign_of_\" + file, 'w') as f:\n",
    "        f.write(str(sign))\n",
    "    # the return is only to see that the function works well\n",
    "    return sign\n",
    "\n",
    "RSA_sign_document(\"Lore.txt\", \"RSA_KEY\", 3)"
   ]
  },
  {
   "cell_type": "code",
   "execution_count": null,
   "metadata": {},
   "outputs": [],
   "source": [
    "\"\"\"\n",
    "                            RSA_check_sign\n",
    "                    \n",
    "    This function takes a file and check if the sign\n",
    "    is correct with the public key. As in the sign function,\n",
    "    it function computes the digest of the file\n",
    "    with sha1, sha256 or sha512, then it computes\n",
    "    sign^e mod n and check if the hash values\n",
    "    are equals..\n",
    "    \n",
    "    Parameters:\n",
    "        - sign_document: path to the sign.\n",
    "        - document: path to the document file.\n",
    "        - key. path to the file with the private key\n",
    "        - hash_f: integer option for the digest algorithm\n",
    "\"\"\"\n",
    "\n",
    "def RSA_check_sign(sign_document, document, public_key, hash_f = 1):\n",
    "    # get the sign\n",
    "    with open(sign_document, 'r') as f:\n",
    "        sign = int(f.read())\n",
    "    \n",
    "    # get the public key\n",
    "    with open(public_key, 'r') as f:\n",
    "        n = int(f.readline())\n",
    "        e = int(f.readline())\n",
    "    \n",
    "    # get the document's hash\n",
    "    with open(document, 'rb') as f:\n",
    "        h_m = get_hash(f, hash_f) % n\n",
    "        \n",
    "    sign = am.big_pow(sign, e, n)\n",
    "    return h_m == sign\n",
    "    \n",
    "\n",
    "RSA_check_sign(\"sign_of_Lore.txt\", \"Lore.txt\", \"RSA_KEY.pub\", 3)"
   ]
  },
  {
   "cell_type": "markdown",
   "metadata": {},
   "source": [
    "Como podemos ver, en la función de generación de claves calculamos los primos $p$ y $q$ para generar $n$, y una vez calculados $n$, podemos calcular $e$ (_exponente de encriptado_) tal que $\\gcd(e, \\varphi(n)) = 1$ y $d$ (_exponente de desencriptado_) que tiene la siguiente forma: $d = e^{-1} \\bmod \\varphi(n)$.\n",
    "\n",
    "Una vez calculado esto, ya tenemos nuestra clave privada, que es el par $(n, d)$ y la clave pública $(n, e)$.\n",
    "\n",
    "Para firmar un documento, he usado la librería _hashlib_ de Python, donde existen implementaciones de distintos algoritmos para hacer un hash. De estos, he cogido los algoritmos ___SHA-1___, ___SHA-256___ y ___SHA-512___ para hacer el hash de los ficheros, siendo la función *get_hash* la que se encarga de devolvernos el hash del texto según el algoritmo que queramos.  Con esto, para firmar el documento, solo tenemos que leer el fichero que queremos firmar, obtener su hash, firmarlo haciendo $sign(m) = h(m)^d \\bmod n$ y escribir la firma en un fichero. \n",
    "\n",
    "Una vez obtenida la firma, para comprobar que la firma es correcta, el emisor y el receptor deben ponerse de acuerdo para el algoritmo que realiza el hash del mensaje, y una vez establecido, sólo hay que leer el documento que tiene la firma y obtener el hash original haciendo $h(m) = sign^e \\bmod n$. Una vez obtenido, hacemos el hash al fichero firmado y comprobamos si el hash que hemos calculado y hash obtenido de la firma coinciden. En caso de que sea así, la firma es correcta y en caso contrario, el fichero no pertenece al propietario que lo firmó."
   ]
  },
  {
   "cell_type": "code",
   "execution_count": 15,
   "metadata": {},
   "outputs": [
    {
     "ename": "KeyboardInterrupt",
     "evalue": "",
     "output_type": "error",
     "traceback": [
      "\u001b[0;31m---------------------------------------------------------------------------\u001b[0m",
      "\u001b[0;31mKeyboardInterrupt\u001b[0m                         Traceback (most recent call last)",
      "\u001b[0;32m<ipython-input-15-8f721804dc26>\u001b[0m in \u001b[0;36m<module>\u001b[0;34m()\u001b[0m\n\u001b[1;32m     32\u001b[0m \u001b[0;34m\u001b[0m\u001b[0m\n\u001b[1;32m     33\u001b[0m \u001b[0;34m\u001b[0m\u001b[0m\n\u001b[0;32m---> 34\u001b[0;31m \u001b[0mgenerate_DSS_keys\u001b[0m\u001b[0;34m(\u001b[0m\u001b[0;34m)\u001b[0m\u001b[0;34m\u001b[0m\u001b[0m\n\u001b[0m",
      "\u001b[0;32m<ipython-input-15-8f721804dc26>\u001b[0m in \u001b[0;36mgenerate_DSS_keys\u001b[0;34m(length)\u001b[0m\n\u001b[1;32m     10\u001b[0m         \u001b[0mp\u001b[0m \u001b[0;34m+\u001b[0m \u001b[0;36m1\u001b[0m\u001b[0;34m\u001b[0m\u001b[0m\n\u001b[1;32m     11\u001b[0m \u001b[0;34m\u001b[0m\u001b[0m\n\u001b[0;32m---> 12\u001b[0;31m     \u001b[0;32mwhile\u001b[0m \u001b[0;34m(\u001b[0m\u001b[0mp\u001b[0m \u001b[0;34m-\u001b[0m \u001b[0;36m1\u001b[0m\u001b[0;34m)\u001b[0m \u001b[0;34m%\u001b[0m \u001b[0mq\u001b[0m \u001b[0;34m!=\u001b[0m \u001b[0;36m0\u001b[0m \u001b[0;32mand\u001b[0m \u001b[0;32mnot\u001b[0m \u001b[0mam\u001b[0m\u001b[0;34m.\u001b[0m\u001b[0mmiller_rabin_test\u001b[0m\u001b[0;34m(\u001b[0m\u001b[0mp\u001b[0m\u001b[0;34m)\u001b[0m\u001b[0;34m:\u001b[0m\u001b[0;34m\u001b[0m\u001b[0m\n\u001b[0m\u001b[1;32m     13\u001b[0m         \u001b[0mp\u001b[0m \u001b[0;34m+=\u001b[0m \u001b[0;36m2\u001b[0m\u001b[0;34m\u001b[0m\u001b[0m\n\u001b[1;32m     14\u001b[0m \u001b[0;34m\u001b[0m\u001b[0m\n",
      "\u001b[0;32m/home/braulio/Git/Criptography/3.Funciones-de-un-solo-sentido/AritmeticaModular.py\u001b[0m in \u001b[0;36mmiller_rabin_test\u001b[0;34m(num, n)\u001b[0m\n\u001b[1;32m     76\u001b[0m \u001b[0;34m\u001b[0m\u001b[0m\n\u001b[1;32m     77\u001b[0m \u001b[0;32mdef\u001b[0m \u001b[0mmiller_rabin_test\u001b[0m\u001b[0;34m(\u001b[0m\u001b[0mnum\u001b[0m\u001b[0;34m,\u001b[0m \u001b[0mn\u001b[0m \u001b[0;34m=\u001b[0m \u001b[0;36m10\u001b[0m\u001b[0;34m)\u001b[0m\u001b[0;34m:\u001b[0m\u001b[0;34m\u001b[0m\u001b[0m\n\u001b[0;32m---> 78\u001b[0;31m     \u001b[0;32mreturn\u001b[0m \u001b[0mreduce\u001b[0m\u001b[0;34m(\u001b[0m\u001b[0;32mlambda\u001b[0m \u001b[0mx\u001b[0m\u001b[0;34m,\u001b[0m \u001b[0my\u001b[0m\u001b[0;34m:\u001b[0m \u001b[0mx\u001b[0m \u001b[0;32mand\u001b[0m \u001b[0my\u001b[0m\u001b[0;34m,\u001b[0m \u001b[0;34m[\u001b[0m\u001b[0mmiller_rabin\u001b[0m\u001b[0;34m(\u001b[0m\u001b[0mnum\u001b[0m\u001b[0;34m)\u001b[0m \u001b[0;32mfor\u001b[0m \u001b[0mi\u001b[0m \u001b[0;32min\u001b[0m \u001b[0mrange\u001b[0m\u001b[0;34m(\u001b[0m\u001b[0mn\u001b[0m\u001b[0;34m)\u001b[0m\u001b[0;34m]\u001b[0m\u001b[0;34m)\u001b[0m\u001b[0;34m\u001b[0m\u001b[0m\n\u001b[0m\u001b[1;32m     79\u001b[0m \u001b[0;34m\u001b[0m\u001b[0m\n\u001b[1;32m     80\u001b[0m \u001b[0;34m\u001b[0m\u001b[0m\n",
      "\u001b[0;31mKeyboardInterrupt\u001b[0m: "
     ]
    }
   ],
   "source": [
    "def generate_DSS_keys(length = 102):\n",
    "    # search a prime q between 2^159 and 2^160\n",
    "    q = search_prime(getrandbits(160), False)\n",
    "    # select a t so that 0 <= t <= 8 \n",
    "    t = randint(0, 8)\n",
    "    # and a prime p where 2^(511 + 64t) < p < 2^(512 + 64t)\n",
    "    # with the property that q divides p - 1\n",
    "    p = randint(2**159, 2**160)\n",
    "    if p %2 == 0:\n",
    "        p + 1\n",
    "        \n",
    "    while (p - 1) % q != 0 and not am.miller_rabin_test(p):\n",
    "        p += 2\n",
    "    \n",
    "    # Select a generator α of the unique cyclic group \n",
    "    # of order q in Z*_p\n",
    "    α = 1\n",
    "    while α == 1:\n",
    "        g = randint(2, p - 1)\n",
    "        α = am.big_pow(g, (p - 1) // q, p)\n",
    "        \n",
    "    # Select a random integer a such that 1 <= a <= q - 1\n",
    "    # and compute y = α^a mod p\n",
    "    a = randint(1, q -1)\n",
    "    y = am.big_pow(α, a, p)\n",
    "    # write on files the keys\n",
    "    with open(\"DSS_KEY.pub\", 'w') as f:\n",
    "        f.write(str(p) + \"\\n\" + str(q) + \"\\n\" + str(α) + \"\\n\" + str(y))\n",
    "        \n",
    "    with open(\"DSS_KEY\", 'w') as f:\n",
    "        f.write(str(a))\n",
    "    \n",
    "\n",
    "generate_DSS_keys()"
   ]
  },
  {
   "cell_type": "code",
   "execution_count": null,
   "metadata": {
    "collapsed": true
   },
   "outputs": [],
   "source": [
    "def DSS_sign_document(document, public_key, hash_f = 1):\n",
    "    # get the public key\n",
    "    with open(public_key, 'r') as f:\n",
    "        p, q = int(f.readline()), int(f.readline())\n",
    "        α, y = int(f.readline()), int(f.readline())\n",
    "     \n",
    "   # and the private key \n",
    "    with open(private_key, 'r') as f:\n",
    "        a = int(f.readline())\n",
    "    \n",
    "    # get the hash of the document\n",
    "    with open(document, 'rb') as f:\n",
    "        h_m = get_hash(f, hash_f)\n",
    "        \n",
    "    # select a random secret integer:  0 < k < q\n",
    "    k = randint(1, q - 1)\n",
    "    # compute r = (α^k mod p) mod q\n",
    "    r = am.big_pow(α, k, p) % q\n",
    "    # compute k^-1 mod q\n",
    "    inv_k = am.inverse(k, q)\n",
    "    # sing = k^-1 * {h(m) + ar} mod q\n",
    "    sign = (inv_k * (h_m + a*r)) % q\n",
    "    \n",
    "    with open(\"sing_of_\"+document, 'w') as f:\n",
    "        f.write(str(r) + \"\\n\" + str(s))"
   ]
  },
  {
   "cell_type": "code",
   "execution_count": 17,
   "metadata": {},
   "outputs": [],
   "source": [
    "def DSS_check_sign(sign_file, document, public_key, hash_f = 1):\n",
    "    # get the public key\n",
    "    with open(public_key, 'r') as f:\n",
    "        p, q = int(f.readline()), int(f.readline())\n",
    "        α, y = int(f.readline()), int(f.readline())\n",
    "        \n",
    "    # get the sign\n",
    "    with open(document, 'rb') as f:\n",
    "        r, s = int(f.readline()), int(f.readline())\n",
    "        \n",
    "    # verify the values of r and s    \n",
    "    if 0 < r < q or 0 < s < q:\n",
    "        raise ValueError(\"Bad sign error.\")\n",
    "        \n",
    "    # compute w = s^-1 mod q and h(m)\n",
    "    w = am.inverse(s, q)\n",
    "    \n",
    "    with open(document, 'rb') as f:\n",
    "        h_m = get_hash(f, hash_f)\n",
    "    \n",
    "    # compute  u1 = w*h(m) mod q and u2 = rw mod q\n",
    "    u1, u2 = (w*h_m) % q, (r*w) % q\n",
    "    # compute v = (α^u1 * y^u2 mod p) mod q\n",
    "    v = (am.big_pow(α, u1, p) * am.big_pow(y, u2, p) % p) % q\n",
    "    # accept the signature if and only if v = r\n",
    "    return v == r"
   ]
  }
 ],
 "metadata": {
  "kernelspec": {
   "display_name": "Python 3",
   "language": "python",
   "name": "python3"
  },
  "language_info": {
   "codemirror_mode": {
    "name": "ipython",
    "version": 3
   },
   "file_extension": ".py",
   "mimetype": "text/x-python",
   "name": "python",
   "nbconvert_exporter": "python",
   "pygments_lexer": "ipython3",
   "version": "3.6.1"
  }
 },
 "nbformat": 4,
 "nbformat_minor": 2
}
